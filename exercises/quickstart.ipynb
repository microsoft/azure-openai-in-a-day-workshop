{
 "cells": [
  {
   "attachments": {},
   "cell_type": "markdown",
   "metadata": {},
   "source": [
    "# Quickstart\n",
    "\n",
    "This notebook is just to make sure that everything works. Firstly, create a file called `.env` in this folder, and add the following content, obviously with your values. There are two ways to authenticate: using a token or using the Azure CLI (AAD authentication). The Azure CLI is the recommended way.\n",
    "\n",
    "```\n",
    "OPENAI_API_KEY=xxxxxx\n",
    "OPENAI_API_BASE=https://xxxxxxx.openai.azure.com/\n",
    "```\n",
    "\n",
    "When authenticating using Azure CLI + Azure AD, open a terminal and run the following command: `az login --use-device-code`. This will open a browser window where you can authenticate. After authentication, use Option 1 code to run and you are good to go.\n",
    "\n",
    "*(You could as well run the following command to get the token: `az account get-access-token --resource https://management.core.windows.net/ --query accessToken -o tsv`. Copy the token and add it to the `.env` file and then use the token to authenticate.)*\n",
    "\n",
    "> **🔔 Please note that in all following notebooks you will need to set the authentication method accordingly!**"
   ]
  },
  {
   "cell_type": "code",
   "execution_count": 7,
   "metadata": {},
   "outputs": [
    {
     "data": {
      "text/plain": [
       "'/workspaces/azure-openai-in-a-day-workshop/exercises'"
      ]
     },
     "execution_count": 7,
     "metadata": {},
     "output_type": "execute_result"
    }
   ],
   "source": [
    "pwd"
   ]
  },
  {
   "cell_type": "code",
   "execution_count": 10,
   "metadata": {},
   "outputs": [
    {
     "name": "stdout",
     "output_type": "stream",
     "text": [
      "Defaulting to user installation because normal site-packages is not writeable\n",
      "Collecting azure-identity==1.6.0 (from -r ../requirements.txt (line 1))\n",
      "  Using cached azure_identity-1.6.0-py2.py3-none-any.whl (108 kB)\n",
      "Collecting streamlit==1.18.1 (from -r ../requirements.txt (line 2))\n",
      "  Using cached streamlit-1.18.1-py2.py3-none-any.whl (9.6 MB)\n",
      "Collecting openai==0.27.1 (from -r ../requirements.txt (line 3))\n",
      "  Using cached openai-0.27.1.tar.gz (57 kB)\n",
      "  Installing build dependencies ... \u001b[?25ldone\n",
      "\u001b[?25h  Getting requirements to build wheel ... \u001b[?25ldone\n",
      "\u001b[?25h  Installing backend dependencies ... \u001b[?25ldone\n",
      "\u001b[?25h  Preparing metadata (pyproject.toml) ... \u001b[?25ldone\n",
      "\u001b[?25hCollecting python-dotenv==0.21.0 (from -r ../requirements.txt (line 4))\n",
      "  Using cached python_dotenv-0.21.0-py3-none-any.whl (18 kB)\n",
      "Collecting numpy (from -r ../requirements.txt (line 5))\n",
      "  Using cached numpy-1.24.3-cp39-cp39-manylinux_2_17_x86_64.manylinux2014_x86_64.whl (17.3 MB)\n",
      "Collecting pandas (from -r ../requirements.txt (line 6))\n",
      "  Using cached pandas-2.0.2-cp39-cp39-manylinux_2_17_x86_64.manylinux2014_x86_64.whl (12.4 MB)\n",
      "Collecting matplotlib==3.6.3 (from -r ../requirements.txt (line 7))\n",
      "  Using cached matplotlib-3.6.3-cp39-cp39-manylinux_2_17_x86_64.manylinux2014_x86_64.whl (11.8 MB)\n",
      "Collecting plotly==5.12.0 (from -r ../requirements.txt (line 8))\n",
      "  Using cached plotly-5.12.0-py2.py3-none-any.whl (15.2 MB)\n",
      "Collecting scipy==1.10.0 (from -r ../requirements.txt (line 9))\n",
      "  Using cached scipy-1.10.0-cp39-cp39-manylinux_2_17_x86_64.manylinux2014_x86_64.whl (34.4 MB)\n",
      "Collecting scikit-learn==1.2.0 (from -r ../requirements.txt (line 10))\n",
      "  Using cached scikit_learn-1.2.0-cp39-cp39-manylinux_2_17_x86_64.manylinux2014_x86_64.whl (9.5 MB)\n",
      "Collecting tenacity (from -r ../requirements.txt (line 11))\n",
      "  Using cached tenacity-8.2.2-py3-none-any.whl (24 kB)\n",
      "Collecting tiktoken==0.3.0 (from -r ../requirements.txt (line 12))\n",
      "  Using cached tiktoken-0.3.0-cp39-cp39-manylinux_2_17_x86_64.manylinux2014_x86_64.whl (1.6 MB)\n",
      "Collecting llama-index==0.4.33 (from -r ../requirements.txt (line 13))\n",
      "  Using cached llama_index-0.4.33.tar.gz (147 kB)\n",
      "  Preparing metadata (setup.py) ... \u001b[?25ldone\n",
      "\u001b[?25hCollecting langchain==0.0.129 (from -r ../requirements.txt (line 14))\n",
      "  Using cached langchain-0.0.129-py3-none-any.whl (467 kB)\n",
      "Collecting faiss-cpu (from -r ../requirements.txt (line 15))\n",
      "  Downloading faiss_cpu-1.7.4-cp39-cp39-manylinux_2_17_x86_64.manylinux2014_x86_64.whl (17.6 MB)\n",
      "\u001b[2K     \u001b[90m━━━━━━━━━━━━━━━━━━━━━━━━━━━━━━━━━━━━━━━━\u001b[0m \u001b[32m17.6/17.6 MB\u001b[0m \u001b[31m39.7 MB/s\u001b[0m eta \u001b[36m0:00:00\u001b[0m00:01\u001b[0m00:01\u001b[0m\n",
      "\u001b[?25hCollecting azure-core<2.0.0,>=1.0.0 (from azure-identity==1.6.0->-r ../requirements.txt (line 1))\n",
      "  Downloading azure_core-1.27.0-py3-none-any.whl (174 kB)\n",
      "\u001b[2K     \u001b[90m━━━━━━━━━━━━━━━━━━━━━━━━━━━━━━━━━━━━━━━\u001b[0m \u001b[32m174.2/174.2 kB\u001b[0m \u001b[31m7.7 MB/s\u001b[0m eta \u001b[36m0:00:00\u001b[0m\n",
      "\u001b[?25hCollecting cryptography>=2.1.4 (from azure-identity==1.6.0->-r ../requirements.txt (line 1))\n",
      "  Downloading cryptography-41.0.1-cp37-abi3-manylinux_2_28_x86_64.whl (4.3 MB)\n",
      "\u001b[2K     \u001b[90m━━━━━━━━━━━━━━━━━━━━━━━━━━━━━━━━━━━━━━━━\u001b[0m \u001b[32m4.3/4.3 MB\u001b[0m \u001b[31m53.5 MB/s\u001b[0m eta \u001b[36m0:00:00\u001b[0m:00:01\u001b[0m\n",
      "\u001b[?25hCollecting msal<2.0.0,>=1.7.0 (from azure-identity==1.6.0->-r ../requirements.txt (line 1))\n",
      "  Downloading msal-1.22.0-py2.py3-none-any.whl (90 kB)\n",
      "\u001b[2K     \u001b[90m━━━━━━━━━━━━━━━━━━━━━━━━━━━━━━━━━━━━━━━━\u001b[0m \u001b[32m90.0/90.0 kB\u001b[0m \u001b[31m3.9 MB/s\u001b[0m eta \u001b[36m0:00:00\u001b[0m\n",
      "\u001b[?25hCollecting msal-extensions~=0.3.0 (from azure-identity==1.6.0->-r ../requirements.txt (line 1))\n",
      "  Downloading msal_extensions-0.3.1-py2.py3-none-any.whl (18 kB)\n",
      "Requirement already satisfied: six>=1.12.0 in /home/vscode/.local/lib/python3.9/site-packages (from azure-identity==1.6.0->-r ../requirements.txt (line 1)) (1.16.0)\n",
      "Collecting altair>=3.2.0 (from streamlit==1.18.1->-r ../requirements.txt (line 2))\n",
      "  Downloading altair-5.0.1-py3-none-any.whl (471 kB)\n",
      "\u001b[2K     \u001b[90m━━━━━━━━━━━━━━━━━━━━━━━━━━━━━━━━━━━━━━\u001b[0m \u001b[32m471.5/471.5 kB\u001b[0m \u001b[31m18.3 MB/s\u001b[0m eta \u001b[36m0:00:00\u001b[0m\n",
      "\u001b[?25hCollecting blinker>=1.0.0 (from streamlit==1.18.1->-r ../requirements.txt (line 2))\n",
      "  Downloading blinker-1.6.2-py3-none-any.whl (13 kB)\n",
      "Collecting cachetools>=4.0 (from streamlit==1.18.1->-r ../requirements.txt (line 2))\n",
      "  Downloading cachetools-5.3.1-py3-none-any.whl (9.3 kB)\n",
      "Collecting click>=7.0 (from streamlit==1.18.1->-r ../requirements.txt (line 2))\n",
      "  Downloading click-8.1.3-py3-none-any.whl (96 kB)\n",
      "\u001b[2K     \u001b[90m━━━━━━━━━━━━━━━━━━━━━━━━━━━━━━━━━━━━━━━━\u001b[0m \u001b[32m96.6/96.6 kB\u001b[0m \u001b[31m4.3 MB/s\u001b[0m eta \u001b[36m0:00:00\u001b[0m\n",
      "\u001b[?25hRequirement already satisfied: importlib-metadata>=1.4 in /home/vscode/.local/lib/python3.9/site-packages (from streamlit==1.18.1->-r ../requirements.txt (line 2)) (6.6.0)\n",
      "Requirement already satisfied: packaging>=14.1 in /home/vscode/.local/lib/python3.9/site-packages (from streamlit==1.18.1->-r ../requirements.txt (line 2)) (23.1)\n",
      "Collecting pillow>=6.2.0 (from streamlit==1.18.1->-r ../requirements.txt (line 2))\n",
      "  Downloading Pillow-9.5.0-cp39-cp39-manylinux_2_28_x86_64.whl (3.4 MB)\n",
      "\u001b[2K     \u001b[90m━━━━━━━━━━━━━━━━━━━━━━━━━━━━━━━━━━━━━━━━\u001b[0m \u001b[32m3.4/3.4 MB\u001b[0m \u001b[31m57.9 MB/s\u001b[0m eta \u001b[36m0:00:00\u001b[0m:00:01\u001b[0m\n",
      "\u001b[?25hCollecting protobuf<4,>=3.12 (from streamlit==1.18.1->-r ../requirements.txt (line 2))\n",
      "  Downloading protobuf-3.20.3-cp39-cp39-manylinux_2_5_x86_64.manylinux1_x86_64.whl (1.0 MB)\n",
      "\u001b[2K     \u001b[90m━━━━━━━━━━━━━━━━━━━━━━━━━━━━━━━━━━━━━━━━\u001b[0m \u001b[32m1.0/1.0 MB\u001b[0m \u001b[31m27.5 MB/s\u001b[0m eta \u001b[36m0:00:00\u001b[0m:00:01\u001b[0m\n",
      "\u001b[?25hCollecting pyarrow>=4.0 (from streamlit==1.18.1->-r ../requirements.txt (line 2))\n",
      "  Downloading pyarrow-12.0.0-cp39-cp39-manylinux_2_17_x86_64.manylinux2014_x86_64.whl (39.0 MB)\n",
      "\u001b[2K     \u001b[90m━━━━━━━━━━━━━━━━━━━━━━━━━━━━━━━━━━━━━━━━\u001b[0m \u001b[32m39.0/39.0 MB\u001b[0m \u001b[31m20.2 MB/s\u001b[0m eta \u001b[36m0:00:00\u001b[0m00:01\u001b[0m00:01\u001b[0m\n",
      "\u001b[?25hCollecting pympler>=0.9 (from streamlit==1.18.1->-r ../requirements.txt (line 2))\n",
      "  Downloading Pympler-1.0.1-py3-none-any.whl (164 kB)\n",
      "\u001b[2K     \u001b[90m━━━━━━━━━━━━━━━━━━━━━━━━━━━━━━━━━━━━━━━\u001b[0m \u001b[32m164.8/164.8 kB\u001b[0m \u001b[31m7.1 MB/s\u001b[0m eta \u001b[36m0:00:00\u001b[0m\n",
      "\u001b[?25hRequirement already satisfied: python-dateutil in /home/vscode/.local/lib/python3.9/site-packages (from streamlit==1.18.1->-r ../requirements.txt (line 2)) (2.8.2)\n",
      "Requirement already satisfied: requests>=2.4 in /home/vscode/.local/lib/python3.9/site-packages (from streamlit==1.18.1->-r ../requirements.txt (line 2)) (2.31.0)\n",
      "Collecting rich>=10.11.0 (from streamlit==1.18.1->-r ../requirements.txt (line 2))\n",
      "  Downloading rich-13.4.1-py3-none-any.whl (239 kB)\n",
      "\u001b[2K     \u001b[90m━━━━━━━━━━━━━━━━━━━━━━━━━━━━━━━━━━━━━━━\u001b[0m \u001b[32m239.4/239.4 kB\u001b[0m \u001b[31m9.1 MB/s\u001b[0m eta \u001b[36m0:00:00\u001b[0m\n",
      "\u001b[?25hCollecting semver (from streamlit==1.18.1->-r ../requirements.txt (line 2))\n",
      "  Downloading semver-3.0.0-py3-none-any.whl (17 kB)\n",
      "Collecting toml (from streamlit==1.18.1->-r ../requirements.txt (line 2))\n",
      "  Downloading toml-0.10.2-py2.py3-none-any.whl (16 kB)\n",
      "Requirement already satisfied: typing-extensions>=3.10.0.0 in /home/vscode/.local/lib/python3.9/site-packages (from streamlit==1.18.1->-r ../requirements.txt (line 2)) (4.6.3)\n",
      "Collecting tzlocal>=1.1 (from streamlit==1.18.1->-r ../requirements.txt (line 2))\n",
      "  Downloading tzlocal-5.0.1-py3-none-any.whl (20 kB)\n",
      "Collecting validators>=0.2 (from streamlit==1.18.1->-r ../requirements.txt (line 2))\n",
      "  Downloading validators-0.20.0.tar.gz (30 kB)\n",
      "  Preparing metadata (setup.py) ... \u001b[?25ldone\n",
      "\u001b[?25hRequirement already satisfied: gitpython!=3.1.19 in /home/vscode/.local/lib/python3.9/site-packages (from streamlit==1.18.1->-r ../requirements.txt (line 2)) (3.1.31)\n",
      "Collecting pydeck>=0.1.dev5 (from streamlit==1.18.1->-r ../requirements.txt (line 2))\n",
      "  Downloading pydeck-0.8.1b0-py2.py3-none-any.whl (4.8 MB)\n",
      "\u001b[2K     \u001b[90m━━━━━━━━━━━━━━━━━━━━━━━━━━━━━━━━━━━━━━━━\u001b[0m \u001b[32m4.8/4.8 MB\u001b[0m \u001b[31m58.3 MB/s\u001b[0m eta \u001b[36m0:00:00\u001b[0m:00:01\u001b[0m\n",
      "\u001b[?25hRequirement already satisfied: tornado>=6.0.3 in /home/vscode/.local/lib/python3.9/site-packages (from streamlit==1.18.1->-r ../requirements.txt (line 2)) (6.3.2)\n",
      "Collecting watchdog (from streamlit==1.18.1->-r ../requirements.txt (line 2))\n",
      "  Downloading watchdog-3.0.0-py3-none-manylinux2014_x86_64.whl (82 kB)\n",
      "\u001b[2K     \u001b[90m━━━━━━━━━━━━━━━━━━━━━━━━━━━━━━━━━━━━━━━━\u001b[0m \u001b[32m82.1/82.1 kB\u001b[0m \u001b[31m4.1 MB/s\u001b[0m eta \u001b[36m0:00:00\u001b[0m\n",
      "\u001b[?25hCollecting tqdm (from openai==0.27.1->-r ../requirements.txt (line 3))\n",
      "  Downloading tqdm-4.65.0-py3-none-any.whl (77 kB)\n",
      "\u001b[2K     \u001b[90m━━━━━━━━━━━━━━━━━━━━━━━━━━━━━━━━━━━━━━━━\u001b[0m \u001b[32m77.1/77.1 kB\u001b[0m \u001b[31m3.2 MB/s\u001b[0m eta \u001b[36m0:00:00\u001b[0m\n",
      "\u001b[?25hCollecting aiohttp (from openai==0.27.1->-r ../requirements.txt (line 3))\n",
      "  Downloading aiohttp-3.8.4-cp39-cp39-manylinux_2_17_x86_64.manylinux2014_x86_64.whl (1.0 MB)\n",
      "\u001b[2K     \u001b[90m━━━━━━━━━━━━━━━━━━━━━━━━━━━━━━━━━━━━━━━━\u001b[0m \u001b[32m1.0/1.0 MB\u001b[0m \u001b[31m26.8 MB/s\u001b[0m eta \u001b[36m0:00:00\u001b[0m:00:01\u001b[0m\n",
      "\u001b[?25hCollecting contourpy>=1.0.1 (from matplotlib==3.6.3->-r ../requirements.txt (line 7))\n",
      "  Downloading contourpy-1.0.7-cp39-cp39-manylinux_2_17_x86_64.manylinux2014_x86_64.whl (299 kB)\n",
      "\u001b[2K     \u001b[90m━━━━━━━━━━━━━━━━━━━━━━━━━━━━━━━━━━━━━━\u001b[0m \u001b[32m299.7/299.7 kB\u001b[0m \u001b[31m13.1 MB/s\u001b[0m eta \u001b[36m0:00:00\u001b[0m\n",
      "\u001b[?25hCollecting cycler>=0.10 (from matplotlib==3.6.3->-r ../requirements.txt (line 7))\n",
      "  Downloading cycler-0.11.0-py3-none-any.whl (6.4 kB)\n",
      "Collecting fonttools>=4.22.0 (from matplotlib==3.6.3->-r ../requirements.txt (line 7))\n",
      "  Downloading fonttools-4.39.4-py3-none-any.whl (1.0 MB)\n",
      "\u001b[2K     \u001b[90m━━━━━━━━━━━━━━━━━━━━━━━━━━━━━━━━━━━━━━━━\u001b[0m \u001b[32m1.0/1.0 MB\u001b[0m \u001b[31m26.4 MB/s\u001b[0m eta \u001b[36m0:00:00\u001b[0m:00:01\u001b[0m\n",
      "\u001b[?25hCollecting kiwisolver>=1.0.1 (from matplotlib==3.6.3->-r ../requirements.txt (line 7))\n",
      "  Downloading kiwisolver-1.4.4-cp39-cp39-manylinux_2_12_x86_64.manylinux2010_x86_64.whl (1.6 MB)\n",
      "\u001b[2K     \u001b[90m━━━━━━━━━━━━━━━━━━━━━━━━━━━━━━━━━━━━━━━━\u001b[0m \u001b[32m1.6/1.6 MB\u001b[0m \u001b[31m36.5 MB/s\u001b[0m eta \u001b[36m0:00:00\u001b[0m:00:01\u001b[0m\n",
      "\u001b[?25hCollecting pyparsing>=2.2.1 (from matplotlib==3.6.3->-r ../requirements.txt (line 7))\n",
      "  Downloading pyparsing-3.0.9-py3-none-any.whl (98 kB)\n",
      "\u001b[2K     \u001b[90m━━━━━━━━━━━━━━━━━━━━━━━━━━━━━━━━━━━━━━━━\u001b[0m \u001b[32m98.3/98.3 kB\u001b[0m \u001b[31m4.5 MB/s\u001b[0m eta \u001b[36m0:00:00\u001b[0m\n",
      "\u001b[?25hCollecting joblib>=1.1.1 (from scikit-learn==1.2.0->-r ../requirements.txt (line 10))\n",
      "  Downloading joblib-1.2.0-py3-none-any.whl (297 kB)\n",
      "\u001b[2K     \u001b[90m━━━━━━━━━━━━━━━━━━━━━━━━━━━━━━━━━━━━━━\u001b[0m \u001b[32m298.0/298.0 kB\u001b[0m \u001b[31m13.0 MB/s\u001b[0m eta \u001b[36m0:00:00\u001b[0m\n",
      "\u001b[?25hCollecting threadpoolctl>=2.0.0 (from scikit-learn==1.2.0->-r ../requirements.txt (line 10))\n",
      "  Downloading threadpoolctl-3.1.0-py3-none-any.whl (14 kB)\n",
      "Collecting blobfile>=2 (from tiktoken==0.3.0->-r ../requirements.txt (line 12))\n",
      "  Downloading blobfile-2.0.2-py3-none-any.whl (74 kB)\n",
      "\u001b[2K     \u001b[90m━━━━━━━━━━━━━━━━━━━━━━━━━━━━━━━━━━━━━━━━\u001b[0m \u001b[32m74.5/74.5 kB\u001b[0m \u001b[31m3.5 MB/s\u001b[0m eta \u001b[36m0:00:00\u001b[0m\n",
      "\u001b[?25hCollecting regex>=2022.1.18 (from tiktoken==0.3.0->-r ../requirements.txt (line 12))\n",
      "  Downloading regex-2023.6.3-cp39-cp39-manylinux_2_17_x86_64.manylinux2014_x86_64.whl (769 kB)\n",
      "\u001b[2K     \u001b[90m━━━━━━━━━━━━━━━━━━━━━━━━━━━━━━━━━━━━━━\u001b[0m \u001b[32m769.9/769.9 kB\u001b[0m \u001b[31m23.2 MB/s\u001b[0m eta \u001b[36m0:00:00\u001b[0m\n",
      "\u001b[?25hCollecting dataclasses_json (from llama-index==0.4.33->-r ../requirements.txt (line 13))\n",
      "  Downloading dataclasses_json-0.5.7-py3-none-any.whl (25 kB)\n",
      "Requirement already satisfied: PyYAML>=5.4.1 in /home/vscode/.local/lib/python3.9/site-packages (from langchain==0.0.129->-r ../requirements.txt (line 14)) (6.0)\n",
      "Collecting SQLAlchemy<2,>=1 (from langchain==0.0.129->-r ../requirements.txt (line 14))\n",
      "  Downloading SQLAlchemy-1.4.48-cp39-cp39-manylinux_2_5_x86_64.manylinux1_x86_64.manylinux_2_17_x86_64.manylinux2014_x86_64.whl (1.6 MB)\n",
      "\u001b[2K     \u001b[90m━━━━━━━━━━━━━━━━━━━━━━━━━━━━━━━━━━━━━━━━\u001b[0m \u001b[32m1.6/1.6 MB\u001b[0m \u001b[31m37.2 MB/s\u001b[0m eta \u001b[36m0:00:00\u001b[0m:00:01\u001b[0m\n",
      "\u001b[?25hCollecting pydantic<2,>=1 (from langchain==0.0.129->-r ../requirements.txt (line 14))\n",
      "  Downloading pydantic-1.10.8-cp39-cp39-manylinux_2_17_x86_64.manylinux2014_x86_64.whl (3.2 MB)\n",
      "\u001b[2K     \u001b[90m━━━━━━━━━━━━━━━━━━━━━━━━━━━━━━━━━━━━━━━━\u001b[0m \u001b[32m3.2/3.2 MB\u001b[0m \u001b[31m48.6 MB/s\u001b[0m eta \u001b[36m0:00:00\u001b[0m:00:01\u001b[0m\n",
      "\u001b[?25hCollecting pytz>=2020.1 (from pandas->-r ../requirements.txt (line 6))\n",
      "  Downloading pytz-2023.3-py2.py3-none-any.whl (502 kB)\n",
      "\u001b[2K     \u001b[90m━━━━━━━━━━━━━━━━━━━━━━━━━━━━━━━━━━━━━━\u001b[0m \u001b[32m502.3/502.3 kB\u001b[0m \u001b[31m17.8 MB/s\u001b[0m eta \u001b[36m0:00:00\u001b[0m\n",
      "\u001b[?25hCollecting tzdata>=2022.1 (from pandas->-r ../requirements.txt (line 6))\n",
      "  Downloading tzdata-2023.3-py2.py3-none-any.whl (341 kB)\n",
      "\u001b[2K     \u001b[90m━━━━━━━━━━━━━━━━━━━━━━━━━━━━━━━━━━━━━━\u001b[0m \u001b[32m341.8/341.8 kB\u001b[0m \u001b[31m12.9 MB/s\u001b[0m eta \u001b[36m0:00:00\u001b[0m\n",
      "\u001b[?25hRequirement already satisfied: attrs>=17.3.0 in /home/vscode/.local/lib/python3.9/site-packages (from aiohttp->openai==0.27.1->-r ../requirements.txt (line 3)) (23.1.0)\n",
      "Requirement already satisfied: charset-normalizer<4.0,>=2.0 in /home/vscode/.local/lib/python3.9/site-packages (from aiohttp->openai==0.27.1->-r ../requirements.txt (line 3)) (3.1.0)\n",
      "Collecting multidict<7.0,>=4.5 (from aiohttp->openai==0.27.1->-r ../requirements.txt (line 3))\n",
      "  Downloading multidict-6.0.4-cp39-cp39-manylinux_2_17_x86_64.manylinux2014_x86_64.whl (114 kB)\n",
      "\u001b[2K     \u001b[90m━━━━━━━━━━━━━━━━━━━━━━━━━━━━━━━━━━━━━━━\u001b[0m \u001b[32m114.2/114.2 kB\u001b[0m \u001b[31m5.0 MB/s\u001b[0m eta \u001b[36m0:00:00\u001b[0m\n",
      "\u001b[?25hCollecting async-timeout<5.0,>=4.0.0a3 (from aiohttp->openai==0.27.1->-r ../requirements.txt (line 3))\n",
      "  Downloading async_timeout-4.0.2-py3-none-any.whl (5.8 kB)\n",
      "Collecting yarl<2.0,>=1.0 (from aiohttp->openai==0.27.1->-r ../requirements.txt (line 3))\n",
      "  Downloading yarl-1.9.2-cp39-cp39-manylinux_2_17_x86_64.manylinux2014_x86_64.whl (269 kB)\n",
      "\u001b[2K     \u001b[90m━━━━━━━━━━━━━━━━━━━━━━━━━━━━━━━━━━━━━━\u001b[0m \u001b[32m269.4/269.4 kB\u001b[0m \u001b[31m12.0 MB/s\u001b[0m eta \u001b[36m0:00:00\u001b[0m\n",
      "\u001b[?25hCollecting frozenlist>=1.1.1 (from aiohttp->openai==0.27.1->-r ../requirements.txt (line 3))\n",
      "  Downloading frozenlist-1.3.3-cp39-cp39-manylinux_2_5_x86_64.manylinux1_x86_64.manylinux_2_17_x86_64.manylinux2014_x86_64.whl (158 kB)\n",
      "\u001b[2K     \u001b[90m━━━━━━━━━━━━━━━━━━━━━━━━━━━━━━━━━━━━━━━\u001b[0m \u001b[32m158.8/158.8 kB\u001b[0m \u001b[31m7.2 MB/s\u001b[0m eta \u001b[36m0:00:00\u001b[0m\n",
      "\u001b[?25hCollecting aiosignal>=1.1.2 (from aiohttp->openai==0.27.1->-r ../requirements.txt (line 3))\n",
      "  Downloading aiosignal-1.3.1-py3-none-any.whl (7.6 kB)\n",
      "Requirement already satisfied: jinja2 in /home/vscode/.local/lib/python3.9/site-packages (from altair>=3.2.0->streamlit==1.18.1->-r ../requirements.txt (line 2)) (3.1.2)\n",
      "Requirement already satisfied: jsonschema>=3.0 in /home/vscode/.local/lib/python3.9/site-packages (from altair>=3.2.0->streamlit==1.18.1->-r ../requirements.txt (line 2)) (4.17.3)\n",
      "Collecting toolz (from altair>=3.2.0->streamlit==1.18.1->-r ../requirements.txt (line 2))\n",
      "  Downloading toolz-0.12.0-py3-none-any.whl (55 kB)\n",
      "\u001b[2K     \u001b[90m━━━━━━━━━━━━━━━━━━━━━━━━━━━━━━━━━━━━━━━━\u001b[0m \u001b[32m55.8/55.8 kB\u001b[0m \u001b[31m2.7 MB/s\u001b[0m eta \u001b[36m0:00:00\u001b[0m\n",
      "\u001b[?25hCollecting pycryptodomex~=3.8 (from blobfile>=2->tiktoken==0.3.0->-r ../requirements.txt (line 12))\n",
      "  Downloading pycryptodomex-3.18.0-cp35-abi3-manylinux_2_17_x86_64.manylinux2014_x86_64.whl (2.1 MB)\n",
      "\u001b[2K     \u001b[90m━━━━━━━━━━━━━━━━━━━━━━━━━━━━━━━━━━━━━━━━\u001b[0m \u001b[32m2.1/2.1 MB\u001b[0m \u001b[31m34.5 MB/s\u001b[0m eta \u001b[36m0:00:00\u001b[0m:00:01\u001b[0m\n",
      "\u001b[?25hRequirement already satisfied: urllib3<3,>=1.25.3 in /home/vscode/.local/lib/python3.9/site-packages (from blobfile>=2->tiktoken==0.3.0->-r ../requirements.txt (line 12)) (2.0.2)\n",
      "Collecting lxml~=4.9 (from blobfile>=2->tiktoken==0.3.0->-r ../requirements.txt (line 12))\n",
      "  Downloading lxml-4.9.2-cp39-cp39-manylinux_2_17_x86_64.manylinux2014_x86_64.manylinux_2_24_x86_64.whl (7.1 MB)\n",
      "\u001b[2K     \u001b[90m━━━━━━━━━━━━━━━━━━━━━━━━━━━━━━━━━━━━━━━━\u001b[0m \u001b[32m7.1/7.1 MB\u001b[0m \u001b[31m60.0 MB/s\u001b[0m eta \u001b[36m0:00:00\u001b[0m:00:01\u001b[0m\n",
      "\u001b[?25hCollecting filelock~=3.0 (from blobfile>=2->tiktoken==0.3.0->-r ../requirements.txt (line 12))\n",
      "  Downloading filelock-3.12.0-py3-none-any.whl (10 kB)\n",
      "Requirement already satisfied: cffi>=1.12 in /home/vscode/.local/lib/python3.9/site-packages (from cryptography>=2.1.4->azure-identity==1.6.0->-r ../requirements.txt (line 1)) (1.15.1)\n",
      "Collecting marshmallow<4.0.0,>=3.3.0 (from dataclasses_json->llama-index==0.4.33->-r ../requirements.txt (line 13))\n",
      "  Downloading marshmallow-3.19.0-py3-none-any.whl (49 kB)\n",
      "\u001b[2K     \u001b[90m━━━━━━━━━━━━━━━━━━━━━━━━━━━━━━━━━━━━━━━━\u001b[0m \u001b[32m49.1/49.1 kB\u001b[0m \u001b[31m2.3 MB/s\u001b[0m eta \u001b[36m0:00:00\u001b[0m\n",
      "\u001b[?25hCollecting marshmallow-enum<2.0.0,>=1.5.1 (from dataclasses_json->llama-index==0.4.33->-r ../requirements.txt (line 13))\n",
      "  Downloading marshmallow_enum-1.5.1-py2.py3-none-any.whl (4.2 kB)\n",
      "Collecting typing-inspect>=0.4.0 (from dataclasses_json->llama-index==0.4.33->-r ../requirements.txt (line 13))\n",
      "  Downloading typing_inspect-0.9.0-py3-none-any.whl (8.8 kB)\n",
      "Requirement already satisfied: gitdb<5,>=4.0.1 in /home/vscode/.local/lib/python3.9/site-packages (from gitpython!=3.1.19->streamlit==1.18.1->-r ../requirements.txt (line 2)) (4.0.10)\n",
      "Requirement already satisfied: zipp>=0.5 in /home/vscode/.local/lib/python3.9/site-packages (from importlib-metadata>=1.4->streamlit==1.18.1->-r ../requirements.txt (line 2)) (3.15.0)\n",
      "Collecting PyJWT[crypto]<3,>=1.0.0 (from msal<2.0.0,>=1.7.0->azure-identity==1.6.0->-r ../requirements.txt (line 1))\n",
      "  Downloading PyJWT-2.7.0-py3-none-any.whl (22 kB)\n",
      "Collecting portalocker<3,>=1.0 (from msal-extensions~=0.3.0->azure-identity==1.6.0->-r ../requirements.txt (line 1))\n",
      "  Downloading portalocker-2.7.0-py2.py3-none-any.whl (15 kB)\n",
      "Requirement already satisfied: idna<4,>=2.5 in /home/vscode/.local/lib/python3.9/site-packages (from requests>=2.4->streamlit==1.18.1->-r ../requirements.txt (line 2)) (3.4)\n",
      "Requirement already satisfied: certifi>=2017.4.17 in /home/vscode/.local/lib/python3.9/site-packages (from requests>=2.4->streamlit==1.18.1->-r ../requirements.txt (line 2)) (2023.5.7)\n",
      "Collecting markdown-it-py<3.0.0,>=2.2.0 (from rich>=10.11.0->streamlit==1.18.1->-r ../requirements.txt (line 2))\n",
      "  Downloading markdown_it_py-2.2.0-py3-none-any.whl (84 kB)\n",
      "\u001b[2K     \u001b[90m━━━━━━━━━━━━━━━━━━━━━━━━━━━━━━━━━━━━━━━━\u001b[0m \u001b[32m84.5/84.5 kB\u001b[0m \u001b[31m3.6 MB/s\u001b[0m eta \u001b[36m0:00:00\u001b[0m\n",
      "\u001b[?25hRequirement already satisfied: pygments<3.0.0,>=2.13.0 in /home/vscode/.local/lib/python3.9/site-packages (from rich>=10.11.0->streamlit==1.18.1->-r ../requirements.txt (line 2)) (2.15.1)\n",
      "Collecting greenlet!=0.4.17 (from SQLAlchemy<2,>=1->langchain==0.0.129->-r ../requirements.txt (line 14))\n",
      "  Downloading greenlet-2.0.2-cp39-cp39-manylinux_2_17_x86_64.manylinux2014_x86_64.whl (610 kB)\n",
      "\u001b[2K     \u001b[90m━━━━━━━━━━━━━━━━━━━━━━━━━━━━━━━━━━━━━━\u001b[0m \u001b[32m610.9/610.9 kB\u001b[0m \u001b[31m22.7 MB/s\u001b[0m eta \u001b[36m0:00:00\u001b[0m\n",
      "\u001b[?25hRequirement already satisfied: decorator>=3.4.0 in /home/vscode/.local/lib/python3.9/site-packages (from validators>=0.2->streamlit==1.18.1->-r ../requirements.txt (line 2)) (5.1.1)\n",
      "Requirement already satisfied: pycparser in /home/vscode/.local/lib/python3.9/site-packages (from cffi>=1.12->cryptography>=2.1.4->azure-identity==1.6.0->-r ../requirements.txt (line 1)) (2.21)\n",
      "Requirement already satisfied: smmap<6,>=3.0.1 in /home/vscode/.local/lib/python3.9/site-packages (from gitdb<5,>=4.0.1->gitpython!=3.1.19->streamlit==1.18.1->-r ../requirements.txt (line 2)) (5.0.0)\n",
      "Requirement already satisfied: MarkupSafe>=2.0 in /home/vscode/.local/lib/python3.9/site-packages (from jinja2->altair>=3.2.0->streamlit==1.18.1->-r ../requirements.txt (line 2)) (2.1.3)\n",
      "Requirement already satisfied: pyrsistent!=0.17.0,!=0.17.1,!=0.17.2,>=0.14.0 in /home/vscode/.local/lib/python3.9/site-packages (from jsonschema>=3.0->altair>=3.2.0->streamlit==1.18.1->-r ../requirements.txt (line 2)) (0.19.3)\n",
      "Collecting mdurl~=0.1 (from markdown-it-py<3.0.0,>=2.2.0->rich>=10.11.0->streamlit==1.18.1->-r ../requirements.txt (line 2))\n",
      "  Downloading mdurl-0.1.2-py3-none-any.whl (10.0 kB)\n",
      "Collecting mypy-extensions>=0.3.0 (from typing-inspect>=0.4.0->dataclasses_json->llama-index==0.4.33->-r ../requirements.txt (line 13))\n",
      "  Downloading mypy_extensions-1.0.0-py3-none-any.whl (4.7 kB)\n",
      "Building wheels for collected packages: openai, llama-index, validators\n",
      "  Building wheel for openai (pyproject.toml) ... \u001b[?25ldone\n",
      "\u001b[?25h  Created wheel for openai: filename=openai-0.27.1-py3-none-any.whl size=70092 sha256=9e890a5f4977dbc81693589075a6b832a6ae7c23f4ba091821d0d0c5b6aa635a\n",
      "  Stored in directory: /home/vscode/.cache/pip/wheels/1f/d1/75/8015df8f7ec8ba5422d8a45786cbb64d421872f488c09303fe\n",
      "  Building wheel for llama-index (setup.py) ... \u001b[?25ldone\n",
      "\u001b[?25h  Created wheel for llama-index: filename=llama_index-0.4.33-py3-none-any.whl size=218536 sha256=2cc9e9911176292214f557708284f0115314b26d2655dcb3f72cf6cf533878e8\n",
      "  Stored in directory: /home/vscode/.cache/pip/wheels/d5/6b/18/d35c649afe4b16c4a33afb1bfe6824c5ca52ef4656d512ac84\n",
      "  Building wheel for validators (setup.py) ... \u001b[?25ldone\n",
      "\u001b[?25h  Created wheel for validators: filename=validators-0.20.0-py3-none-any.whl size=19565 sha256=7c20de098165a0ba0daa68749ced1c02552a28ab39a1e494a689e60f797d8a14\n",
      "  Stored in directory: /home/vscode/.cache/pip/wheels/2d/f0/a8/1094fca7a7e5d0d12ff56e0c64675d72aa5cc81a5fc200e849\n",
      "Successfully built openai llama-index validators\n",
      "Installing collected packages: pytz, faiss-cpu, watchdog, validators, tzlocal, tzdata, tqdm, toolz, toml, threadpoolctl, tenacity, semver, regex, python-dotenv, pyparsing, pympler, PyJWT, pydantic, pycryptodomex, protobuf, portalocker, pillow, numpy, mypy-extensions, multidict, mdurl, marshmallow, lxml, kiwisolver, joblib, greenlet, frozenlist, fonttools, filelock, cycler, click, cachetools, blinker, async-timeout, yarl, typing-inspect, SQLAlchemy, scipy, pydeck, pyarrow, plotly, pandas, marshmallow-enum, markdown-it-py, cryptography, contourpy, blobfile, azure-core, aiosignal, tiktoken, scikit-learn, rich, matplotlib, dataclasses_json, altair, aiohttp, streamlit, openai, msal, langchain, msal-extensions, llama-index, azure-identity\n",
      "Successfully installed PyJWT-2.7.0 SQLAlchemy-1.4.48 aiohttp-3.8.4 aiosignal-1.3.1 altair-5.0.1 async-timeout-4.0.2 azure-core-1.27.0 azure-identity-1.6.0 blinker-1.6.2 blobfile-2.0.2 cachetools-5.3.1 click-8.1.3 contourpy-1.0.7 cryptography-41.0.1 cycler-0.11.0 dataclasses_json-0.5.7 faiss-cpu-1.7.4 filelock-3.12.0 fonttools-4.39.4 frozenlist-1.3.3 greenlet-2.0.2 joblib-1.2.0 kiwisolver-1.4.4 langchain-0.0.129 llama-index-0.4.33 lxml-4.9.2 markdown-it-py-2.2.0 marshmallow-3.19.0 marshmallow-enum-1.5.1 matplotlib-3.6.3 mdurl-0.1.2 msal-1.22.0 msal-extensions-0.3.1 multidict-6.0.4 mypy-extensions-1.0.0 numpy-1.24.3 openai-0.27.1 pandas-2.0.2 pillow-9.5.0 plotly-5.12.0 portalocker-2.7.0 protobuf-3.20.3 pyarrow-12.0.0 pycryptodomex-3.18.0 pydantic-1.10.8 pydeck-0.8.1b0 pympler-1.0.1 pyparsing-3.0.9 python-dotenv-0.21.0 pytz-2023.3 regex-2023.6.3 rich-13.4.1 scikit-learn-1.2.0 scipy-1.10.0 semver-3.0.0 streamlit-1.18.1 tenacity-8.2.2 threadpoolctl-3.1.0 tiktoken-0.3.0 toml-0.10.2 toolz-0.12.0 tqdm-4.65.0 typing-inspect-0.9.0 tzdata-2023.3 tzlocal-5.0.1 validators-0.20.0 watchdog-3.0.0 yarl-1.9.2\n",
      "Note: you may need to restart the kernel to use updated packages.\n"
     ]
    }
   ],
   "source": [
    "%pip install -r ../requirements.txt"
   ]
  },
  {
   "cell_type": "code",
   "execution_count": 5,
   "metadata": {},
   "outputs": [],
   "source": [
    "import os\n",
    "import tiktoken\n",
    "import openai\n",
    "import numpy as np\n",
    "import pandas as pd\n",
    "from dotenv import load_dotenv\n",
    "from azure.identity import DefaultAzureCredential\n",
    "from openai.embeddings_utils import cosine_similarity\n",
    "from tenacity import retry, wait_random_exponential, stop_after_attempt\n",
    "\n",
    "# Load environment variables\n",
    "load_dotenv()\n",
    "\n",
    "# Option 1 - Use Azure AD authentication with az cli (use az login in terminal)\n",
    "#default_credential = DefaultAzureCredential()\n",
    "#token = default_credential.get_token(\"https://cognitiveservices.azure.com/.default\")\n",
    "#openai.api_type = \"azure_ad\"\n",
    "#openai.api_base = os.environ.get(\"OPENAI_API_BASE\")\n",
    "#openai.api_key = token.token\n",
    "#openai.api_version = \"2022-12-01\"\n",
    "\n",
    "# Option 2 - Using Access Key\n",
    "openai.api_type = \"azure\"\n",
    "openai.api_base = os.environ.get(\"OPENAI_API_BASE\")\n",
    "openai.api_key = os.environ.get(\"OPENAI_API_KEY\")\n",
    "openai.api_version = \"2022-12-01\"\n",
    "\n",
    "# Define embedding model and encoding\n",
    "EMBEDDING_MODEL = 'TextEmbeddingAda002'\n",
    "COMPLETION_MODEL = 'TextDavinci003'\n",
    "encoding = tiktoken.get_encoding('cl100k_base')"
   ]
  },
  {
   "attachments": {},
   "cell_type": "markdown",
   "metadata": {},
   "source": [
    "Test if completitions work:"
   ]
  },
  {
   "cell_type": "code",
   "execution_count": 3,
   "metadata": {},
   "outputs": [
    {
     "name": "stdout",
     "output_type": "stream",
     "text": [
      "\n",
      "\n",
      "Who's there?\n",
      "\n",
      "Boo.\n",
      "\n",
      "Boo who?\n",
      "\n"
     ]
    }
   ],
   "source": [
    "response = openai.Completion.create(engine=\"TextDavinci003\",\n",
    "                                    prompt=\"Knock knock.\",\n",
    "                                    temperature=0)\n",
    "print(response.choices[0].text)"
   ]
  },
  {
   "attachments": {},
   "cell_type": "markdown",
   "metadata": {},
   "source": [
    "Do it in a streaming fashion:"
   ]
  },
  {
   "cell_type": "code",
   "execution_count": 4,
   "metadata": {},
   "outputs": [
    {
     "name": "stdout",
     "output_type": "stream",
     "text": [
      "\n",
      "\n",
      "1. Cool down with our delicious ice cream!\n",
      "2. Sweet treats for the whole family!\n",
      "3. Refresh with our heavenly ice cream!\n",
      "4. Deliciousness made to perfection!\n",
      "5. Create sweet memories with our ice cream!\n",
      "6. Lifes better with a scoop of our cream!\n",
      "7. Summer never ends at our shop!\n",
      "8. Our ice cream is the ultimate indulgence!\n",
      "9. Come get a scoop of happiness!\n",
      "10. Smile bigger with a scoop of our ice cream!"
     ]
    }
   ],
   "source": [
    "import sys\n",
    "for resp in openai.Completion.create(engine='TextDavinci003', prompt='Give me 10 taglines for an ice cream shop', max_tokens=512, stream=True):\n",
    "    sys.stdout.write(resp.choices[0].text)\n",
    "    sys.stdout.flush()"
   ]
  },
  {
   "attachments": {},
   "cell_type": "markdown",
   "metadata": {},
   "source": [
    "Test if embeddings work:"
   ]
  },
  {
   "cell_type": "code",
   "execution_count": 6,
   "metadata": {},
   "outputs": [
    {
     "name": "stdout",
     "output_type": "stream",
     "text": [
      "[0.0023968014866113663, 0.0003746475849766284, -0.0021421904675662518, -0.025725144892930984, -0.011554940603673458, 0.0009909399086609483, -0.0146354204043746, 0.003445107489824295, 9.989947284338996e-05, -0.027736887335777283, 0.02377627044916153, 0.0050042071379721165, -0.027636300772428513, -0.01019072812050581, 0.007789211813360453, 0.011680674739181995, 0.024995889514684677, -0.014145057648420334, 0.007342856843024492, 0.009662645868957043, -0.007078815717250109, 0.008518468588590622, 0.010310175828635693, 0.005815190263092518, -0.0061169518157839775, 0.0019190128659829497, 0.004884759895503521, -0.01886007748544216, 0.03756927326321602, -0.024115752428770065, 0.016043638810515404, -0.01224019005894661, -0.0031323444563895464, -0.024505527690052986, 0.009769519791007042, -0.011831555515527725, 0.0027504279278218746, -0.012485370971262455, 0.015301809646189213, -0.018558315932750702, 0.008669348433613777, 0.009813526645302773, 0.0048879035748541355, -0.01362954918295145, -0.040788061916828156, 0.016320252791047096, 0.0021201870404183865, -0.017602737993001938, -0.005287108477205038, 0.021148433908820152, 0.028893638402223587, -0.0010734527604654431, -0.01208930928260088, 0.002076180186122656, -0.013893590308725834, -0.003517404431477189, -0.03759441897273064, 0.024404939264059067, 0.028340408578515053, -0.02655498869717121, 0.01332778763025999, 0.014019324444234371, -0.01098285149782896, 0.0036242781206965446, -0.00899625662714243, 0.005978644359856844, 0.011290899477899075, 0.011140018701553345, -0.007147969212383032, 0.02655498869717121, 0.02118615433573723, -0.00494762696325779, -0.002588545670732856, -0.014773727394640446, 0.016056211665272713, 0.009518052451312542, -0.024442659690976143, 0.0020966120064258575, -0.0004102066741324961, -0.0020573202054947615, 0.03007553704082966, -0.03417446091771126, -0.0032407899852842093, 0.008417881093919277, 0.018017660826444626, -0.002236490836367011, -0.00035676980041898787, 0.015628717839717865, -0.00904026348143816, -0.018608609214425087, 0.0033508071210235357, 0.002294642850756645, 0.0082355672493577, 0.009354597888886929, -0.01527666300535202, 0.008707068860530853, -0.0023763696663081646, 0.02148791402578354, -0.005095364060252905, -0.038499705493450165, -0.015150928869843483, -0.0006149170803837478, -0.006494153290987015, -0.015176075510680676, -0.009128277190029621, 0.012623677961528301, -0.0044195447117090225, 0.0012392642674967647, 0.029044518247246742, 0.011554940603673458, -0.030603619292378426, 0.0056580230593681335, -0.004997920710593462, -0.0379716232419014, 0.0010223733261227608, -0.009668933227658272, 0.004598715342581272, 0.0006797485984861851, -0.0064627197571098804, -0.026429254561662674, 0.02036888338625431, 0.034702543169260025, 0.011699534952640533, -0.01926242560148239, 0.008568761870265007, 0.0030851943884044886, -0.040184538811445236, -0.018658902496099472, -0.007154256105422974, -0.0002946887107100338, 0.03047788515686989, 0.0027677163016051054, 0.003790875431150198, -0.0010813111439347267, -0.03616105392575264, 0.022845840081572533, -0.008864236064255238, 0.013755283318459988, -0.021135859191417694, -0.010926271788775921, 0.000932788010686636, 0.021927982568740845, 0.016810616478323936, -0.007682338356971741, -0.001799565739929676, 0.013742709532380104, 0.0018105674535036087, -0.010498776100575924, 0.0047338795848190784, -0.011636667884886265, -3.74500232283026e-05, 0.01512578222900629, 0.014673139899969101, 0.0055039990693330765, 0.0034136739559471607, 0.02485758252441883, 0.0014050757745280862, 0.01586761139333248, 0.0012439793208613992, -0.01482402067631483, -0.002651412505656481, -0.004240374080836773, 0.0016832619439810514, -0.030301857739686966, 0.011114872060716152, 0.021915409713983536, 0.028290115296840668, 0.004815606400370598, -0.014849167317152023, -0.023839138448238373, -0.007349143270403147, 0.010303888469934464, -0.03917866572737694, 0.030100682750344276, -0.013088894076645374, -0.0025492538698017597, -0.0011316046584397554, 0.020419176667928696, -0.007650904823094606, -0.02305958792567253, -0.025197062641382217, 0.010404475964605808, -0.0022490641567856073, 0.020218003541231155, 0.0066261738538742065, -0.004271807614713907, 0.00541912904009223, -0.011278326623141766, 0.015452690422534943, -0.016521427780389786, 0.016659734770655632, 0.032489627599716187, 0.022820694372057915, 0.025536544620990753, -0.6908320784568787, -0.00953691266477108, 0.018105674535036087, 0.0068273479118943214, 0.01354153547435999, 0.006764480844140053, 0.007223409600555897, 0.02984921634197235, 0.004507558420300484, 0.021135859191417694, -0.019853373989462852, 0.014321085065603256, -0.014233071357011795, -0.00669532734900713, -5.368245911085978e-05, -0.00804067961871624, 0.0011284613283351064, -0.02036888338625431, -0.013528961688280106, 0.015477837063372135, -0.009140850976109505, 0.03148375451564789, -0.02688189595937729, -0.01586761139333248, 0.007053669076412916, 0.011196599341928959, 0.0019551613368093967, -0.005570009350776672, -0.011297185905277729, 0.03057847172021866, -0.0013720706338062882, 0.013692416250705719, 0.005645449738949537, 0.015628717839717865, 0.06342015415430069, 0.010165581479668617, -0.011039432138204575, 0.007581750862300396, 0.012755698524415493, 0.028617024421691895, -0.021337034180760384, -0.023248188197612762, 0.011290899477899075, -0.02018028311431408, -0.006151528563350439, 0.004372394643723965, 0.007204549387097359, -0.0009469330543652177, -0.0027519995346665382, -0.0006432072259485722, 0.022229744121432304, -0.002796006388962269, 0.010926271788775921, 0.015729304403066635, -0.006198678631335497, 0.0013972173910588026, 0.0231601744890213, 0.009354597888886929, -0.0001227869652211666, 0.0005504785222001374, 0.0008958536782301962, 0.01847030222415924, -0.005909490864723921, -0.00021983777696732432, -0.02668072283267975, 0.02836555615067482, -0.021211300045251846, 0.009279157966375351, -0.006120095029473305, -0.006676467135548592, 5.770987263531424e-05, -0.008537327870726585, -0.019815655425190926, -0.023914577439427376, 0.012975732795894146, 0.02856673114001751, 0.018608609214425087, -0.005485139321535826, -0.00226006587035954, 0.019425880163908005, 0.011039432138204575, 0.012673972174525261, -0.01598077267408371, -0.010926271788775921, 0.015842465683817863, -0.023147601634263992, -0.03316858783364296, -0.014962327666580677, 0.007311423309147358, 0.009618639014661312, 0.03163463622331619, 0.009360885247588158, -0.011316046118736267, -0.02498331479728222, 0.02866731770336628, 0.001451440155506134, -0.01507548801600933, 0.0024690984282642603, 0.023122454062104225, -0.004359821323305368, 0.009052837267518044, -0.0036997185088694096, 0.0015064487233757973, 0.012812279164791107, 0.01586761139333248, -0.0012864144518971443, -0.009159711189568043, 0.029824068769812584, 0.029321134090423584, -0.02645440213382244, -0.0020510333124548197, 0.0006302408874034882, -0.04136643558740616, 0.021915409713983536, 0.006450146436691284, -0.028642170131206512, 0.002575972117483616, 0.013415801338851452, 0.028315262869000435, -0.014358805492520332, 0.01767817884683609, -0.008034393191337585, 0.014145057648420334, 0.006456433329731226, 0.004922480322420597, 0.006582166999578476, -0.004318957682698965, -0.0028462999034672976, -0.014321085065603256, -0.007958952337503433, 0.016106506809592247, 0.011026858352124691, -0.004281237721443176, -0.0011237462749704719, 0.010794251225888729, 0.007657191250473261, 0.009989554062485695, -0.014082190580666065, 0.002181482268497348, 0.022141730412840843, -0.001681690220721066, -0.004202654119580984, -0.0020651784725487232, -0.003445107489824295, 0.012868859805166721, -0.018407436087727547, -0.011466926895081997, 0.003825452411547303, 0.010266168974339962, -0.016408266499638557, 0.015653863549232483, -0.010775391012430191, -0.02846614271402359, 0.024719275534152985, -0.0011253179982304573, -0.006245828699320555, 0.010750244371592999, -0.023952297866344452, -0.024052884429693222, -0.03316858783364296, 0.005840337369590998, 0.015326956287026405, -0.004413258284330368, -0.010153008624911308, -0.012950586155056953, -0.021651368588209152, -0.02987436205148697, 0.01796736754477024, 0.007405723910778761, -0.028591876849532127, 0.01149207353591919, -0.0044101146049797535, -0.027787180617451668, -0.0050985077396035194, -0.0011606805492192507, 0.012070449069142342, -0.010266168974339962, -0.014698286540806293, -0.00439439807087183, -0.014849167317152023, 0.005620303098112345, -0.007154256105422974, -0.009329451248049736, 0.009109416976571083, 0.022003423422574997, -0.000640456797555089, 0.017539871856570244, 0.02957260049879551, -0.02367568388581276, -0.005123654380440712, 0.014295938424766064, 0.004089493304491043, -0.013679842464625835, 0.00454527884721756, 0.001304488629102707, -0.008493321016430855, -0.0019315863028168678, 0.007380576804280281, 0.014295938424766064, 0.017036937177181244, 0.02866731770336628, 0.0026624142192304134, 0.017904499545693398, -0.018206261098384857, -0.018130820244550705, -0.0319363959133625, 0.00042749507701955736, -0.035507239401340485, 0.008480748161673546, 0.014346231706440449, 0.007103962358087301, -0.0034954010043293238, -0.002794434782117605, 0.027108218520879745, 0.02236805111169815, 0.018633756786584854, 0.0001310382504016161, -0.024618687108159065, -0.029195399954915047, 0.0007300421711988747, 0.002335506258532405, 0.006997088901698589, -0.018746916204690933, -0.0038505990523844957, 0.014949754811823368, 0.04003365710377693, 0.0036054181400686502, 0.03568326681852341, -0.0001916458859341219, -0.024316925555467606, -0.022908708080649376, 0.015062915161252022, 0.01956418715417385, 0.012347063980996609, -0.009360885247588158, 0.002709564520046115, 0.008304720744490623, -0.018721770495176315, 0.03392299264669418, 0.017904499545693398, -0.010228448547422886, 0.006707900669425726, 0.026831602677702904, -0.01667230762541294, 0.006450146436691284, 0.027485419064760208, 0.022317757830023766, -0.010844544507563114, 0.001103314571082592, 0.028717610985040665, -0.006538160145282745, -0.001783848972991109, -0.01839486137032509, -0.0034073872957378626, 0.0013359221629798412, -0.03269080072641373, 0.0020274582784622908, -0.02537309005856514, 0.01996653527021408, 0.03276624158024788, 0.012887719087302685, 0.00579318730160594, -0.0035456945188343525, -0.00452013174071908, 0.005774327088147402, -0.0146354204043746, -0.004476124886423349, -0.02278297394514084, 0.00893967691808939, 0.003028613980859518, -0.012849999591708183, -0.0025744005106389523, 0.03545694425702095, -0.030880233272910118, 0.0036745716352015734, -0.0018891510553658009, 0.0007379004964604974, -0.007223409600555897, -0.009254011325538158, -0.002244349103420973, -0.015301809646189213, -0.02026829682290554, -0.001467942725867033, 0.01173096802085638, 0.005318542011082172, -0.01362954918295145, -0.027032777667045593, -0.012843712233006954, -0.0022144874092191458, -0.005409698933362961, -0.01153608039021492, 0.009505478665232658, 0.007776638492941856, -0.02305958792567253, 0.019224705174565315, 0.005340545438230038, 0.029421720653772354, 0.003721721936017275, -0.007676051463931799, -0.007562891114503145, 0.017602737993001938, 0.02478214167058468, -0.0023527946323156357, -0.021902836859226227, 0.012680258601903915, -0.006318125873804092, -0.008700782433152199, -0.01362954918295145, -0.005812047049403191, -0.011114872060716152, -0.0024690984282642603, 0.003941756207495928, -0.0005701244226656854, 0.008644201792776585, 0.004161790478974581, -0.005265105050057173, -0.0062238252721726894, 0.015339529141783714, 0.0297737754881382, -0.0015936765121296048, -0.005478852428495884, -0.011265752837061882, -0.026127493008971214, -0.009266584180295467, 0.061961639672517776, -0.0007767994538880885, 0.0033225170336663723, 0.014811447821557522, -0.01737641729414463, -0.01213960349559784, -0.036110762506723404, -0.023311056196689606, -0.01339065469801426, -0.004781029652804136, -0.0007382934563793242, 0.004287524148821831, -0.014006750658154488, 0.014258217997848988, 0.014924608170986176, 0.01203272957354784, -0.0014003607211634517, -0.0292708408087492, -0.0020620350260287523, -0.0005775898462161422, -0.015817318111658096, 0.010498776100575924, 0.002591688884422183, 0.012950586155056953, 0.0176907517015934, -0.00022533863375429064, 0.009769519791007042, 0.011077151633799076, -0.004881616681814194, -0.0027614296413958073, 0.008656775578856468, -0.002109185326844454, 0.012303057126700878, 0.004535848740488291, 0.01886007748544216, 0.020620351657271385, -0.0012887719785794616, 0.03206213191151619, 0.005104794166982174, -0.010926271788775921, 0.0037405819166451693, 0.009819814004004002, -0.0072611295618116856, -0.005290251690894365, 0.013566682115197182, 0.005827764049172401, -0.010366755537688732, 0.02705792337656021, -0.0012997736921533942, -0.031408313661813736, 0.02645440213382244, 0.007657191250473261, -0.008700782433152199, -0.020243149250745773, -0.01847030222415924, 0.014786300249397755, 0.0039040360134094954, -0.012598531320691109, -0.017250683158636093, -0.0251719169318676, -0.014421672560274601, -0.01677289605140686, -0.0062929792329669, 0.004237230867147446, -0.02406545914709568, -0.016332827508449554, -0.02456839382648468, 0.00508907763287425, -0.0037657287903130054, 0.0002489137405063957, -0.005680026486515999, -0.0391283743083477, 0.002973605412989855, -0.002736282767727971, 0.021450195461511612, 0.0032785101793706417, -0.0063778492622077465, -0.0021044702734798193, 0.0031842098105698824, 0.006258402485400438, -0.0020698935259133577, -0.029245693236589432, 0.010058707557618618, -0.00564230652526021, 0.007883512414991856, 0.005318542011082172, 0.01207673642784357, 0.016458561643958092, -0.021726809442043304, 0.03213757276535034, 0.009285444393754005, 0.014622846618294716, 0.02478214167058468, 0.003055332461372018, 0.01457255333662033, -0.00035323353949934244, 0.00953691266477108, -0.0027017060201615095, -0.021651368588209152, 0.002899736864492297, -0.0102850291877985, -0.011372626759111881, 0.004334674216806889, 0.006531873252242804, -0.003737438702955842, 0.015553276985883713, 0.016546575352549553, 0.012724265456199646, -0.013466095551848412, -0.0026026905979961157, 0.03316858783364296, -0.022393198683857918, 0.020406603813171387, -0.011410347186028957, 0.0014663710026070476, 0.01806795410811901, 0.022305184975266457, 0.028290115296840668, -0.005610872991383076, -0.028390703722834587, 0.0022553508169949055, -0.0226572398096323, 0.00669532734900713, 0.01239107083529234, 0.00388203258626163, 0.0016549717402085662, -0.0037154352758079767, -0.020444324240088463, -0.002480100141838193, -0.004463551566004753, -0.01023473497480154, 0.016056211665272713, 0.0003534299903549254, 0.0028855919372290373, -0.01579217053949833, -0.006082375068217516, -0.021839968860149384, 0.014836594462394714, -0.004938196856528521, -0.020896965637803078, -0.028591876849532127, -0.00442268792539835, -0.002692276146262884, -0.011473213322460651, -0.04063718020915985, -0.044107433408498764, -0.015540704131126404, -0.0034482507035136223, -0.014069617725908756, 0.016458561643958092, -0.0018765777349472046, -0.0022412058897316456, -0.023336201906204224, -0.018130820244550705, -0.002637267578393221, -0.017502151429653168, -0.005406555719673634, -0.001271483488380909, 0.03148375451564789, 0.025121623650193214, 0.028793051838874817, 0.0044949850998818874, 0.019413305446505547, 0.0027048494666814804, -0.014836594462394714, -0.018847504630684853, 0.006258402485400438, -0.012208756990730762, -0.011561227031052113, 0.008204133249819279, 0.021751955151557922, 0.02456839382648468, -0.010303888469934464, 0.009210004471242428, 0.004089493304491043, -0.008078400045633316, -0.015829890966415405, 0.005010494031012058, -0.021236447617411613, -0.020054548978805542, -0.01648370735347271, 0.0013571396702900529, 0.002211343962699175, 0.011636667884886265, 0.012259050272405148, -0.010907411575317383, 0.013604402542114258, 0.009756946936249733, 0.019601907581090927, 0.004344104323536158, 0.025586837902665138, -0.01838228851556778, 0.01796736754477024, 0.0006475293193943799, 0.018130820244550705, -0.01218361034989357, 0.004781029652804136, -0.010008414275944233, 0.01936301216483116, 0.008078400045633316, 0.023889431729912758, 0.029396573081612587, -0.009511766023933887, -0.005236814729869366, 0.009077983908355236, 0.0267561636865139, -0.00591892097145319, -0.001750843832269311, 0.004344104323536158, -0.004032913129776716, 0.0013209911994636059, -0.018696622923016548, -0.0033445204608142376, -0.01897323690354824, 0.009807240217924118, -0.009033977054059505, -0.019803080707788467, 0.014673139899969101, -0.01264253817498684, -0.03284168243408203, -0.016320252791047096, 0.0004428188840392977, 0.041089821606874466, 0.004174363799393177, 0.010203301906585693, 0.01679804176092148, 0.0003084408526774496, -0.0007056812173686922, 0.02475699409842491, -0.021198727190494537, -0.002296214457601309, 0.04005880281329155, 0.0037625853437930346, -0.007349143270403147, -0.020896965637803078, 0.0057334634475409985, 0.003140202956274152, -0.01213331613689661, -0.02446780726313591, 0.005988074466586113, 0.01896066404879093, -0.008807656355202198, -0.014019324444234371, 0.007896085269749165, -0.02658013626933098, 0.013088894076645374, 0.0013626405270770192, -0.021613648161292076, -0.017024362459778786, 0.010555356740951538, -0.022028570994734764, 0.009782093577086926, -0.03007553704082966, 0.02466898038983345, 0.025297651067376137, -0.0073554301634430885, -0.006619886960834265, -0.0040046232752501965, 0.002377941505983472, 0.0007858365424908698, -0.0040643466636538506, 0.029346279799938202, -0.01888522319495678, 0.0039197527803480625, 0.01896066404879093, 0.00748745072633028, -0.01996653527021408, -0.0030600475147366524, -0.006588453892618418, 0.021010126918554306, -0.018721770495176315, -5.692403647117317e-05, -0.009354597888886929, 0.012793418951332569, -0.001856145914644003, 0.010725097730755806, -0.01149207353591919, -0.005852910690009594, -0.008763649500906467, 0.0045044152066111565, 0.026731016114354134, 5.4173608077690005e-05, 0.0029940372332930565, -0.018457729369401932, -0.022921280935406685, -0.02187768928706646, -0.0489104688167572, -0.005302825011312962, 0.0030490458011627197, -0.025021035224199295, -0.012277910485863686, -0.006318125873804092, 0.0075943246483802795, 0.021311886608600616, 0.01599334552884102, -0.00824814010411501, 0.012862572446465492, 0.026605281978845596, -0.015264089219272137, -0.005764896981418133, 0.026404108852148056, 0.014622846618294716, -0.027510566636919975, 0.015213795937597752, -0.0024643833748996258, -0.01736384443938732, 0.006173531990498304, -0.018495449796319008, -0.0021233302541077137, 0.0022804976906627417, 0.01836971566081047, 0.003592844819650054, -0.01014672126621008, 0.006883928086608648, 0.0256748516112566, 0.018243981525301933, 0.012768272310495377, -0.0036242781206965446, -0.009203718043863773, 0.039304401725530624, -0.0084870345890522, 0.0012235475005581975, -0.01158008724451065, -0.014308512210845947, 0.028390703722834587, -0.00808468647301197, -0.008361301384866238, -0.0009375030058436096, -0.03198669105768204, -0.006783341057598591, -0.004262377507984638, 0.009059123694896698, 0.016596868634223938, -0.015326956287026405, -0.03673943132162094, -0.003501687664538622, -0.018721770495176315, -0.0009437897242605686, 0.006340129300951958, -0.009882680140435696, 0.003825452411547303, 0.016244813799858093, 0.010479915887117386, 0.0029547454323619604, 0.006682754028588533, -0.014044471085071564, -0.01232820376753807, -0.017099803313612938, -0.0244552344083786, -0.01009014155715704, -0.003089909441769123, 0.03834882378578186, -0.0005257246666587889, -0.011517220176756382, -0.011360052973031998, -0.007254843134433031, -0.026731016114354134, -0.02635381557047367, -0.003957472741603851, -0.004988490603864193, 0.0026152641512453556, 0.017539871856570244, -0.006063514854758978, 0.021286740899086, 0.0038537424989044666, -0.005796330515295267, -0.004721305798739195, -0.01667230762541294, 0.020004255697131157, -0.004095780197530985, 0.014207924716174603, 0.0016172516625374556, -0.02046946994960308, 0.011404059827327728, 0.001648685079999268, 0.009870107285678387, -0.010813111439347267, 0.013755283318459988, -0.0013115612091496587, -0.012359637767076492, -0.013026027008891106, -0.0017162670847028494, -0.00018840431584976614, 0.011605233885347843, 0.022129157558083534, -0.017024362459778786, 9.70508117461577e-05, 0.003429390722885728, -0.002899736864492297, 0.008065826259553432, -0.010278741829097271, 0.017640458419919014, -0.012856286019086838, 0.011202885769307613, -0.01937558688223362, -0.012963159941136837, -0.008153839968144894, -0.03015097603201866, 0.014233071357011795, -0.018621182069182396, 0.0014726576628163457, 0.02846614271402359, 0.007562891114503145, 0.00586548401042819, 0.0011190312216058373, -0.001478158519603312, -0.004831322934478521, 0.0037814455572515726, -0.006409282796084881, -0.01332778763025999, -0.005362548865377903, -0.010976565070450306, -0.01997910812497139, -0.03223815932869911, -0.0015677439514547586, -0.024417513981461525, -0.015012621879577637, -0.008876809850335121, 0.039002638310194016, 0.006965655367821455, -0.021198727190494537, -0.005975501146167517, -0.0251719169318676, 0.004755883011966944, 0.004205797333270311, -0.015264089219272137, 0.0011646097991615534, -0.011422920040786266, -0.001977164763957262, 0.028943931683897972, -0.02147534117102623, 0.0024030881468206644, 0.028591876849532127, 0.0244552344083786, 0.0034168174024671316, 0.041290994733572006, 0.23074676096439362, -0.012523091398179531, 0.0008887811563909054, 0.0337972566485405, 0.017753619700670242, 0.013755283318459988, 0.007757778279483318, 0.0036085613537579775, 0.008499608375132084, 0.008210420608520508, -0.013189480639994144, -0.00012642145156860352, -0.008216707035899162, 0.006632460281252861, 0.004755883011966944, 0.007468590512871742, -0.02248121239244938, -0.023587670177221298, -0.03472768887877464, -0.02685675024986267, 0.009228864684700966, -0.028114087879657745, -0.02997494861483574, -0.017338696867227554, 0.020570058375597, -0.004680442623794079, -0.01014672126621008, -0.004881616681814194, 0.029044518247246742, 0.010957704856991768, 0.00364628154784441, -0.013679842464625835, 0.0067519075237214565, 0.009203718043863773, -0.01522636879235506, -0.01736384443938732, 0.029899509623646736, 0.018746916204690933, 0.03153404965996742, 0.003338233567774296, -0.014874313957989216, -0.030804792419075966, 5.95271194470115e-05, -0.011932142078876495, 0.012900292873382568, 0.005654879845678806, 0.00544741889461875, -0.028818197548389435, 0.02036888338625431, 0.025134196504950523, 0.0023433645255863667, 0.0010993853211402893, 0.020519763231277466, 0.037996768951416016, 0.0012015440734103322, -0.014459392987191677, 0.008411594666540623, 0.012950586155056953, -0.005221098195761442, 0.0062615456990897655, -3.499428430586704e-06, 0.028793051838874817, -0.0012966303620487452, 0.033193737268447876, -0.01867147721350193, 0.006670180708169937, -0.02637896127998829, -0.0009987982921302319, 0.0040360563434660435, -0.007839505560696125, -0.012447650544345379, -0.007688624784350395, 0.008178986608982086, -0.003809735644608736, -0.026982484385371208, -0.006927934940904379, 0.013843297027051449, 0.0015229512937366962, 0.034601956605911255, 0.0355323851108551, -0.010153008624911308, -0.004218370653688908, -0.010096427984535694, -0.02577543817460537, -0.03266565501689911, -0.028440997004508972, 0.007531457580626011, -0.002528822049498558, -0.013893590308725834, -0.01528923586010933, -0.006255258806049824, -0.011422920040786266, 0.0013720706338062882, 0.0023276477586477995, 0.025850879028439522, 0.026303520426154137, -0.0027017060201615095, 0.010278741829097271, -0.01596819795668125, 0.013340361416339874, -0.006940508261322975, 0.004023483023047447, 0.0026812744326889515, 0.007204549387097359, -0.005510285962373018, 0.008725929073989391, -0.007204549387097359, 0.011932142078876495, -0.005645449738949537, -0.013969030231237411, -0.02168908901512623, -0.0006479222211055458, -0.0009186429088003933, -0.009769519791007042, -0.00044399764738045633, 0.006582166999578476, -0.010901124216616154, -0.004771599546074867, -0.0029798923060297966, -0.011001711711287498, -0.0040549165569245815, -0.019752787426114082, -0.013855869881808758, -0.0031889246311038733, -0.0004966487176716328, -0.011102299205958843, -0.008606482297182083, 0.007525170687586069, 0.0101781552657485, -0.035708412528038025, 0.008021819405257702, -0.006384136155247688, 0.009932974353432655, 0.009159711189568043, -0.006588453892618418, 0.009247724898159504, 0.013302640989422798, -0.0007622614502906799, -0.01747700572013855, 0.0002330005372641608, 0.0019001527689397335, -0.006318125873804092, 0.009021403267979622, -0.008505894802510738, -0.02078380435705185, -0.010844544507563114, 0.04154246300458908, -0.02806379459798336, -0.00919114425778389, 0.00419951044023037, -0.04745195433497429, -0.014660567045211792, -0.010712523944675922, -0.003907179459929466, 0.023612815886735916, -0.02108556590974331, -0.019840801134705544, -0.02957260049879551, -0.0027284245006740093, 0.0025005319621413946, -0.018017660826444626, 0.01243507768958807, 0.022921280935406685, -0.003888319246470928, -0.029622895643115044, -0.014534832909703255, -0.16103991866111755, 0.01979050785303116, 0.011454354040324688, -0.02046946994960308, 0.027284245938062668, 0.013591828756034374, 0.021513061597943306, 0.008549901656806469, -0.006902788300067186, 0.01458512619137764, 0.016609441488981247, -0.015590997412800789, -0.020922113209962845, -0.018545743077993393, -0.0039103226736187935, -0.010706237517297268, -0.0039008925668895245, 0.016018493101000786, 0.030402444303035736, 0.03226330503821373, 0.026102347299456596, -0.006783341057598591, 0.011906995438039303, -0.005843480583280325, 0.01589275896549225, -0.007034808862954378, 0.0010074424790218472, 0.034803129732608795, -0.01032903604209423, -0.0036305647809058428, -0.018922943621873856, -0.027409978210926056, 0.020004255697131157, 0.0018750060116872191, 0.01976536028087139, 0.0014687285292893648, 0.010102714411914349, -0.03656340390443802, -0.011290899477899075, 0.02327333576977253, 0.029723482206463814, 0.01757759228348732, 0.018910370767116547, -0.01727583073079586, -0.01766560599207878, -0.001064022653736174, 0.022229744121432304, 0.01637054793536663, 0.014622846618294716, 0.0006380992708727717, 0.01003984734416008, -0.005331115331500769, 0.0011598947457969189, -0.0033225170336663723, 0.02668072283267975, 0.0297737754881382, 0.01013414841145277, 0.024291779845952988, 0.004702446050941944, -0.007902372628450394, 8.398627869610209e-06, -0.015855038538575172, -0.006902788300067186, -0.006041511427611113, -0.005507142748683691, 0.00286987517029047, -0.0018577176379039884, 0.006076088175177574, -0.0029453153256326914, 0.012938013300299644, -0.013805576600134373, -0.0230847354978323, -0.011743541806936264, -0.02036888338625431, 0.011712107807397842, 0.004281237721443176, -0.03807220980525017, 0.02906966581940651, -0.01767817884683609, -0.010077567771077156, -0.007826931774616241, 0.02288356050848961, 0.0016156799392774701, 0.007506310939788818, -0.021927982568740845, 0.010335322469472885, 0.0018608609680086374, 0.0070662423968315125, -0.03203698620200157, -0.020356310531497, 0.010228448547422886, -0.01746443100273609, -0.012900292873382568, -0.018596036359667778, 0.008763649500906467, 0.012912866659462452, 0.007154256105422974, 0.017011789605021477, -0.016144225373864174, -0.017300978302955627, -6.722586022078758e-06, 0.008153839968144894, -0.018533168360590935, 0.007493737153708935, 0.035708412528038025, -0.0028651601169258356, 0.013126613572239876, 0.01609393209218979, 0.021638795733451843, -0.03186095878481865, -0.028591876849532127, 0.011171452701091766, 0.01616937294602394, 0.016119079664349556, 0.020255722105503082, 0.030930526554584503, -0.006513013504445553, -0.019036104902625084, 0.0075943246483802795, -0.007965239696204662, 0.04883502796292305, 0.009021403267979622, -0.0461694709956646, 0.004787316080182791, 0.011316046118736267, 0.006619886960834265, -0.07031036913394928, -0.03155919536948204, 0.004457265138626099, 0.01254195161163807, 0.0028745902236551046, 0.036915458738803864, 0.0013579255901277065, 0.002827439922839403, 0.00042160131852142513, 0.003281653393059969, 0.0055982996709644794, -0.030025243759155273, -0.009631212800741196, -0.015339529141783714, 0.039606161415576935, -0.02168908901512623, 0.011592661030590534, 0.004664725624024868, -0.035104889422655106, 0.006833634804934263, 0.002992465626448393, 0.0019645914435386658, 0.004334674216806889, -0.004997920710593462, -0.013038599863648415, 0.0061075217090547085, -0.02954745478928089, 0.03794647380709648, 0.005415985360741615, -0.004271807614713907, -0.02695733681321144, -0.01997910812497139, -0.0124790845438838, -0.011196599341928959, 0.0009555772412568331, 0.016911203041672707, -0.03324402868747711, 0.03226330503821373, 0.010310175828635693, -0.034199606627225876, 0.029924655333161354, 0.006399852689355612, -0.004271807614713907, -0.0565299391746521, -0.005922064185142517, 0.015490409918129444, 0.0004805390490218997, 0.03588443994522095, 0.013893590308725834, -0.010586789809167385, -0.03593473508954048, -0.02786262147128582, -0.024216338992118835, 0.0033193735871464014, 0.015477837063372135, -0.003159062936902046, 0.008952249772846699, 0.025926319882273674, -0.01074395701289177, 0.010253595188260078, 0.011360052973031998, 0.007122822571545839, -0.018143394961953163, 0.018017660826444626, -0.0068650683388113976, 0.016131652519106865, -0.012849999591708183, 0.01979050785303116, 0.01806795410811901, 0.0026231224182993174, -0.01907382532954216, 0.026303520426154137, 0.0038348822854459286, 0.009662645868957043, -0.0329422689974308, -0.012862572446465492, -0.013654695823788643, -0.01897323690354824, 0.00939860474318266, -0.007474877405911684, -0.03684001788496971, -0.01448453962802887, -0.001228262553922832, -0.00571460323408246, 0.022606946527957916, 0.007468590512871742, -0.013088894076645374, 0.00567059637978673, -0.01472343411296606, -0.038097355514764786, -0.02718365751206875, 0.020041976124048233, 0.008053253404796124, -0.01023473497480154, 0.018231408670544624, 0.01362954918295145, -0.00804067961871624, 0.003963759634643793, 0.012912866659462452, 0.014409098774194717, -0.023952297866344452, -0.006371562834829092, -0.07659705728292465, 0.028214676305651665, -0.016622014343738556, -0.02705792337656021, 0.0020840384531766176, -0.026932191103696823, 0.00729256309568882, -0.014195351861417294, -0.0054631358943879604, -0.016144225373864174, -0.01936301216483116, 0.000568159855902195, 0.006186105310916901, 0.014258217997848988, -0.029346279799938202, 0.0012958444422110915, 0.01686090975999832, 0.009920400567352772, 0.0008699210593476892, -0.0015716730849817395, 0.001356353866867721, -0.032917123287916183, -0.012548238039016724, 0.002907595131546259, -0.01213960349559784, 0.013365508057177067, -0.024694127961993217, -0.001553598907776177, -0.003360236994922161, -0.007808072026818991, 0.005604586098343134, -0.03736810013651848, 0.003866315819323063, 0.01989109441637993, -0.0009830815251916647, -0.004212083760648966, 0.007028521969914436, 0.021148433908820152, 0.0075943246483802795, 0.025347944349050522, -0.03372181951999664, -0.022732680663466454, 0.013453521765768528, -0.0043032411485910416, 0.0036745716352015734, 0.007732631638646126, -0.011190312914550304, -0.0003834882518276572, 0.033017709851264954, 0.01138519961386919, -0.00948661845177412, 0.037795595824718475, -0.024430086836218834, -0.008568761870265007, -0.006619886960834265, -0.013214627280831337, -0.02087181806564331, -0.00571460323408246, -0.004567282274365425, -0.04297582805156708, 0.024291779845952988, 0.00037562986835837364, 0.027837473899126053, -0.01113373227417469, 0.001093884464353323, 0.01019072812050581, -0.021148433908820152, -0.0029877505730837584, -0.01014672126621008, -0.017854206264019012, -0.0077011981047689915, -0.00761318439617753, 0.0011913281632587314, 0.0048690433613955975, 0.020205428823828697, 0.021450195461511612, -0.008518468588590622, 0.02515934221446514, -0.04624490812420845, 0.0369657501578331, 0.0192749984562397, 0.02436722069978714, -0.03203698620200157, -0.0029798923060297966, 0.03872602432966232, 0.01268654502928257, -0.006601027213037014, -0.017238110303878784, -0.0034671109169721603, 0.00302232732065022, -0.0389774926006794, -0.020796379074454308, 0.000896639481652528, 0.028440997004508972, -0.003957472741603851, 0.006025794893503189, 0.01736384443938732, 0.015754451975226402, 0.01976536028087139, 0.02615264058113098, -0.001297416165471077, 0.005645449738949537, -0.0127305518835783, -0.00943003874272108, -0.013604402542114258, 0.008122406899929047, -0.006179818883538246, -0.04493727907538414, -0.00959349237382412, 0.008650489151477814, 0.011504647321999073, 0.03246447816491127, -0.004218370653688908, 0.013088894076645374, -0.024543248116970062, -0.010618223808705807, 0.024329500272870064, 1.035094101098366e-05, -0.025800585746765137, 0.03266565501689911, -0.00701594864949584, 0.005529146175831556, 0.02525993064045906, -0.0151383550837636, 0.004950770176947117, 0.007022235542535782, -0.007022235542535782, -0.003985763061791658, 0.018005087971687317, -0.010454769246280193, 0.010643370449543, -0.002667129272595048, -0.016194520518183708, -0.018998384475708008, 0.0017382705118507147, 0.016144225373864174, -0.016634589061141014, 0.033218882977962494, -0.010850830934941769, 0.06749393045902252, -0.009310591034591198, 0.008556188084185123, 0.018155967816710472, 0.01329006813466549, 0.02207886427640915, 0.025624558329582214, 0.008820229209959507, -0.00673933420330286, -0.0228709876537323, -0.0025728289037942886, 0.010725097730755806, 9.479153231950477e-05, -0.025536544620990753, -0.010310175828635693, -0.002797578228637576, -0.013051173649728298, 0.0016141083324328065, -0.021337034180760384, 0.011749828234314919, 0.015729304403066635, 0.006211251951754093, 0.024316925555467606, 0.014057043939828873, -0.024631261825561523, -0.021299313753843307, 0.007644617930054665, 0.006110664922744036, -0.024694127961993217, -0.012950586155056953, 0.01796736754477024, -0.0017382705118507147, -0.008380160667002201, -0.006896501407027245, 0.0023968014866113663, 0.00833615381270647, -0.008103546686470509, -0.00419951044023037, 0.0010624510468915105, 0.0075943246483802795, 0.018847504630684853, 0.008468174375593662, -0.014207924716174603, -0.0327913872897625, 0.004749596118927002, -0.002058891812339425, -0.0249581690877676, -0.006714187562465668, -0.014761153608560562]\n"
     ]
    }
   ],
   "source": [
    "e = openai.Embedding.create(input=\"Hello World!\", engine=EMBEDDING_MODEL)[\"data\"][0][\"embedding\"]\n",
    "print(e)"
   ]
  },
  {
   "attachments": {},
   "cell_type": "markdown",
   "metadata": {},
   "source": [
    "Test if tokenizer works:"
   ]
  },
  {
   "cell_type": "code",
   "execution_count": 7,
   "metadata": {},
   "outputs": [
    {
     "name": "stdout",
     "output_type": "stream",
     "text": [
      "[9906, 1917, 0]\n",
      "3\n"
     ]
    }
   ],
   "source": [
    "tokens = encoding.encode(\"Hello world!\")\n",
    "print(tokens)\n",
    "print(len(tokens))"
   ]
  },
  {
   "attachments": {},
   "cell_type": "markdown",
   "metadata": {},
   "source": [
    "Also let's check if LangChain works:"
   ]
  },
  {
   "cell_type": "code",
   "execution_count": 2,
   "metadata": {},
   "outputs": [
    {
     "name": "stdout",
     "output_type": "stream",
     "text": [
      "client=<class 'openai.api_resources.embedding.Embedding'> model='TextEmbeddingAda002' document_model_name='TextEmbeddingAda002' query_model_name='TextEmbeddingAda002' embedding_ctx_length=-1 openai_api_key=None chunk_size=1 max_retries=6\n",
      "[-0.003158408682793379, 0.011094409972429276, -0.0040013170801103115, -0.011747414246201515, -0.0010153218172490597, 0.010781234130263329, -0.010368109680712223, -0.005297331139445305, -0.009881687350571156, -0.02616015262901783, 0.020376399159431458, 0.022575292736291885, -0.007522876374423504, 0.01728462427854538, -0.006003641523420811, 0.01912369765341282, 0.02125595696270466, -0.015645449981093407, 0.007669468875974417, -0.018364081159234047, -0.0006909018848091364, -0.006416766904294491, -0.01098113413900137, 0.017950955778360367, -0.02213551290333271, -0.003076783148571849, 0.01437942124903202, -0.029984891414642334, 0.01852400042116642, -0.007916011847555637, 0.010068260133266449, -0.019456863403320312, -0.003688141703605652, -0.024241119623184204, -0.005530546884983778, 0.003824739484116435, -0.005653818137943745, -0.029451826587319374, 0.018603960052132607, -0.016618292778730392, 0.00752953952178359, 0.012420408427715302, -0.0009903343161568046, -0.010721264407038689, 0.01000162772834301, -0.012560337781906128, 0.033529773354530334, -0.02699972875416279, -0.00792933814227581, 0.029025375843048096, 0.019696742296218872, -0.002077286597341299, -0.02739952877163887, -0.008775578811764717, -0.006213536020368338, 0.0019939953926950693, -0.00738294655457139, 0.02798589877784252, 0.006829892285168171, -0.009315306320786476, -0.02248200587928295, 0.010468059219419956, -0.013546507805585861, -0.011094409972429276, -0.004887537565082312, -0.008275830186903477, -0.005823732353746891, 0.011114399880170822, 0.006276837550103664, 0.004434432368725538, 0.01056800875812769, 0.012480378150939941, 0.005337310954928398, 0.005393948871642351, 0.008988804183900356, 0.004261186346411705, -0.022681904956698418, -0.013233331963419914, 0.011201023124158382, -0.005753767676651478, 0.00982838124036789, -0.024401038885116577, -0.00858234241604805, 0.007829388603568077, 0.0025037385057657957, 0.007549529429525137, 0.005747104529291391, 0.02817247249186039, -0.02290845662355423, -0.015525510534644127, -0.008182544261217117, 0.02005656063556671, 0.003568202257156372, 0.012786890380084515, -0.01645837351679802, 0.03155743330717087, 0.013506527990102768, 0.030437996610999107, -0.006240189075469971, -0.049681633710861206, -0.003728121519088745, -0.0013001782353967428, -0.007063108030706644, 0.003524890635162592, -0.034835781902074814, -0.009062101133167744, 0.021975593641400337, -0.007236354053020477, 0.015485530719161034, -0.008295820094645023, -0.01644504815340042, 0.005060783587396145, -0.006390113849192858, -0.0361151359975338, 0.015618797391653061, 0.005653818137943745, 0.006503389682620764, -0.02189563401043415, -0.010248169302940369, 0.0010503041557967663, 0.0006350966868922114, 0.016938133165240288, 0.02651997096836567, -0.027506140992045403, 0.010548018850386143, 0.013273311778903008, -0.00882222130894661, -0.041872236877679825, -0.0064933947287499905, -0.005567194893956184, 0.019137024879455566, 0.02148250862956047, 0.014192848466336727, 0.01751117780804634, -0.023348236456513405, 0.03734118491411209, -0.04040630906820297, 0.024774184450507164, -0.0432048961520195, -0.00840909592807293, 0.008309146389365196, 0.027372874319553375, -0.019150350242853165, -0.016964785754680634, 0.010288150049746037, 0.01399294938892126, 0.008262503892183304, -0.024840816855430603, 0.012493705376982689, -0.021056057885289192, 0.0031051021069288254, 0.0017724402714520693, 0.0177643820643425, 0.0025603766553103924, 0.01556549035012722, 0.03147747367620468, 0.003858056152239442, -0.009548522531986237, -0.01800426095724106, -0.019616782665252686, 0.0031034364365041256, 0.022162167355418205, 0.009568512439727783, 0.0018540658056735992, 0.023454848676919937, 0.03467586264014244, 0.004004648886620998, 0.007669468875974417, -0.0016133537283167243, -0.01541889738291502, -0.02502739056944847, 0.024760857224464417, -0.02538720890879631, 0.00764947896823287, -0.02017650008201599, 0.014299461618065834, 0.00718971062451601, 0.003481579013168812, -0.004424437414854765, -0.004054623655974865, -0.03390291705727577, 0.016844846308231354, 0.0147925466299057, 0.03185061737895012, -0.017004765570163727, -0.0069365049712359905, 0.024241119623184204, -0.009541858918964863, 0.001388467033393681, -0.0046343314461410046, 0.02314833737909794, 0.021935613825917244, -0.006290163844823837, -0.014805872924625874, -0.7023661136627197, -0.016351761296391487, 0.004261186346411705, -0.017311276867985725, 0.022175492718815804, 0.031370859593153, 0.024640917778015137, 0.0020939449314028025, -0.005986983422189951, 0.021855654194951057, -0.02266857773065567, -0.012700267136096954, -0.00920203048735857, -0.013206679373979568, -0.014139542356133461, -0.02314833737909794, -0.016951458528637886, -0.003324991324916482, -0.017604462802410126, 0.013106729835271835, 0.014979119412600994, 0.01547220442444086, -0.015712084248661995, -0.016711579635739326, 0.0005126583855599165, 0.00893549807369709, 0.013100066222250462, -0.006123581435531378, 0.017484523355960846, 0.016884826123714447, -0.026240112259984016, -0.0035215590614825487, -0.0009320303797721863, 0.008535698987543583, 0.033236585557460785, -0.0020672916434705257, -0.014472708106040955, -0.02504071593284607, 0.016604967415332794, 0.0009203695808537304, -0.01680486649274826, -0.00034961552591994405, 0.004830899182707071, -0.001729128765873611, -0.004571030382066965, -0.0024737536441534758, 0.01883051171898842, 0.0003673149331007153, 0.027452833950519562, 0.017684422433376312, -0.0165783129632473, -0.0005447255098260939, 0.006663309410214424, -0.003518227254971862, 0.0010453066788613796, -0.01042141579091549, 0.02160244807600975, 0.007756092119961977, 0.01083454117178917, 0.016604967415332794, -0.0011510866461321712, 0.011860691010951996, -0.005657149478793144, -0.0168714988976717, -0.02894541621208191, -0.0074962228536605835, -0.02077619917690754, 0.022535312920808792, 0.0010594661580398679, -0.01899043098092079, -0.003758106380701065, 0.012520357966423035, -0.010261496528983116, -0.019723394885659218, 0.020749544724822044, 0.015485530719161034, 0.009761747904121876, -0.00994832068681717, -0.00935528613626957, 0.016778212040662766, 0.0037014682311564684, 0.003621508600190282, -0.014366094954311848, -0.01541889738291502, 0.010847867466509342, -0.020283114165067673, -0.04611010104417801, -0.012960136868059635, -0.0066999574191868305, 0.013386588543653488, 0.02160244807600975, 0.0014384419191628695, -0.00795599166303873, -0.00046601518988609314, 0.00890884455293417, -0.0028002557810395956, 0.001188567839562893, 0.003934684209525585, 0.030091505497694016, -0.0019306938629597425, 0.0015000775456428528, 0.002447100356221199, 0.0006804904551245272, 0.011740750633180141, 0.02112269029021263, 0.005224034655839205, 0.0036481618881225586, 0.024467671290040016, 0.018270794302225113, -0.00849571917206049, -0.007169720716774464, -0.00899546779692173, -0.009535195305943489, 0.0015650447458028793, -0.016071902588009834, -0.03416945040225983, 0.00798930786550045, 0.011241002939641476, 0.002340487437322736, 0.0033899585250765085, 0.014059582725167274, 0.017724402248859406, 0.013299965299665928, -0.0016316778492182493, 0.004584356676787138, -0.0024887460749596357, 0.0039746640250086784, -0.019430210813879967, -0.017204664647579193, -0.009701778180897236, -0.019456863403320312, -0.0017857669154182076, 0.0337163470685482, -0.014166195876896381, 0.0077027855440974236, 0.0023038391955196857, 0.003831402864307165, -0.005277340766042471, 0.021349243819713593, -0.009748421609401703, -0.013020106591284275, 0.0133132915943861, -0.006963158026337624, -0.009068763814866543, -0.011953976936638355, -0.02230875939130783, -0.018017588183283806, -0.0030268083792179823, 0.0009944989578798413, 0.009941657073795795, -0.02206888049840927, 0.0014101228443905711, -0.010128229856491089, -0.0058470540679991245, -0.008095921017229557, -0.011081083677709103, -0.01704474538564682, -0.026293419301509857, 0.0010411420371383429, -0.0014725913060829043, -0.008648975752294064, 0.01757781021296978, -0.006223530974239111, 0.0011360942153260112, -0.026533298194408417, -0.018310774117708206, -0.03302336111664772, 0.03318328037858009, -0.009988300502300262, -0.033876266330480576, -0.0183507539331913, 0.005207376088947058, -0.013473211787641048, -0.0020423042587935925, 0.005070778541266918, -0.010587998665869236, -0.0156854297965765, 0.007862704806029797, 0.01032812986522913, -0.021349243819713593, -0.004967497196048498, 0.0034749158658087254, 0.012227172963321209, 0.0020706234499812126, 0.011760740540921688, 0.01505907904356718, 0.013479874469339848, 0.007049781270325184, -0.012600317597389221, 0.002543718321248889, 0.008002634160220623, 0.003303335513919592, -0.014659280888736248, 0.00932196993380785, -0.0077027855440974236, 0.019856661558151245, -0.02971835993230343, 0.01042141579091549, 0.012886839918792248, 0.02384132146835327, 0.022588618099689484, 0.008655638433992863, 0.003888041013851762, -0.022748537361621857, 0.00016585394041612744, -0.035422153770923615, -0.013126719743013382, -0.002710300963371992, 0.013533181510865688, 0.006286832503974438, 0.012886839918792248, -0.01757781021296978, -0.02468089759349823, 0.017364583909511566, 0.02154914289712906, 0.005447255447506905, -0.010128229856491089, -0.0028219115920364857, -0.0068032387644052505, -0.002025645924732089, 0.006739937234669924, 0.004847557749599218, 0.012520357966423035, -0.0072763338685035706, -0.016258474439382553, 0.011507535353302956, 0.028598923236131668, 0.03262356296181679, 0.023001743480563164, -0.02414783276617527, -0.018390733748674393, 0.002598690567538142, 0.0008878859807737172, 0.0012443730374798179, 0.003168403636664152, 0.010474721901118755, 0.022402046248316765, -0.01941688358783722, 0.02875884249806404, 0.0003606516111176461, 0.011480881832540035, 0.018857166171073914, 0.028625577688217163, -0.00849571917206049, 0.022921783849596977, -0.00012087659706594422, 0.02817247249186039, 0.008575678803026676, -0.004051291849464178, 0.03153077885508537, -0.010707938112318516, 0.0018573974957689643, 0.0009944989578798413, 0.004204547964036465, 0.032463643699884415, -0.026853136718273163, -0.013399914838373661, 0.0019190331222489476, 0.014326115138828754, 0.031157635152339935, 0.022215472534298897, 0.005020803771913052, -0.002633672906085849, 0.0012277147034183145, 0.023188317194581032, -0.004537713713943958, -0.013226669281721115, 0.003406616859138012, -0.019976601004600525, -0.013040096499025822, -0.005637159571051598, -0.0014459381345659494, 0.0180575679987669, 0.0024820826947689056, 0.024640917778015137, 0.010581335052847862, 0.025906946510076523, 0.012020610272884369, 0.01645837351679802, 0.0014925813302397728, -0.009102080948650837, -0.02242869883775711, 0.0006725777639076114, 0.012207183055579662, 0.012280479073524475, -0.011687444522976875, -0.010228179395198822, 0.004657653160393238, -0.007462906651198864, 0.006500058341771364, 0.0040013170801103115, -1.1660791642498225e-05, 0.01709805242717266, -0.023161662742495537, -5.312427310855128e-05, 0.0159786157310009, 0.008835548534989357, -0.005557199940085411, -0.010148219764232635, -0.007816062308847904, 0.011201023124158382, -0.00757618248462677, 0.008795568719506264, 0.006203541066497564, 0.020149847492575645, 0.0002575785620138049, -0.002617014804854989, -0.012953473255038261, -0.013466548174619675, -0.01030147634446621, 0.018017588183283806, 0.0038114129565656185, -0.014006276614964008, -0.0059803202748298645, 0.01556549035012722, -0.0056971292942762375, 0.0015317281940951943, 0.013319955207407475, 0.01681819185614586, 0.012826870195567608, -0.015352264977991581, -0.0068498821929097176, -0.018097547814249992, 0.010721264407038689, 0.04882873222231865, 0.04315159097313881, 0.0025637082289904356, -0.010941154323518276, 0.003691473277285695, -0.01936357654631138, -0.026959748938679695, -0.013499864377081394, 0.006393445190042257, -0.0021755704656243324, -0.007856042124330997, -0.004321156069636345, 0.016285128891468048, 0.0013526517432183027, 0.016618292778730392, 0.00711641414090991, -0.0014392748707905412, -0.0024820826947689056, -0.009448572993278503, -0.012260489165782928, 0.0029385194648057222, 0.0077027855440974236, 0.0076294890604913235, 0.0033932903315871954, 0.012073916383087635, -0.021349243819713593, 0.00772277545183897, 0.001691647688858211, 0.0002557045081630349, -0.02036307379603386, -0.014152868650853634, 0.01923030987381935, 0.010101577267050743, 0.018097547814249992, -0.0006234358879737556, 0.03286344185471535, -0.0044477591291069984, -0.01573873683810234, 0.007789408788084984, 0.004840894136577845, 0.009222020395100117, 0.004571030382066965, -0.003391624428331852, -0.008269166573882103, -0.00712974090129137, 0.00024820826365612447, -0.016604967415332794, 0.003399953478947282, -0.008662302047014236, -0.007556192576885223, 0.012080579996109009, -0.017737729474902153, -0.0012060590088367462, -0.01544555090367794, 0.028732189908623695, 0.02326827682554722, 0.004401115700602531, 0.006843218579888344, -0.0021672414150089025, -0.017564482986927032, -0.0298782791942358, -0.006749932188540697, -0.01136760599911213, -0.009301980026066303, -0.011380932293832302, -0.03041134402155876, -0.02349482849240303, -0.013333282433450222, -0.02017650008201599, 0.0037381164729595184, 0.010987796820700169, -0.017591137439012527, -0.024760857224464417, -0.016231821849942207, 0.0289987213909626, -0.013952969573438168, 0.0005209874943830073, 0.013106729835271835, 0.001535892835818231, 0.022588618099689484, -0.010861193761229515, -0.0224953331053257, 0.005863712169229984, -0.02414783276617527, -0.005843722261488438, 0.0168581735342741, -0.0039713322184979916, 0.006753263995051384, -0.002751946682110429, 0.01042141579091549, -0.006043621338903904, -0.0024654243607074022, -0.004880873952060938, -0.029371866956353188, 0.016351761296391487, -0.00872893538326025, 0.0019939953926950693, 0.007442916743457317, -0.00866896566003561, -0.004154573194682598, -0.015538837760686874, -0.001521733240224421, -0.009128733538091183, 0.001610854989849031, 0.020749544724822044, -0.019030410796403885, -0.013373262248933315, 0.016911478713154793, -0.023294929414987564, -0.00770944869145751, -0.010488049127161503, -0.018137527629733086, 0.009601828642189503, -0.02000325545668602, 0.0023937937803566456, 0.017417890951037407, -0.007442916743457317, 0.02194894105195999, -0.01030147634446621, -0.030198117718100548, 7.584720151498914e-05, -0.009808391332626343, 0.011094409972429276, 0.03563537821173668, 0.02206888049840927, 0.029211947694420815, -0.00876225158572197, -0.0030484639573842287, -0.014206175692379475, 0.007909348234534264, -0.005074109882116318, 0.0011727424571290612, -0.00779607193544507, -0.004184558056294918, -0.018843838945031166, -0.011447565630078316, -0.001529229455627501, 0.013646457344293594, -0.005264014471322298, -0.010661294683814049, -0.01505907904356718, 0.013673110865056515, 0.011394258588552475, -0.009168713353574276, -0.025720374658703804, -0.02982497215270996, -0.02165575511753559, 0.010108239948749542, -0.02060295268893242, 0.0008845542906783521, 0.021096037700772285, 0.0003396205429453403, -0.011647464707493782, -0.004904195666313171, 0.015818696469068527, -0.029371866956353188, -0.004824236035346985, 0.006163561251014471, 0.016231821849942207, 0.027119668200612068, 0.022681904956698418, -0.01163413841277361, 0.011707434430718422, 0.019869988784193993, -0.0034249410964548588, 0.009635144844651222, -0.00944190938025713, -0.013779724016785622, -0.016378413885831833, 0.0025637082289904356, 0.010008290410041809, 0.00675992714241147, 0.014486034400761127, -0.00941525585949421, 0.015485530719161034, 0.00900213047862053, -0.0016783210448920727, 0.0010244838194921613, -0.004670979920774698, -0.023508155718445778, -0.011907333508133888, 0.017417890951037407, -0.008628985844552517, 0.016551660373806953, -0.013639794662594795, -0.020389726385474205, 0.024547630921006203, 0.004644326400011778, 0.015698757022619247, 0.015045752748847008, 0.01859063282608986, -0.005986983422189951, 0.0007916844333522022, 0.0011752411955967546, 0.005747104529291391, -0.012340448796749115, 0.017471197992563248, -0.022215472534298897, -0.01505907904356718, 0.025080695748329163, 0.0010053267469629645, 0.011334288865327835, -0.00848905649036169, 0.014699260704219341, 0.011847363784909248, 0.004257854539901018, 0.010148219764232635, 0.005030798725783825, -0.010767907835543156, 0.006743269041180611, -0.0236814022064209, -0.031504128128290176, -0.0027719365898519754, -0.00801596138626337, 0.0159786157310009, 0.012300468981266022, -0.012140549719333649, 0.012200519442558289, -0.02113601751625538, -0.013393252156674862, 0.004514391999691725, -0.0007025626837275922, 0.049628328531980515, 0.007536202669143677, 0.005323984194546938, 0.01751117780804634, 0.0005526382010430098, -0.024707550182938576, 0.01723131723701954, -0.018364081159234047, 0.0014717584708705544, 0.04037965461611748, 0.025893619284033775, -0.01704474538564682, -0.013606477528810501, -0.00773610221222043, 0.024534305557608604, 0.013326618820428848, -0.017950955778360367, -0.01781768910586834, 0.019443536177277565, -0.002728625200688839, -0.005277340766042471, -0.007569519337266684, -0.04011312127113342, 0.015085732564330101, -0.0007675299420952797, -0.003831402864307165, -0.02206888049840927, -0.0016899817856028676, -0.022588618099689484, 0.00732297683134675, -0.036195095628499985, 0.01993662118911743, 0.011894007213413715, -0.0289987213909626, -0.007876032032072544, 0.0018640607595443726, -0.03286344185471535, 0.0014317785389721394, -0.0001593988563399762, 0.02846565656363964, -0.010747917927801609, -0.0015908650821074843, 0.011227676644921303, 0.008529036305844784, -0.017244644463062286, 0.007029791362583637, -0.0024487662594765425, 0.026293419301509857, -0.01399294938892126, -0.011021113954484463, -0.00037626875564455986, 0.006300158798694611, 0.00846240296959877, -0.0037414482794702053, -0.002617014804854989, -0.002217216184362769, -0.008595668710768223, 0.0039146943017840385, -0.0022521985229104757, 0.018750552088022232, -0.0013176694046705961, -0.022855151444673538, -0.011407585814595222, -0.006263510789722204, -0.013979623094201088, -0.008742261677980423, -0.0147925466299057, -0.026240112259984016, -0.014246155507862568, 0.005870375316590071, 0.001669991877861321, 0.021709062159061432, 0.00997497420758009, -0.014406074769794941, 0.02154914289712906, 0.027852632105350494, -0.023694727569818497, -0.0009420253336429596, -0.006356797181069851, -5.944921213085763e-05, -0.007616162765771151, 0.002901871223002672, 0.006876535248011351, -0.009801727719604969, 0.027452833950519562, -0.014152868650853634, -0.024174485355615616, -0.036728162318468094, -0.005860380362719297, 0.015512184239923954, -0.012793553993105888, -0.0024937435518950224, -0.0054305968806147575, 0.0006709119770675898, 0.01869724690914154, 0.02497408352792263, -0.012200519442558289, 0.019390230998396873, -0.004587688483297825, -0.0018057568231597543, 0.005710456054657698, -0.024001240730285645, -0.0072030373848974705, 0.008988804183900356, -0.0016566652338951826, 0.00902878399938345, -0.017964281141757965, -0.017950955778360367, 0.007063108030706644, 0.02273521199822426, 0.0026203463785350323, -0.015232325531542301, -0.03035803698003292, -0.0004576860519591719, -0.0049475072883069515, -0.001862394972704351, 0.00757618248462677, -0.008589006029069424, -0.021042730659246445, 0.0004306163755245507, -0.011854027397930622, 0.005647154524922371, -0.008628985844552517, 0.0052140397019684315, -0.016831519082188606, -0.011880680918693542, -0.033476464450359344, -0.020962771028280258, 0.0015800371766090393, 0.007689458783715963, 0.015458877198398113, -0.01517901849001646, -0.027199627831578255, -0.007422926370054483, -0.04048626869916916, -0.020043235272169113, -0.01721799187362194, -0.001014488865621388, 0.016938133165240288, 0.01645837351679802, -0.012160539627075195, 0.03203719109296799, 0.006903188303112984, 0.03331654518842697, -0.020522993057966232, -0.019430210813879967, 0.024534305557608604, -0.01059466227889061, 0.00726300710812211, 0.004221206530928612, -0.010461395606398582, -0.021349243819713593, 0.022468678653240204, 0.0023488164879381657, 0.00923534668982029, 0.021042730659246445, 0.004810909274965525, -0.02822577767074108, -0.008682291954755783, 0.01859063282608986, 0.0011410916922613978, 0.0033066673204302788, -0.0005917851813137531, -0.007123077753931284, 0.003501569153741002, 0.0036548252683132887, 0.000372104172129184, -0.0023554798681288958, -0.004674311727285385, 0.004730949643999338, -0.0043877894058823586, 0.0022005578503012657, -0.033822957426309586, -0.006120249629020691, -0.01000162772834301, -0.01645837351679802, 0.009895014576613903, -0.014139542356133461, -0.005670476239174604, 0.03355642408132553, 0.0039013675414025784, -0.012473715469241142, -0.011887343600392342, 0.0201231949031353, -0.013873009942471981, -0.005813737399876118, 0.0035348855890333652, -0.011414248496294022, 0.0016133537283167243, -0.0008570681675337255, -0.0008274997235275805, -0.015112385153770447, 0.002357145771384239, -0.004654321353882551, -0.006696626078337431, -0.01829744689166546, 0.0022871808614581823, 0.014486034400761127, -0.025733700022101402, -0.012666950933635235, -0.020629605278372765, 0.02017650008201599, 0.0005101596470922232, -0.005104094743728638, -0.009881687350571156, -0.010221516713500023, 0.014779220335185528, 0.02390795387327671, -0.013513191603124142, 0.0008241680916398764, 0.013566497713327408, 0.014419401064515114, -0.0036481618881225586, 0.008382443338632584, 0.2319897711277008, 0.005717119202017784, 0.01733793132007122, 0.03243698924779892, -0.006416766904294491, 0.03366303816437721, 0.0075428662821650505, -0.010101577267050743, -0.008415759541094303, 0.021389223635196686, 0.016245149075984955, 0.014565994031727314, -0.005157401319593191, 0.005254019517451525, -0.002037306781858206, -0.0019356913398951292, -0.02314833737909794, -0.021709062159061432, -0.03520892560482025, -0.016711579635739326, 0.0011485879076644778, -0.022002248093485832, 0.019137024879455566, -0.010961144231259823, 0.014605973847210407, -0.016205167397856712, -0.019989928230643272, -0.0016983109526336193, 0.021615775302052498, 0.02088281139731407, -0.013593151234090328, 0.0012893503298982978, 0.012740247882902622, -0.0039713322184979916, -0.03131755441427231, -0.005627164617180824, 0.030517956241965294, -0.003758106380701065, 0.02557378076016903, -0.00842908676713705, 0.006250184029340744, -0.024334406480193138, 0.006446751765906811, -0.014326115138828754, 0.004461085423827171, 0.026946423575282097, 0.0011027776636183262, -0.015485530719161034, 0.0011869019363075495, 0.001221884391270578, -0.020629605278372765, -0.001829078420996666, 0.019256964325904846, 0.0014559330884367228, 0.017724402248859406, -0.015338937751948833, 0.018430713564157486, -0.0014534343499690294, 0.011234339326620102, 0.0039713322184979916, -0.00842908676713705, 0.009868361055850983, -0.023867974057793617, 0.026013558730483055, -0.021295936778187752, 0.008262503892183304, -0.029211947694420815, -0.012380428612232208, -0.001425115275196731, -0.01050803903490305, 0.003055127337574959, -0.0064367568120360374, 0.01871057227253914, 0.0061135864816606045, -0.02124262973666191, -0.009608492255210876, 0.020669585093855858, 0.02409452572464943, 0.02698640339076519, 0.015658777207136154, -0.01965676248073578, -0.000673827133141458, -0.015485530719161034, -0.03265021741390228, -0.021215977147221565, -0.03363638371229172, -0.010607988573610783, -0.0035415489692240953, 0.0010269825579598546, -0.023174989968538284, -0.019216984510421753, -0.016884826123714447, -0.007063108030706644, -0.014672607183456421, 0.01184070110321045, 0.016658272594213486, -0.00860899593681097, 0.026266764849424362, 0.007049781270325184, 0.012373764999210835, -0.03544880449771881, 0.04533715546131134, 0.01857730560004711, 0.006006973329931498, 0.006929841823875904, 0.005157401319593191, -0.015045752748847008, -0.008988804183900356, -0.0008270832477137446, -0.0008987138280645013, 0.006133576389402151, -0.004727617837488651, 0.010554681532084942, -0.020989423617720604, 0.0014151203213259578, 0.01632510870695114, 0.0036548252683132887, -0.011667454615235329, 0.011047766543924809, -0.014899159781634808, -0.00724968034774065, 0.0019823345355689526, -0.013779724016785622, 0.0042078797705471516, -0.010794561356306076, -0.008682291954755783, -0.01699143834412098, -0.008415759541094303, 0.016525007784366608, -0.019909968599677086, 0.009608492255210876, -0.0006575853331014514, 0.017684422433376312, 0.00045102275907993317, -0.01529895793646574, -0.0018340758979320526, 0.006020300090312958, 0.01723131723701954, -0.02763940766453743, 0.011314298957586288, 0.01723131723701954, 0.001929028076119721, -0.00789602193981409, -0.0028718863613903522, -0.00982838124036789, -0.0147925466299057, 0.0355021134018898, -0.018217487260699272, -0.0039713322184979916, -0.01633843407034874, -0.022575292736291885, -0.009541858918964863, 0.01411288883537054, 0.016138534992933273, 0.0367015078663826, -0.012753574177622795, -0.011001124046742916, -0.03656824305653572, 0.024014566093683243, -0.007302986923605204, -0.038913726806640625, 0.005124084651470184, 0.03504900634288788, -0.02141587622463703, -0.0069365049712359905, -0.009108743630349636, -0.1745253950357437, 0.014486034400761127, 0.0027152984403073788, -0.013626467436552048, 0.023188317194581032, -0.005583852995187044, 0.03981993719935417, 0.0023454849142581224, 0.011347616091370583, 0.005723782815039158, -0.0018307442078366876, -0.01764444261789322, -0.02006988786160946, -0.006383450236171484, -0.005627164617180824, 0.0028602255042642355, -0.021455856040120125, -0.007995971478521824, 0.014152868650853634, 0.012800217606127262, 0.009881687350571156, -0.014272809028625488, 0.026120172813534737, -0.018217487260699272, 0.0029451826121658087, -0.004944175481796265, -0.010827877558767796, 0.021269284188747406, -0.001584201818332076, 0.0069365049712359905, 0.008115910924971104, 0.011407585814595222, 0.015072405338287354, 0.011907333508133888, 0.012860187329351902, 0.004557703621685505, 0.029265254735946655, -0.00046559874317608774, -0.008202534168958664, 0.011287646368145943, -0.0017641111044213176, 0.012680277228355408, -0.0012718591606244445, -0.020029908046126366, 0.004171231761574745, 0.019443536177277565, 0.036488283425569534, 9.620152559364215e-05, 0.014592647552490234, -0.01669825240969658, 0.013093402609229088, -0.027119668200612068, -0.01157416868954897, -0.005993646569550037, 0.016538333147764206, 0.008842211216688156, -0.021282609552145004, 0.010248169302940369, -0.003131755394861102, -0.005177391227334738, 0.010607988573610783, -0.01651168055832386, 0.002858559601008892, 0.0013060086639598012, -0.0039713322184979916, -0.018017588183283806, -0.031983885914087296, 0.007356293499469757, -0.00017574478988535702, 0.006196877453476191, 0.0003977162705268711, -0.020149847492575645, -0.0037747647147625685, 0.006606671027839184, 0.004297834355384111, 0.004631000105291605, -0.012726920656859875, 0.020376399159431458, -0.012507031671702862, 0.0017091388581320643, -0.0036381669342517853, 0.017324604094028473, 0.002372138202190399, 0.00934862345457077, -0.0008299984619952738, 0.005387285724282265, -0.009835044853389263, -2.6783380235428922e-05, 0.002413783920928836, -0.010474721901118755, 0.02593359909951687, -0.02971835993230343, -0.013333282433450222, -0.01752450317144394, -1.2246433470863849e-05, 0.022295432165265083, 0.0011894006747752428, 0.0005942839197814465, 0.0010269825579598546, 0.003498237347230315, -0.0034149461425840855, -0.011320962570607662, -0.03001154586672783, 0.018084222450852394, 0.04786921292543411, 0.001147755072452128, -0.00973509531468153, 0.0147925466299057, 0.04472413286566734, 0.0029784992802888155, -0.03699469193816185, 1.1153234481753316e-05, 0.006396776996552944, 0.017857668921351433, 0.024894123896956444, 0.03350311890244484, 0.005673808045685291, -0.016205167397856712, -0.0027602759655565023, 0.011127726174890995, 0.04523054510354996, 0.00016856090223882347, -0.024867471307516098, 0.021402548998594284, 0.0013751405058428645, -0.009328632615506649, -0.08976810425519943, -0.030144810676574707, 0.02533390186727047, 0.049868207424879074, -0.005463913548737764, 0.03496904671192169, 0.00042332836892455816, 0.022122187539935112, -0.0028968737460672855, 0.0006134409341029823, -0.009128733538091183, -0.009388603270053864, -0.028199125081300735, -0.010994460433721542, 0.0073363035917282104, 0.005360632203519344, 0.00956184882670641, -0.0053473059087991714, -0.017964281141757965, 0.03078448958694935, 0.00048517220420762897, -0.005257350858300924, 0.00711641414090991, -0.024827491492033005, -0.007682795636355877, -0.007482896558940411, -0.02851896360516548, 0.026773177087306976, 0.004311161115765572, -0.0029568434692919254, -0.023588115349411964, -0.016738232225179672, 0.012280479073524475, -0.015072405338287354, -0.0021122691687196493, 0.013133382424712181, -0.03632836416363716, -0.012280479073524475, 0.03416945040225983, -0.011094409972429276, 0.008322473615407944, 0.02894541621208191, -0.007289660628885031, -0.05237361043691635, 0.0014192848466336727, -0.010021617636084557, 0.004877542611211538, 0.013146709650754929, -0.007476232945919037, -0.02390795387327671, -0.02296176366508007, 0.011027776636183262, -0.023641422390937805, 0.005807074252516031, 0.010528028942644596, 0.000825833878479898, 0.015458877198398113, 0.023228297010064125, -0.011287646368145943, 0.00032421163632534444, -0.022348739206790924, -0.0031150970607995987, -0.008855538442730904, 0.01847069337964058, -0.018803859129548073, 0.01006159745156765, -0.01615186221897602, 0.003584860358387232, 0.008029287680983543, -0.011061093769967556, 0.004644326400011778, 0.0006188548286445439, -0.010454731993377209, 0.0004158321535214782, -0.017604462802410126, -0.0006542537012137473, -0.03480912744998932, -0.034062836319208145, 0.01977670192718506, -0.003868051106110215, -0.016058575361967087, -0.015285631641745567, 4.776239438797347e-05, -0.011374268680810928, 0.014899159781634808, 0.016844846308231354, 0.0038480611983686686, 0.0021156007423996925, 0.02982497215270996, -0.040273040533065796, 0.010587998665869236, 0.003958005923777819, 0.012533685192465782, -0.029211947694420815, -0.0222021471709013, 0.008662302047014236, 0.01911037042737007, -0.0048142410814762115, 0.020203154534101486, -0.002661992097273469, -0.04256521910429001, -0.020736219361424446, -0.06119583174586296, 0.020256459712982178, -0.0033299888018518686, -0.038860421627759933, -0.00705644441768527, 0.006856545340269804, -0.011700770817697048, -0.017671097069978714, -0.012293805368244648, 0.010581335052847862, -0.02272188477218151, 0.006190214306116104, 0.0024870801717042923, -0.00944190938025713, -0.010341456159949303, -0.012880177237093449, 0.03766102343797684, 0.006183551158756018, 0.012447061948478222, 0.016085227951407433, 0.007003138307482004, -0.025840314105153084, 0.005870375316590071, 0.00816255435347557, -0.01721799187362194, 0.014752566814422607, -0.014859179966151714, -0.0014051253674551845, -0.03379630669951439, -0.005170728079974651, -0.002537054941058159, -0.03747445344924927, -0.001440107706002891, 0.0017074730712920427, -0.008688955567777157, 0.012207183055579662, -0.01423282828181982, 0.03574199229478836, 0.013173362240195274, 0.016245149075984955, -0.006516716443002224, -0.045603688806295395, 0.0144993606954813, -0.02592027373611927, -0.015392244793474674, 0.03531553968787193, -0.03118428774178028, 0.011594158597290516, 0.041099291294813156, 0.006296827457845211, 0.026146825402975082, 0.008395769633352757, -0.030971061438322067, -0.010961144231259823, 0.019043738022446632, -0.004354472737759352, 0.011580831371247768, 0.005224034655839205, 0.004754271358251572, -0.010554681532084942, 0.034915741533041, -0.002883547218516469, 0.0165783129632473, 0.010821213945746422, 0.0014667609939351678, 0.021469183266162872, -0.011747414246201515, -0.0006238523637875915, 0.00778274517506361, -0.02492077648639679, -0.018364081159234047, -0.012733584269881248, 0.0015558827435597777, 0.017204664647579193, 0.031237594783306122, 0.020336419343948364, 0.006026963237673044, 0.008575678803026676, -0.0010453066788613796, 0.02556045539677143, 0.0331566259264946, 0.0059803202748298645, -0.03289009630680084, 0.014712586998939514, 0.014992445707321167, 0.009835044853389263, -0.005297331139445305, 0.009941657073795795, -0.012487041763961315, 0.0008349959389306605, -0.01989664137363434, 0.013473211787641048, 0.009895014576613903, 0.003784759668633342, -0.018750552088022232, -0.02337488904595375, 0.005827064160257578, -0.0014367761323228478, 0.03243698924779892, 0.023801341652870178, 0.013026770204305649, 0.023748034611344337, -0.001625014585442841, -0.014392748475074768, -0.010727928020060062, 0.009268662892282009, -0.019563475623726845, -0.041339170187711716, -0.0067466008476912975, 0.012420408427715302, -0.0002298841718584299, -0.010647968389093876, 0.006073606666177511, 0.012233835645020008, -0.00997497420758009, -0.000403546669986099, -0.00825584027916193, 0.011314298957586288, -0.031983885914087296, 0.026240112259984016, -0.01036144606769085, 0.013126719743013382, 0.034409329295158386, -0.0036348351277410984, 0.01959013007581234, -0.0005884534912183881, 0.020203154534101486, -0.012053926475346088, 0.0023321581538766623, 0.011054430156946182, -0.0011027776636183262, 0.018617285415530205, -0.024347731843590736, -0.018097547814249992, -0.0037780962884426117, -0.006323480512946844, -0.018137527629733086, 0.020549645647406578, -0.0008420757367275655, 0.055012281984090805, 0.008069267496466637, -0.03006485104560852, 0.011001124046742916, 0.007096424233168364, 0.021642427891492844, 0.017417890951037407, 0.011347616091370583, -0.011967303231358528, 0.00724968034774065, 0.03683477267622948, 0.00964847207069397, -0.0020456360653042793, -0.03177065774798393, -0.03989989683032036, 0.0149391395971179, -0.0055072251707315445, 0.007442916743457317, -0.005913686938583851, 0.004404447507113218, 0.012973463162779808, 0.019043738022446632, 0.008055941201746464, 0.006423430051654577, -0.023095030337572098, -0.0024087862111628056, 0.03201053664088249, -0.029131988063454628, -0.007742765359580517, -0.011860691010951996, 0.021335916593670845, 0.01071460172533989, -0.01899043098092079, -0.02841235138475895, 0.015218998305499554, 0.003225041786208749, -0.006193546112626791, -0.010428079403936863, 0.00739627331495285, -0.006166892591863871, 0.022868476808071136, 0.039206910878419876, -0.019216984510421753, 0.0018607291858643293, -0.01036144606769085, -0.014406074769794941, -0.020336419343948364, 0.012780227698385715, -0.019083717837929726]\n"
     ]
    }
   ],
   "source": [
    "import os\n",
    "import openai\n",
    "from dotenv import load_dotenv\n",
    "from langchain.llms import AzureOpenAI\n",
    "from langchain.embeddings import OpenAIEmbeddings\n",
    "\n",
    "# Load environment variables\n",
    "load_dotenv()\n",
    "\n",
    "# Configure Azure OpenAI Service API\n",
    "openai.api_type = \"azure\"\n",
    "openai.api_version = \"2022-12-01\"\n",
    "openai.api_base = os.getenv('OPENAI_API_BASE')\n",
    "openai.api_key = os.getenv(\"OPENAI_API_KEY\")\n",
    "\n",
    "# Create a completion\n",
    "llm = AzureOpenAI(deployment_name=\"TextDavinci003\")\n",
    "joke = llm(\"Tell me a dad joke\")\n",
    "#print(joke)\n",
    "\n",
    "# Create embeddings\n",
    "embeddings = OpenAIEmbeddings(model=\"TextEmbeddingAda002\", chunk_size=1)\n",
    "text = \"This is a test document.\"\n",
    "\n",
    "print(embeddings)\n",
    "\n",
    "# Embed a single document\n",
    "query_result = embeddings.embed_query(text)\n",
    "print(query_result)\n",
    "\n",
    "# Embed multiple documents at once\n",
    "doc_result = embeddings.embed_documents([text, text])"
   ]
  },
  {
   "cell_type": "code",
   "execution_count": null,
   "metadata": {},
   "outputs": [],
   "source": []
  }
 ],
 "metadata": {
  "kernelspec": {
   "display_name": "openai-qna-env",
   "language": "python",
   "name": "python3"
  },
  "language_info": {
   "codemirror_mode": {
    "name": "ipython",
    "version": 3
   },
   "file_extension": ".py",
   "mimetype": "text/x-python",
   "name": "python",
   "nbconvert_exporter": "python",
   "pygments_lexer": "ipython3",
   "version": "3.9.2"
  },
  "orig_nbformat": 4,
  "vscode": {
   "interpreter": {
    "hash": "c4ee1bbf3137c7ea9420c4fd488a55642063e5739fe2a7286130d9ba47405b69"
   }
  }
 },
 "nbformat": 4,
 "nbformat_minor": 2
}
