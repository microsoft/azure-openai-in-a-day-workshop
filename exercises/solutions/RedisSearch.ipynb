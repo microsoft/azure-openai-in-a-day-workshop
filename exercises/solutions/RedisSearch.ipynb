{
 "cells": [
  {
   "attachments": {},
   "cell_type": "markdown",
   "metadata": {},
   "source": [
    "##  Redis vector search - Py Notebook 🐍📑\n",
    "\n",
    "    Created by: Domen Žukovec"
   ]
  },
  {
   "attachments": {},
   "cell_type": "markdown",
   "metadata": {},
   "source": [
    "### Imports and const values for OpenAI 🤖🏗️"
   ]
  },
  {
   "cell_type": "code",
   "execution_count": 16,
   "metadata": {},
   "outputs": [],
   "source": [
    "import os\n",
    "import json\n",
    "import tiktoken\n",
    "import openai\n",
    "import numpy as np\n",
    "import redis\n",
    "from redis.commands.search.field import TagField, VectorField\n",
    "from redis.commands.search.indexDefinition import IndexDefinition, IndexType\n",
    "from redis.commands.search.query import Query\n",
    "from langchain.embeddings import OpenAIEmbeddings\n",
    "from langchain.text_splitter import CharacterTextSplitter\n",
    "from dotenv import load_dotenv\n",
    "from openai.embeddings_utils import cosine_similarity\n",
    "from tenacity import retry, wait_random_exponential, stop_after_attempt\n",
    "\n",
    "\n",
    "# Load environment variables\n",
    "load_dotenv()\n",
    "\n",
    "# Configure Azure OpenAI Service API\n",
    "openai.api_type = \"azure\"\n",
    "openai.api_version = \"2022-12-01\"\n",
    "openai.api_base = \"https://domzisopenai.openai.azure.com/\"\n",
    "openai.api_key = \"3673181a896c4997baba06bc82db5e6f\"\n",
    "\n",
    "# Define embedding model and encoding\n",
    "EMBEDDING_MODEL = 'text-embedding-ada-002'\n",
    "EMBEDDING_ENCODING = 'cl100k_base'\n",
    "EMBEDDING_CHUNK_SIZE = 8000\n",
    "COMPLETION_MODEL = 'TextDavinci003'\n",
    "\n",
    "REDIS_INDEX_NAME = 'domtistestindex'\n",
    "VECTOR_FIELD_IN_REDIS='item_vector'\n",
    "NUMBER_PRODUCTS_INDEX=1000\n",
    "CHOSEN_EMB_MODEL = 'TextEmbeddingAda002'\n",
    "REDIS_ADDR = 'redisdbtriguc3.westeurope.redisenterprise.cache.azure.net'\n",
    "REDIS_PORT = 10000\n",
    "REDIS_PASSWORD = 'hB+FWOy6MDlsL21bmaD1plSNwTa6Vd70TnID02P0r+0='\n",
    "\n",
    "\n",
    "# initialize tiktoken for encoding text\n",
    "encoding = tiktoken.get_encoding(EMBEDDING_ENCODING)"
   ]
  },
  {
   "attachments": {},
   "cell_type": "markdown",
   "metadata": {},
   "source": [
    "### Load data into notebook 📒📑"
   ]
  },
  {
   "cell_type": "code",
   "execution_count": 3,
   "metadata": {},
   "outputs": [],
   "source": [
    "def create_array_from_lines(file_path):\n",
    "    with open(file_path, 'r') as f:\n",
    "        lines = f.readlines()\n",
    "\n",
    "    # Create an empty list to hold the lines\n",
    "    array_from_lines = []\n",
    "\n",
    "    for line in lines:\n",
    "        # Add each line to the list\n",
    "        line = line.replace(\"\\n\", \" \")\n",
    "        line = line.replace(\"  \", \" \")\n",
    "        array_from_lines.append(line)\n",
    "\n",
    "    return array_from_lines\n",
    "\n",
    "# Use the function and print the result\n",
    "Questions_array = create_array_from_lines('Questions.txt')\n",
    "Nivo3A_array = create_array_from_lines('Nivo3A.txt')\n",
    "Nivo3_array = create_array_from_lines('Nivo3.txt')"
   ]
  },
  {
   "cell_type": "code",
   "execution_count": 4,
   "metadata": {},
   "outputs": [
    {
     "name": "stdout",
     "output_type": "stream",
     "text": [
      "Loaded 37 documents\n",
      "Content: Kaj je Triglav komplet? ... \n",
      "---> Tokens: 10\n",
      "\n",
      "Content: Kje lahko dobim dodatne informacije o zavarovanju? ... \n",
      "---> Tokens: 19\n",
      "\n",
      "Content: Kakšne so možnosti dodatnih vplačil v zavarovanje? ... \n",
      "---> Tokens: 22\n",
      "\n",
      "Content: Kje lahko dobim dodatne informacije o zavarovanju? ... \n",
      "---> Tokens: 19\n",
      "\n",
      "Content: Kakšne so možnosti dodatnih vplačil v zavarovanje? ... \n",
      "---> Tokens: 22\n",
      "\n",
      "Content: Kakšen je učinek davčne olajšave? ... \n",
      "---> Tokens: 18\n",
      "\n"
     ]
    }
   ],
   "source": [
    "# print some stats about the questions\n",
    "print(f\"Loaded {len(Questions_array)} documents\")\n",
    "for doc in Questions_array[:3]:\n",
    "    num_tokens = len(encoding.encode(doc))\n",
    "    print(f\"Content: {doc[:80]}... \\n---> Tokens: {num_tokens}\\n\")"
   ]
  },
  {
   "attachments": {},
   "cell_type": "markdown",
   "metadata": {},
   "source": [
    "### Create embeddings for all the questions ⚙️💡"
   ]
  },
  {
   "cell_type": "code",
   "execution_count": 14,
   "metadata": {},
   "outputs": [],
   "source": [
    "@retry(wait=wait_random_exponential(min=1, max=20), stop=stop_after_attempt(6))\n",
    "def get_embedding(text):\n",
    "    return openai.Embedding.create(input=text, engine=EMBEDDING_MODEL)[\"data\"][0][\"embedding\"]\n",
    "\n",
    "# Create embeddings for all questions\n",
    "#embeddings = [get_embedding(doc) for doc in Questions_array]\n",
    "\n",
    "# print some stats about the embeddings (first 3)\n",
    "#for e in embeddings[:3]:\n",
    "#    print(e)"
   ]
  },
  {
   "attachments": {},
   "cell_type": "markdown",
   "metadata": {},
   "source": [
    "### Working with Redis 📲📮\n",
    "\n",
    "For more info you can visit: https://redis-py.readthedocs.io/en/stable/examples/search_vector_similarity_examples.html"
   ]
  },
  {
   "cell_type": "code",
   "execution_count": 2,
   "metadata": {},
   "outputs": [],
   "source": [
    "# Connect to Redis - here change the host, port, password and ssl parameters to match your Redis Enterprise setup\n",
    "r = redis.StrictRedis(host='redisdbtriguc3.westeurope.redisenterprise.cache.azure.net',\n",
    "    port=10000, db=0, password='hB+FWOy6MDlsL21bmaD1plSNwTa6Vd70TnID02P0r+0=', ssl=True)\n",
    "\n",
    "INDEX_NAME = \"domzis_index\"                       # Vector Index Name\n",
    "DOC_PREFIX = \"doc:\"                               # RediSearch Key Prefix for the Index\n",
    "\n",
    "# function to create the index\n",
    "def create_index(vector_dimensions: int):\n",
    "    try:\n",
    "        # check to see if index exists\n",
    "        r.ft(INDEX_NAME).info()\n",
    "        print(\"Index already exists!\")\n",
    "    except:\n",
    "        # schema\n",
    "        schema = (\n",
    "            TagField(\"tag\"),                       # Tag Field Name\n",
    "            VectorField(\"vector\",                  # Vector Field Name\n",
    "                \"FLAT\", {                          # Vector Index Type: FLAT or HNSW\n",
    "                    \"TYPE\": \"FLOAT32\",             # FLOAT32 or FLOAT64\n",
    "                    \"DIM\": vector_dimensions,      # Number of Vector Dimensions\n",
    "                    \"DISTANCE_METRIC\": \"COSINE\",   # Vector Search Distance Metric\n",
    "                }\n",
    "            ),\n",
    "        )\n",
    "\n",
    "        # index Definition\n",
    "        definition = IndexDefinition(prefix=[DOC_PREFIX], index_type=IndexType.HASH)\n",
    "\n",
    "        # create Index\n",
    "        r.ft(INDEX_NAME).create_index(fields=schema, definition=definition)\n"
   ]
  },
  {
   "cell_type": "code",
   "execution_count": 3,
   "metadata": {},
   "outputs": [
    {
     "data": {
      "text/plain": [
       "True"
      ]
     },
     "execution_count": 3,
     "metadata": {},
     "output_type": "execute_result"
    }
   ],
   "source": [
    "# Test the Redis connection\n",
    "r.ping()"
   ]
  },
  {
   "attachments": {},
   "cell_type": "markdown",
   "metadata": {},
   "source": [
    "#### Index set-up ⚙️"
   ]
  },
  {
   "cell_type": "code",
   "execution_count": 8,
   "metadata": {},
   "outputs": [
    {
     "data": {
      "text/plain": [
       "b'OK'"
      ]
     },
     "execution_count": 8,
     "metadata": {},
     "output_type": "execute_result"
    }
   ],
   "source": [
    "# Drop the index\n",
    "#r.ft(INDEX_NAME).dropindex(delete_documents=True)"
   ]
  },
  {
   "cell_type": "code",
   "execution_count": 9,
   "metadata": {},
   "outputs": [],
   "source": [
    "# define vector dimensions\n",
    "VECTOR_DIMENSIONS = 1536\n",
    "\n",
    "# Create a new index\n",
    "#create_index(vector_dimensions=VECTOR_DIMENSIONS)"
   ]
  },
  {
   "attachments": {},
   "cell_type": "markdown",
   "metadata": {},
   "source": [
    "#### Write data to Redis 📝"
   ]
  },
  {
   "cell_type": "code",
   "execution_count": 10,
   "metadata": {},
   "outputs": [],
   "source": [
    "np_embedding = np.array(embeddings, dtype=np.float32)\n",
    "\n",
    "# Write to Redis\n",
    "pipe = r.pipeline()\n",
    "ct = 0\n",
    "for i, embedding in enumerate(np_embedding):\n",
    "    by_em = embedding.tobytes()\n",
    "    pipe.hset(f\"doc:{i}\", mapping = {\n",
    "        \"vector\": by_em,\n",
    "        \"content\": Questions_array[i],\n",
    "        \"nivo3\": Nivo3_array[i],\n",
    "        \"nivo3A\": Nivo3A_array[i],\n",
    "        \"tag\": \"openai\"\n",
    "    })\n",
    "    res = pipe.execute()"
   ]
  },
  {
   "attachments": {},
   "cell_type": "markdown",
   "metadata": {},
   "source": [
    "#### Now you can query the database by embedding a question and findig the closest one in the Redis DB 🛢️📮"
   ]
  },
  {
   "cell_type": "code",
   "execution_count": 31,
   "metadata": {},
   "outputs": [],
   "source": [
    "# expected found question: Kaj pomeni odprta zavarovalna doba?\n",
    "\n",
    "q_em = get_embedding(\"Dobil sem mail, da potrebujem čas odprte zavarovalne dobe. Kaj to pomeni?\")\n",
    "q_em = np.array(q_em, dtype=np.float32)"
   ]
  },
  {
   "cell_type": "code",
   "execution_count": 32,
   "metadata": {},
   "outputs": [],
   "source": [
    "INDEX_NAME = \"triglav_c3kw\""
   ]
  },
  {
   "cell_type": "code",
   "execution_count": 43,
   "metadata": {},
   "outputs": [],
   "source": [
    "query = (\n",
    "    Query(\"(@tag:{ openai })=>[KNN 2 @c3kw_vector $vec as score]\")\n",
    "     .sort_by(\"score\")\n",
    "     .return_fields(\"c3kw_l4\", \"c3kw_tiid\", \"nivo3A\")\n",
    "     .paging(0, 1)\n",
    "     .dialect(2)\n",
    ")\n",
    "\n",
    "query_params = {\"vec\": q_em.tobytes()}\n",
    "temp_json = r.ft(INDEX_NAME).search(query, query_params).docs"
   ]
  },
  {
   "cell_type": "code",
   "execution_count": 44,
   "metadata": {},
   "outputs": [
    {
     "name": "stdout",
     "output_type": "stream",
     "text": [
      "[]\n"
     ]
    }
   ],
   "source": [
    "print(temp_json)"
   ]
  },
  {
   "cell_type": "code",
   "execution_count": 27,
   "metadata": {},
   "outputs": [],
   "source": [
    "for doc in temp_json:\n",
    "    print(\"Taxonomy:\",  doc['c3kw_l4'], \"\\nID:\", doc['c3kw_tiid'], doc['score'])"
   ]
  },
  {
   "attachments": {},
   "cell_type": "markdown",
   "metadata": {},
   "source": [
    "### This is the end of the notebook 😊"
   ]
  },
  {
   "cell_type": "code",
   "execution_count": 49,
   "metadata": {},
   "outputs": [
    {
     "name": "stdout",
     "output_type": "stream",
     "text": [
      "None\n"
     ]
    }
   ],
   "source": [
    "\n",
    "onekey = r.execute_command(\"GET triglav_c3kw\")\n",
    "print(onekey)"
   ]
  },
  {
   "cell_type": "code",
   "execution_count": 39,
   "metadata": {},
   "outputs": [
    {
     "name": "stdout",
     "output_type": "stream",
     "text": [
      "[b'triglav_c3kw:234', b'triglav_c3kw:51', b'triglav_c3kw:280', b'triglav_c3kw:131', b'triglav_c3kw:459', b'triglav_c3kw:455', b'triglav_c3kw:212', b'triglav_c3kw:552', b'triglav_c3kw:410', b'triglav_c3kw:556', b'triglav_c3kw:184', b'triglav_c3kw:592', b'triglav_c3kw:216', b'triglav_c3kw:342', b'triglav_c3kw:217', b'triglav_c3kw:127', b'triglav_c3kw:162', b'triglav_c3kw:451', b'triglav_c3kw:252', b'triglav_c3kw:517', b'triglav_c3kw:429', b'triglav_c3kw:68', b'triglav_c3kw:58', b'triglav_c3kw:223', b'triglav_c3kw:65', b'triglav_c3kw:566', b'triglav_c3kw:310', b'triglav_c3kw:253', b'triglav_c3kw:25', b'triglav_c3kw:181', b'triglav_c3kw:544', b'triglav_c3kw:28', b'triglav_c3kw:231', b'triglav_c3kw:15', b'triglav_c3kw:447', b'triglav_c3kw:411', b'triglav_c3kw:274', b'triglav_c3kw:24', b'triglav_c3kw:574', b'triglav_c3kw:240', b'triglav_c3kw:483', b'triglav_c3kw:494', b'triglav_c3kw:328', b'triglav_c3kw:126', b'triglav_c3kw:205', b'triglav_c3kw:557', b'triglav_c3kw:399', b'triglav_c3kw:387', b'triglav_c3kw:278', b'triglav_c3kw:307', b'triglav_c3kw:337', b'triglav_c3kw:541', b'triglav_c3kw:351', b'triglav_c3kw:5', b'triglav_c3kw:200', b'triglav_c3kw:141', b'triglav_c3kw:213', b'triglav_c3kw:458', b'triglav_c3kw:386', b'triglav_c3kw:593', b'triglav_c3kw:320', b'triglav_c3kw:508', b'triglav_c3kw:83', b'triglav_c3kw:257', b'triglav_c3kw:360', b'triglav_c3kw:275', b'triglav_c3kw:4', b'triglav_c3kw:201', b'triglav_c3kw:553', b'triglav_c3kw:227', b'triglav_c3kw:433', b'triglav_c3kw:270', b'triglav_c3kw:54', b'triglav_c3kw:196', b'triglav_c3kw:336', b'triglav_c3kw:293', b'triglav_c3kw:208', b'triglav_c3kw:50', b'triglav_c3kw:8', b'triglav_c3kw:584', b'triglav_c3kw:601', b'triglav_c3kw:359', b'triglav_c3kw:414', b'triglav_c3kw:329', b'triglav_c3kw:303', b'triglav_c3kw:279', b'triglav_c3kw:522', b'triglav_c3kw:267', b'triglav_c3kw:319', b'triglav_c3kw:302', b'triglav_c3kw:355', b'triglav_c3kw:135', b'triglav_c3kw:468', b'triglav_c3kw:90', b'triglav_c3kw:398', b'triglav_c3kw:18', b'triglav_c3kw:95', b'triglav_c3kw:415', b'triglav_c3kw:167', b'triglav_c3kw:188', b'triglav_c3kw:156', b'triglav_c3kw:122', b'triglav_c3kw:464', b'triglav_c3kw:285', b'triglav_c3kw:436', b'triglav_c3kw:499', b'triglav_c3kw:581', b'triglav_c3kw:509', b'triglav_c3kw:289', b'triglav_c3kw:281', b'triglav_c3kw:42', b'triglav_c3kw:145', b'triglav_c3kw:487', b'triglav_c3kw:446', b'triglav_c3kw:377', b'triglav_c3kw:144', b'triglav_c3kw:350', b'triglav_c3kw:540', b'triglav_c3kw:311', b'triglav_c3kw:170', b'triglav_c3kw:580', b'triglav_c3kw:523', b'triglav_c3kw:123', b'triglav_c3kw:262', b'triglav_c3kw:296', b'triglav_c3kw:567', b'triglav_c3kw:193', b'triglav_c3kw:343', b'triglav_c3kw:149', b'triglav_c3kw:174', b'triglav_c3kw:21', b'triglav_c3kw:354', b'triglav_c3kw:365', b'triglav_c3kw:605', b'triglav_c3kw:498', b'triglav_c3kw:578', b'triglav_c3kw:490', b'triglav_c3kw:94', b'triglav_c3kw:600', b'triglav_c3kw:454', b'triglav_c3kw:36', b'triglav_c3kw:535', b'triglav_c3kw:166', b'triglav_c3kw:180', b'triglav_c3kw:432', b'triglav_c3kw:189', b'triglav_c3kw:585', b'triglav_c3kw:596', b'triglav_c3kw:9', b'triglav_c3kw:76', b'triglav_c3kw:562', b'triglav_c3kw:575', b'triglav_c3kw:500', b'triglav_c3kw:369', b'triglav_c3kw:55', b'triglav_c3kw:153', b'triglav_c3kw:450', b'triglav_c3kw:226', b'triglav_c3kw:373', b'triglav_c3kw:372', b'triglav_c3kw:403', b'triglav_c3kw:534', b'triglav_c3kw:472', b'triglav_c3kw:175', b'triglav_c3kw:230', b'triglav_c3kw:460', b'triglav_c3kw:33', b'triglav_c3kw:263', b'triglav_c3kw:465', b'triglav_c3kw:179', b'triglav_c3kw:425', b'triglav_c3kw:376', b'triglav_c3kw:86', b'triglav_c3kw:394', b'triglav_c3kw:315', b'triglav_c3kw:235', b'triglav_c3kw:364', b'triglav_c3kw:324', b'triglav_c3kw:64', b'triglav_c3kw:486', b'triglav_c3kw:530', b'triglav_c3kw:244', b'triglav_c3kw:152', b'triglav_c3kw:239', b'triglav_c3kw:209', b'triglav_c3kw:527', b'triglav_c3kw:491', b'triglav_c3kw:222', b'triglav_c3kw:297', b'triglav_c3kw:476', b'triglav_c3kw:10', b'triglav_c3kw:347', b'triglav_c3kw:395', b'triglav_c3kw:29', b'triglav_c3kw:171', b'triglav_c3kw:473', b'triglav_c3kw:73', b'triglav_c3kw:77', b'triglav_c3kw:238', b'triglav_c3kw:117', b'triglav_c3kw:134', b'triglav_c3kw:69', b'triglav_c3kw:249', b'triglav_c3kw:0', b'triglav_c3kw:306', b'triglav_c3kw:19', b'triglav_c3kw:284', b'triglav_c3kw:271', b'triglav_c3kw:545', b'triglav_c3kw:292', b'triglav_c3kw:59', b'triglav_c3kw:241', b'triglav_c3kw:60', b'triglav_c3kw:358', b'triglav_c3kw:538', b'triglav_c3kw:548', b'triglav_c3kw:20', b'triglav_c3kw:406', b'triglav_c3kw:333', b'triglav_c3kw:321', b'triglav_c3kw:383', b'triglav_c3kw:318', b'triglav_c3kw:14', b'triglav_c3kw:526', b'triglav_c3kw:420', b'triglav_c3kw:407', b'triglav_c3kw:579', b'triglav_c3kw:332', b'triglav_c3kw:505', b'triglav_c3kw:138', b'triglav_c3kw:11', b'triglav_c3kw:140', b'triglav_c3kw:428', b'triglav_c3kw:421', b'triglav_c3kw:390', b'triglav_c3kw:589', b'triglav_c3kw:87', b'triglav_c3kw:82', b'triglav_c3kw:477', b'triglav_c3kw:469', b'triglav_c3kw:549', b'triglav_c3kw:504', b'triglav_c3kw:178', b'triglav_c3kw:368', b'triglav_c3kw:419', b'triglav_c3kw:513', b'triglav_c3kw:185', b'triglav_c3kw:32', b'triglav_c3kw:91', b'triglav_c3kw:588', b'triglav_c3kw:325', b'triglav_c3kw:361', b'triglav_c3kw:501', b'triglav_c3kw:418', b'triglav_c3kw:256', b'triglav_c3kw:163', b'triglav_c3kw:148', b'triglav_c3kw:382', b'triglav_c3kw:495', b'triglav_c3kw:442', b'triglav_c3kw:248', b'triglav_c3kw:314', b'triglav_c3kw:461', b'triglav_c3kw:402', b'triglav_c3kw:157', b'triglav_c3kw:116', b'triglav_c3kw:539', b'triglav_c3kw:571', b'triglav_c3kw:197', b'triglav_c3kw:192', b'triglav_c3kw:570', b'triglav_c3kw:61', b'triglav_c3kw:443', b'triglav_c3kw:139', b'triglav_c3kw:531', b'triglav_c3kw:597', b'triglav_c3kw:604', b'triglav_c3kw:346', b'triglav_c3kw:1', b'triglav_c3kw:130', b'triglav_c3kw:72', b'triglav_c3kw:516', b'triglav_c3kw:563', b'triglav_c3kw:512', b'triglav_c3kw:482', b'triglav_c3kw:266', b'triglav_c3kw:204', b'triglav_c3kw:288', b'triglav_c3kw:437', b'triglav_c3kw:391', b'triglav_c3kw:424', b'triglav_c3kw:379', b'triglav_c3kw:203', b'triglav_c3kw:339', b'triglav_c3kw:308', b'triglav_c3kw:392', b'triglav_c3kw:282', b'triglav_c3kw:254', b'triglav_c3kw:147', b'triglav_c3kw:12', b'triglav_c3kw:582', b'triglav_c3kw:453', b'triglav_c3kw:542', b'triglav_c3kw:317', b'triglav_c3kw:564', b'triglav_c3kw:528', b'triglav_c3kw:559', b'triglav_c3kw:137', b'triglav_c3kw:70', b'triglav_c3kw:590', b'triglav_c3kw:385', b'triglav_c3kw:35', b'triglav_c3kw:546', b'triglav_c3kw:75', b'triglav_c3kw:13', b'triglav_c3kw:129', b'triglav_c3kw:326', b'triglav_c3kw:260', b'triglav_c3kw:396', b'triglav_c3kw:520', b'triglav_c3kw:340', b'triglav_c3kw:225', b'triglav_c3kw:173', b'triglav_c3kw:569', b'triglav_c3kw:393', b'triglav_c3kw:80', b'triglav_c3kw:438', b'triglav_c3kw:272', b'triglav_c3kw:413', b'triglav_c3kw:532', b'triglav_c3kw:195', b'triglav_c3kw:276', b'triglav_c3kw:265', b'triglav_c3kw:228', b'triglav_c3kw:536', b'triglav_c3kw:287', b'triglav_c3kw:422', b'triglav_c3kw:183', b'triglav_c3kw:489', b'triglav_c3kw:304', b'triglav_c3kw:294', b'triglav_c3kw:251', b'triglav_c3kw:316', b'triglav_c3kw:507', b'triglav_c3kw:158', b'triglav_c3kw:291', b'triglav_c3kw:27', b'triglav_c3kw:136', b'triglav_c3kw:427', b'triglav_c3kw:164', b'triglav_c3kw:366', b'triglav_c3kw:56', b'triglav_c3kw:375', b'triglav_c3kw:218', b'triglav_c3kw:587', b'triglav_c3kw:492', b'triglav_c3kw:151', b'triglav_c3kw:389', b'triglav_c3kw:120', b'triglav_c3kw:416', b'triglav_c3kw:362', b'triglav_c3kw:335', b'triglav_c3kw:169', b'triglav_c3kw:250', b'triglav_c3kw:88', b'triglav_c3kw:161', b'triglav_c3kw:515', b'triglav_c3kw:371', b'triglav_c3kw:160', b'triglav_c3kw:485', b'triglav_c3kw:2', b'triglav_c3kw:506', b'triglav_c3kw:462', b'triglav_c3kw:497', b'triglav_c3kw:142', b'triglav_c3kw:378', b'triglav_c3kw:533', b'triglav_c3kw:298', b'triglav_c3kw:367', b'triglav_c3kw:560', b'triglav_c3kw:93', b'triglav_c3kw:456', b'triglav_c3kw:357', b'triglav_c3kw:514', b'triglav_c3kw:305', b'triglav_c3kw:510', b'triglav_c3kw:388', b'triglav_c3kw:551', b'triglav_c3kw:323', b'triglav_c3kw:384', b'triglav_c3kw:258', b'triglav_c3kw:381', b'triglav_c3kw:543', b'triglav_c3kw:224', b'triglav_c3kw:49', b'triglav_c3kw:529', b'triglav_c3kw:31', b'triglav_c3kw:330', b'triglav_c3kw:299', b'triglav_c3kw:524', b'triglav_c3kw:397', b'triglav_c3kw:439', b'triglav_c3kw:408', b'triglav_c3kw:474', b'triglav_c3kw:412', b'triglav_c3kw:591', b'triglav_c3kw:125', b'triglav_c3kw:352', b'triglav_c3kw:554', b'triglav_c3kw:198', b'triglav_c3kw:132', b'triglav_c3kw:242', b'triglav_c3kw:583', b'triglav_c3kw:322', b'triglav_c3kw:177', b'triglav_c3kw:471', b'triglav_c3kw:400', b'triglav_c3kw:146', b'triglav_c3kw:206', b'triglav_c3kw:17', b'triglav_c3kw:6', b'triglav_c3kw:353', b'triglav_c3kw:66', b'triglav_c3kw:301', b'triglav_c3kw:23', b'triglav_c3kw:286', b'triglav_c3kw:519', b'triglav_c3kw:211', b'triglav_c3kw:561', b'triglav_c3kw:243', b'triglav_c3kw:502', b'triglav_c3kw:155', b'triglav_c3kw:363', b'triglav_c3kw:480', b'triglav_c3kw:356', b'triglav_c3kw:269', b'triglav_c3kw:568', b'triglav_c3kw:426', b'triglav_c3kw:220', b'triglav_c3kw:430', b'triglav_c3kw:124', b'triglav_c3kw:78', b'triglav_c3kw:484', b'triglav_c3kw:85', b'triglav_c3kw:463', b'triglav_c3kw:39', b'triglav_c3kw:435', b'triglav_c3kw:576', b'triglav_c3kw:190', b'triglav_c3kw:434', b'triglav_c3kw:558', b'triglav_c3kw:236', b'triglav_c3kw:210', b'triglav_c3kw:417', b'triglav_c3kw:401', b'triglav_c3kw:327', b'triglav_c3kw:159', b'triglav_c3kw:344', b'triglav_c3kw:194', b'triglav_c3kw:599', b'triglav_c3kw:405', b'triglav_c3kw:550', b'triglav_c3kw:40', b'triglav_c3kw:290', b'triglav_c3kw:233', b'triglav_c3kw:215', b'triglav_c3kw:219', b'triglav_c3kw:503', b'triglav_c3kw:246', b'triglav_c3kw:255', b'triglav_c3kw:452', b'triglav_c3kw:165', b'triglav_c3kw:186', b'triglav_c3kw:214', b'triglav_c3kw:182', b'triglav_c3kw:150', b'triglav_c3kw:496', b'triglav_c3kw:74', b'triglav_c3kw:331', b'triglav_c3kw:348', b'triglav_c3kw:133', b'triglav_c3kw:603', b'triglav_c3kw:341', b'triglav_c3kw:478', b'triglav_c3kw:467', b'triglav_c3kw:493', b'triglav_c3kw:259', b'triglav_c3kw:89', b'triglav_c3kw:53', b'triglav_c3kw:431', b'triglav_c3kw:457', b'triglav_c3kw:62', b'triglav_c3kw:57', b'triglav_c3kw:268', b'triglav_c3kw:67', b'triglav_c3kw:565', b'triglav_c3kw:26', b'triglav_c3kw:370', b'triglav_c3kw:172', b'triglav_c3kw:594', b'triglav_c3kw:586', b'triglav_c3kw:449', b'triglav_c3kw:488', b'triglav_c3kw:143', b'triglav_c3kw:176', b'triglav_c3kw:221', b'triglav_c3kw:247', b'triglav_c3kw:264', b'triglav_c3kw:63', b'triglav_c3kw:475', b'triglav_c3kw:261', b'triglav_c3kw:22', b'triglav_c3kw:119', b'triglav_c3kw:154', b'triglav_c3kw:479', b'triglav_c3kw:92', b'triglav_c3kw:518', b'triglav_c3kw:41', b'triglav_c3kw:338', b'triglav_c3kw:440', b'triglav_c3kw:547', b'triglav_c3kw:3', b'triglav_c3kw:273', b'triglav_c3kw:349', b'triglav_c3kw:481', b'triglav_c3kw:345', b'triglav_c3kw:573', b'triglav_c3kw:445', b'triglav_c3kw:199', b'triglav_c3kw:81', b'triglav_c3kw:521', b'triglav_c3kw:313', b'triglav_c3kw:283', b'triglav_c3kw:423', b'triglav_c3kw:374', b'triglav_c3kw:444', b'triglav_c3kw:30', b'triglav_c3kw:121', b'triglav_c3kw:466', b'triglav_c3kw:237', b'triglav_c3kw:168', b'triglav_c3kw:16', b'triglav_c3kw:572', b'triglav_c3kw:441', b'triglav_c3kw:555', b'triglav_c3kw:537', b'triglav_c3kw:595', b'triglav_c3kw:380', b'triglav_c3kw:448', b'triglav_c3kw:187', b'triglav_c3kw:470', b'triglav_c3kw:191', b'triglav_c3kw:602', b'triglav_c3kw:577', b'triglav_c3kw:79', b'triglav_c3kw:229', b'triglav_c3kw:598', b'triglav_c3kw:277', b'triglav_c3kw:34', b'triglav_c3kw:128', b'triglav_c3kw:409', b'triglav_c3kw:404', b'triglav_c3kw:312', b'triglav_c3kw:202', b'triglav_c3kw:52', b'triglav_c3kw:71', b'triglav_c3kw:7', b'triglav_c3kw:511', b'triglav_c3kw:525', b'triglav_c3kw:207', b'triglav_c3kw:334', b'triglav_c3kw:300', b'triglav_c3kw:84', b'triglav_c3kw:309', b'triglav_c3kw:295', b'triglav_c3kw:96', b'triglav_c3kw:118']\n"
     ]
    }
   ],
   "source": [
    "keys = r.keys(\"triglav_c3kw*\")\n",
    "\n",
    "print(keys)"
   ]
  },
  {
   "cell_type": "code",
   "execution_count": 36,
   "metadata": {},
   "outputs": [
    {
     "ename": "ResponseError",
     "evalue": "unknown command 'c3kw'",
     "output_type": "error",
     "traceback": [
      "\u001b[0;31m---------------------------------------------------------------------------\u001b[0m",
      "\u001b[0;31mResponseError\u001b[0m                             Traceback (most recent call last)",
      "Cell \u001b[0;32mIn[36], line 1\u001b[0m\n\u001b[0;32m----> 1\u001b[0m keys \u001b[39m=\u001b[39m r\u001b[39m.\u001b[39;49mexecute_command(\u001b[39m\"\u001b[39;49m\u001b[39mc3kw \u001b[39;49m\u001b[39m\"\u001b[39;49m)\n\u001b[1;32m      2\u001b[0m \u001b[39mprint\u001b[39m(\u001b[39m\"\u001b[39m\u001b[39mKeys count\u001b[39m\u001b[39m\"\u001b[39m, \u001b[39mlen\u001b[39m(keys))\n\u001b[1;32m      3\u001b[0m keys\n",
      "File \u001b[0;32m~/.local/lib/python3.9/site-packages/redis/client.py:1269\u001b[0m, in \u001b[0;36mRedis.execute_command\u001b[0;34m(self, *args, **options)\u001b[0m\n\u001b[1;32m   1266\u001b[0m conn \u001b[39m=\u001b[39m \u001b[39mself\u001b[39m\u001b[39m.\u001b[39mconnection \u001b[39mor\u001b[39;00m pool\u001b[39m.\u001b[39mget_connection(command_name, \u001b[39m*\u001b[39m\u001b[39m*\u001b[39moptions)\n\u001b[1;32m   1268\u001b[0m \u001b[39mtry\u001b[39;00m:\n\u001b[0;32m-> 1269\u001b[0m     \u001b[39mreturn\u001b[39;00m conn\u001b[39m.\u001b[39;49mretry\u001b[39m.\u001b[39;49mcall_with_retry(\n\u001b[1;32m   1270\u001b[0m         \u001b[39mlambda\u001b[39;49;00m: \u001b[39mself\u001b[39;49m\u001b[39m.\u001b[39;49m_send_command_parse_response(\n\u001b[1;32m   1271\u001b[0m             conn, command_name, \u001b[39m*\u001b[39;49margs, \u001b[39m*\u001b[39;49m\u001b[39m*\u001b[39;49moptions\n\u001b[1;32m   1272\u001b[0m         ),\n\u001b[1;32m   1273\u001b[0m         \u001b[39mlambda\u001b[39;49;00m error: \u001b[39mself\u001b[39;49m\u001b[39m.\u001b[39;49m_disconnect_raise(conn, error),\n\u001b[1;32m   1274\u001b[0m     )\n\u001b[1;32m   1275\u001b[0m \u001b[39mfinally\u001b[39;00m:\n\u001b[1;32m   1276\u001b[0m     \u001b[39mif\u001b[39;00m \u001b[39mnot\u001b[39;00m \u001b[39mself\u001b[39m\u001b[39m.\u001b[39mconnection:\n",
      "File \u001b[0;32m~/.local/lib/python3.9/site-packages/redis/retry.py:46\u001b[0m, in \u001b[0;36mRetry.call_with_retry\u001b[0;34m(self, do, fail)\u001b[0m\n\u001b[1;32m     44\u001b[0m \u001b[39mwhile\u001b[39;00m \u001b[39mTrue\u001b[39;00m:\n\u001b[1;32m     45\u001b[0m     \u001b[39mtry\u001b[39;00m:\n\u001b[0;32m---> 46\u001b[0m         \u001b[39mreturn\u001b[39;00m do()\n\u001b[1;32m     47\u001b[0m     \u001b[39mexcept\u001b[39;00m \u001b[39mself\u001b[39m\u001b[39m.\u001b[39m_supported_errors \u001b[39mas\u001b[39;00m error:\n\u001b[1;32m     48\u001b[0m         failures \u001b[39m+\u001b[39m\u001b[39m=\u001b[39m \u001b[39m1\u001b[39m\n",
      "File \u001b[0;32m~/.local/lib/python3.9/site-packages/redis/client.py:1270\u001b[0m, in \u001b[0;36mRedis.execute_command.<locals>.<lambda>\u001b[0;34m()\u001b[0m\n\u001b[1;32m   1266\u001b[0m conn \u001b[39m=\u001b[39m \u001b[39mself\u001b[39m\u001b[39m.\u001b[39mconnection \u001b[39mor\u001b[39;00m pool\u001b[39m.\u001b[39mget_connection(command_name, \u001b[39m*\u001b[39m\u001b[39m*\u001b[39moptions)\n\u001b[1;32m   1268\u001b[0m \u001b[39mtry\u001b[39;00m:\n\u001b[1;32m   1269\u001b[0m     \u001b[39mreturn\u001b[39;00m conn\u001b[39m.\u001b[39mretry\u001b[39m.\u001b[39mcall_with_retry(\n\u001b[0;32m-> 1270\u001b[0m         \u001b[39mlambda\u001b[39;00m: \u001b[39mself\u001b[39;49m\u001b[39m.\u001b[39;49m_send_command_parse_response(\n\u001b[1;32m   1271\u001b[0m             conn, command_name, \u001b[39m*\u001b[39;49margs, \u001b[39m*\u001b[39;49m\u001b[39m*\u001b[39;49moptions\n\u001b[1;32m   1272\u001b[0m         ),\n\u001b[1;32m   1273\u001b[0m         \u001b[39mlambda\u001b[39;00m error: \u001b[39mself\u001b[39m\u001b[39m.\u001b[39m_disconnect_raise(conn, error),\n\u001b[1;32m   1274\u001b[0m     )\n\u001b[1;32m   1275\u001b[0m \u001b[39mfinally\u001b[39;00m:\n\u001b[1;32m   1276\u001b[0m     \u001b[39mif\u001b[39;00m \u001b[39mnot\u001b[39;00m \u001b[39mself\u001b[39m\u001b[39m.\u001b[39mconnection:\n",
      "File \u001b[0;32m~/.local/lib/python3.9/site-packages/redis/client.py:1246\u001b[0m, in \u001b[0;36mRedis._send_command_parse_response\u001b[0;34m(self, conn, command_name, *args, **options)\u001b[0m\n\u001b[1;32m   1242\u001b[0m \u001b[39m\u001b[39m\u001b[39m\"\"\"\u001b[39;00m\n\u001b[1;32m   1243\u001b[0m \u001b[39mSend a command and parse the response\u001b[39;00m\n\u001b[1;32m   1244\u001b[0m \u001b[39m\"\"\"\u001b[39;00m\n\u001b[1;32m   1245\u001b[0m conn\u001b[39m.\u001b[39msend_command(\u001b[39m*\u001b[39margs)\n\u001b[0;32m-> 1246\u001b[0m \u001b[39mreturn\u001b[39;00m \u001b[39mself\u001b[39;49m\u001b[39m.\u001b[39;49mparse_response(conn, command_name, \u001b[39m*\u001b[39;49m\u001b[39m*\u001b[39;49moptions)\n",
      "File \u001b[0;32m~/.local/lib/python3.9/site-packages/redis/client.py:1286\u001b[0m, in \u001b[0;36mRedis.parse_response\u001b[0;34m(self, connection, command_name, **options)\u001b[0m\n\u001b[1;32m   1284\u001b[0m         options\u001b[39m.\u001b[39mpop(NEVER_DECODE)\n\u001b[1;32m   1285\u001b[0m     \u001b[39melse\u001b[39;00m:\n\u001b[0;32m-> 1286\u001b[0m         response \u001b[39m=\u001b[39m connection\u001b[39m.\u001b[39;49mread_response()\n\u001b[1;32m   1287\u001b[0m \u001b[39mexcept\u001b[39;00m ResponseError:\n\u001b[1;32m   1288\u001b[0m     \u001b[39mif\u001b[39;00m EMPTY_RESPONSE \u001b[39min\u001b[39;00m options:\n",
      "File \u001b[0;32m~/.local/lib/python3.9/site-packages/redis/connection.py:905\u001b[0m, in \u001b[0;36mAbstractConnection.read_response\u001b[0;34m(self, disable_decoding, disconnect_on_error)\u001b[0m\n\u001b[1;32m    902\u001b[0m     \u001b[39mself\u001b[39m\u001b[39m.\u001b[39mnext_health_check \u001b[39m=\u001b[39m time() \u001b[39m+\u001b[39m \u001b[39mself\u001b[39m\u001b[39m.\u001b[39mhealth_check_interval\n\u001b[1;32m    904\u001b[0m \u001b[39mif\u001b[39;00m \u001b[39misinstance\u001b[39m(response, ResponseError):\n\u001b[0;32m--> 905\u001b[0m     \u001b[39mraise\u001b[39;00m response\n\u001b[1;32m    906\u001b[0m \u001b[39mreturn\u001b[39;00m response\n",
      "\u001b[0;31mResponseError\u001b[0m: unknown command 'c3kw'"
     ]
    }
   ],
   "source": [
    "keys = r.execute_command(\"KEYS *\")\n",
    "print(\"Keys count\", len(keys))\n",
    "keys"
   ]
  },
  {
   "cell_type": "code",
   "execution_count": 19,
   "metadata": {},
   "outputs": [
    {
     "name": "stdout",
     "output_type": "stream",
     "text": [
      "b'triglav_c3kw'\n",
      "b'acs_emb_index'\n",
      "b'domzis_index_simple'\n",
      "b'triglav_c3en'\n",
      "b'triglav_c3'\n",
      "b'domzis_index_complex'\n"
     ]
    }
   ],
   "source": [
    "indexes = r.execute_command(\"FT._List\")\n",
    "\n",
    "# Print the keys\n",
    "for index in indexes:\n",
    "    print(index)"
   ]
  },
  {
   "cell_type": "code",
   "execution_count": null,
   "metadata": {},
   "outputs": [],
   "source": [
    "def redis_query_embedding_index_kw(index_name, redis_conn, query_emb, t_id, topK=5):\n",
    "\n",
    "    try:\n",
    "        print(\"Embeding query size:\" + str(len(query_emb)))\n",
    "        query_vector = np.array(query_emb).astype(np.float32).tobytes()\n",
    "        q = Query(f'*=>[KNN {topK} @{\"c3kw_vector\"} $vec_param AS vector_score]').sort_by('vector_score').paging(0,topK).return_fields('vector_score','c3kw_l4','c3kw_tiid').dialect(2)\n",
    "        params_dict = {\"vec_param\": query_vector}\n",
    "        #logging.info(params_dict)\n",
    "        results = redis_conn.ft(index_name).search(q, query_params = params_dict)\n",
    "        print(results)\n",
    "        #logging.info(\"Query results: %s\", results)\n",
    "        result_for_return = [{\n",
    "                'id':match.id,\n",
    "                'cpxq':match['c3kw_l4'],\n",
    "                'tiid':match['c3kw_tiid'],\n",
    "                'value':match.vector_score,\n",
    "                'rank':''\n",
    "            } for match in results.docs if match.id != t_id]\n",
    "    except Exception as err:\n",
    "        print(\"Upsss exception!! :(\", err, err.args)\n",
    "        #logging.info(\"err: %s, err.args: %s\", err, err.args)"
   ]
  },
  {
   "cell_type": "code",
   "execution_count": null,
   "metadata": {},
   "outputs": [],
   "source": []
  }
 ],
 "metadata": {
  "kernelspec": {
   "display_name": "Python 3",
   "language": "python",
   "name": "python3"
  },
  "language_info": {
   "codemirror_mode": {
    "name": "ipython",
    "version": 3
   },
   "file_extension": ".py",
   "mimetype": "text/x-python",
   "name": "python",
   "nbconvert_exporter": "python",
   "pygments_lexer": "ipython3",
   "version": "3.9.2"
  },
  "orig_nbformat": 4
 },
 "nbformat": 4,
 "nbformat_minor": 2
}
