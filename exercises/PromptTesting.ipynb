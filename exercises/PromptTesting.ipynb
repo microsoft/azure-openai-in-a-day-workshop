{
 "cells": [
  {
   "cell_type": "code",
   "execution_count": 5,
   "metadata": {},
   "outputs": [],
   "source": [
    "import pandas as pd\n",
    "import os\n",
    "import json\n",
    "import tiktoken\n",
    "import openai\n",
    "import numpy as np\n",
    "from langchain.chat_models import AzureChatOpenAI\n",
    "from langchain.schema import HumanMessage"
   ]
  },
  {
   "cell_type": "code",
   "execution_count": 19,
   "metadata": {},
   "outputs": [],
   "source": [
    "BASE_URL_4 = \"https://danijel-test02.openai.azure.com/\"\n",
    "API_KEY_4 = \"05fe89f89e984fd188cb6143d6f5699a\"\n",
    "DEPLOYMENT_NAME_4 = \"gpt4\"\n",
    "model_4 = AzureChatOpenAI(\n",
    "    openai_api_base=BASE_URL_4,\n",
    "    openai_api_version=\"2023-05-15\",\n",
    "    deployment_name=DEPLOYMENT_NAME_4,\n",
    "    openai_api_key=API_KEY_4,\n",
    "    openai_api_type=\"azure\",\n",
    "    temperature=0.0,\n",
    ")"
   ]
  },
  {
   "cell_type": "code",
   "execution_count": 6,
   "metadata": {},
   "outputs": [],
   "source": [
    "BASE_URL = \"https://danijel-test01.openai.azure.com/\"\n",
    "API_KEY = \"efd76f5c1a2a44beb3399c73c7d5695f\"\n",
    "DEPLOYMENT_NAME = \"gpt-35-turbo\"\n",
    "model_3 = AzureChatOpenAI(\n",
    "    openai_api_base=BASE_URL,\n",
    "    openai_api_version=\"2023-05-15\",\n",
    "    deployment_name=DEPLOYMENT_NAME,\n",
    "    openai_api_key=API_KEY,\n",
    "    openai_api_type=\"azure\",\n",
    "    temperature=0.0,\n",
    ")"
   ]
  },
  {
   "cell_type": "code",
   "execution_count": 7,
   "metadata": {},
   "outputs": [],
   "source": [
    "def gpt3_call(prompt):\n",
    "    return model_3([HumanMessage(content=prompt)])\n",
    "\n",
    "# Then you can use it like this:\n",
    "# translation = gpt4_call(\"Pozdravljen svet!\")"
   ]
  },
  {
   "cell_type": "code",
   "execution_count": 20,
   "metadata": {},
   "outputs": [],
   "source": [
    "def gpt4_call(prompt):\n",
    "    return model_4([HumanMessage(content=prompt)])\n",
    "\n",
    "# Then you can use it like this:\n",
    "# translation = gpt4_call(\"Pozdravljen svet!\")"
   ]
  },
  {
   "cell_type": "markdown",
   "metadata": {},
   "source": [
    "## FIND THE MAIN QUESTION AND KEYWORDS FROM EMAIL 📬📨"
   ]
  },
  {
   "cell_type": "code",
   "execution_count": 6,
   "metadata": {},
   "outputs": [],
   "source": [
    "question =  f\"\"\"Spoštovani,\n",
    "oče, Anton Kokalj, rojen 26.10.1936, je pri vas sklenil zavarovalno polico za investicijsko zavarovanje fleks za odrasle, št. police 8229870, sedaj bi želel dvigniti sredstva v obliki predujma. Zanima me kje najdem obrazec za dvig predujma.\n",
    "Hvala in lep pozdrav,\n",
    "Elizabeta Uršič.\n",
    "\"\"\"\n",
    "\n",
    "prompt_slo = f\"\"\"From the email below, find the main question and keywords.\n",
    "Email:\n",
    "Pozdravljeni, \n",
    "najlepša hvala za vaše obvestilo. Mi prosim lahko dopišete za katero zavarovanje pošiljate opomin. Lahko dopišete št. pogodbe, prosim. Pri vas imamo člani družine  zavarovano hišo, avto, zdravje, motor... \n",
    "Za odgovor se vam na najlepše zahvaljujem. \n",
    "Lep pozdrav\n",
    "Vladimila Dobnik \n",
    "Output:\n",
    "Vladimila Dobnik je vprašala, katero zavarovanje pošiljate opomin.\n",
    "keywords -> \"opomin, polica, premija, osebno zavarovanje, križanje polic, plačilo\"\n",
    "\n",
    "Email:\n",
    "{question}\n",
    "Output:\n",
    "\"\"\" \n",
    "\n",
    "prompt_output = gpt4_call(prompt_slo).content"
   ]
  },
  {
   "cell_type": "code",
   "execution_count": 7,
   "metadata": {},
   "outputs": [
    {
     "name": "stdout",
     "output_type": "stream",
     "text": [
      "Elizabeta Uršič je vprašala, kje najde obrazec za dvig predujma.\n",
      "keywords -> \"investicijsko zavarovanje, fleks, dvig predujma, obrazec\"\n"
     ]
    }
   ],
   "source": [
    "print(prompt_output)"
   ]
  },
  {
   "cell_type": "code",
   "execution_count": 8,
   "metadata": {},
   "outputs": [],
   "source": [
    "question =  f\"\"\"Spoštovani.\n",
    "V prilogi ,ki ste mi jo poslali žal nisem zasledil za katero zavarovanje gre.(Opomin zaradi neplačila zavarovalne premije št.: A-2023-0045509 Zavarovalec: 982068)\n",
    "Lep pozdrav\n",
    "PREŠEREN TONE\n",
    "\"\"\"\n",
    "\n",
    "prompt_eng = f\"\"\"From the email below, find the main question and keywords.\n",
    "Email:\n",
    "Pozdravljeni, \n",
    "najlepša hvala za vaše obvestilo. Mi prosim lahko dopišete za katero zavarovanje pošiljate opomin. Lahko dopišete št. pogodbe, prosim. Pri vas imamo člani družine  zavarovano hišo, avto, zdravje, motor... \n",
    "Za odgovor se vam na najlepše zahvaljujem. \n",
    "Lep pozdrav\n",
    "Vladimila Dobnik \n",
    "Output:\n",
    "Could you please let me know for which insurance you are sending the reminder? Can you write the number of the contracts, please.\n",
    "keywords -> [\"reminder\", \"policy\", \"premium\", \"personal insurance\", \"policy crossing\", \"payment\"]\n",
    "\n",
    "Email:\n",
    "{question}\n",
    "Output:\n",
    "\"\"\" \n",
    "\n",
    "prompt_output = gpt4_call(prompt_eng).content"
   ]
  },
  {
   "cell_type": "code",
   "execution_count": 9,
   "metadata": {},
   "outputs": [
    {
     "name": "stdout",
     "output_type": "stream",
     "text": [
      "Which insurance is the reminder for? (Reminder for non-payment of insurance premium no.: A-2023-0045509 Policyholder: 982068)\n",
      "keywords -> [\"reminder\", \"insurance\", \"non-payment\", \"premium\", \"policyholder\"]\n"
     ]
    }
   ],
   "source": [
    "print(prompt_output)"
   ]
  },
  {
   "cell_type": "markdown",
   "metadata": {},
   "source": [
    "## FINDING BEST TAXONOMY FROM THE ONES THAT WE GOT FROM REDIS 📮🛢️"
   ]
  },
  {
   "cell_type": "markdown",
   "metadata": {},
   "source": [
    "## FINDING BEST TAXONOMY FROM THE ONES THAT WE GOT FROM OPENAI USING MULTIPLE PROMPT 🤖⚙️"
   ]
  },
  {
   "cell_type": "code",
   "execution_count": 10,
   "metadata": {},
   "outputs": [],
   "source": [
    "AI_found_taxonomies =  f\"\"\"[\"Ali je račun poravnan / plačan?\", \"Ali lahko sklenem nezgodno zavarovanje mladih med letom?\", \"Blokiran račun, urejanje terjatev\", \"Do kdaj lahko sklenem zavarovanje odpovedi turističnega zavarovanja?\", \"i.Triglav nivo zaupanja tier\", \"Informacije o opominu\", \"Kaj je digitalna poslovalnica i.triglav?\", \"Informacije o opominu\"]\"\"\"\n",
    "\n",
    "email_question_fact =  f\"\"\"I did not find which insurance the reminder is for in the attachment you sent me (Reminder for non-payment of insurance premium no.: A-2023-0045509 Policyholder: 982068). \n",
    "keywords -> [\"reminder\", \"non-payment\", \"insurance premium\", \"attachment\", \"policyholder\"]\"\"\"\n",
    "\n",
    "judge_prompt = f\"\"\"Consider the following email and avaliable taxonomy classifications.\n",
    "------\n",
    "email:\n",
    "{email_question_fact}\n",
    "avaliable taxonomies:\n",
    "{AI_found_taxonomies}\n",
    "------\n",
    "From the avaliable taxonomies, find the most relevant one for the email. The most relevant taxonomy is the one that best describes what happens in the email. Avaliable taxonomies are in a list and given in a random order.\n",
    "\"\"\" \n",
    "prompt_output = gpt4_call(judge_prompt).content"
   ]
  },
  {
   "cell_type": "code",
   "execution_count": 11,
   "metadata": {},
   "outputs": [
    {
     "name": "stdout",
     "output_type": "stream",
     "text": [
      "The most relevant taxonomy for the email is \"Informacije o opominu\".\n"
     ]
    }
   ],
   "source": [
    "print(prompt_output)"
   ]
  },
  {
   "cell_type": "code",
   "execution_count": 62,
   "metadata": {},
   "outputs": [],
   "source": [
    "AI_found_taxonomies =  f\"\"\"[\"Kako lahko prekličem dogovorjen termin s svetovalcem/zastopnikom?\", \"Blokiran račun, urejanje terjatev\", \"Do kdaj lahko sklenem zavarovanje odpovedi turističnega zavarovanja?\",\"Investicijsko zavarovanje fleks za odrasle\", \"i.Triglav nivo zaupanja tier\", \"Informacije o opominu\", \"Kaj je digitalna poslovalnica i.triglav?\", \"Informacije o opominu\"]\"\"\"\n",
    "\n",
    "email_question_fact =  f\"\"\"Zadeva: Odpoved napovedanega obiska\n",
    "\n",
    "Pozdravljeni!\n",
    "\n",
    "Danes sem prejela vaš klic in najavo zav. zastopnika za jutri (18.4.) ob 19h na ime Anja Masten, Velike Žablje 60a, 5263 Dobravlje....\n",
    "Ker je prišlo nekaj vmes in me ne bo doma, najavo odpovedujem. Ko bom zainteresirana, vas bom kontaktirala, zaenkrat me ne zanima.\n",
    "Ker sem tudi klicala nazaj na vašo tel. številko in nisem dobila odgovora, vas prosim za povratno informacijo o odpovedi obiska.\n",
    "\n",
    "Hvala in lep pozdrav!\n",
    "Anja Masten\n",
    "\"\"\"\n",
    "\n",
    "\n",
    "\n",
    "judge_prompt_oneShot = f\"\"\"Consider the following text and avaliable taxonomy classifications.\n",
    "From the avaliable taxonomies, find the most relevant one for the text. The most relevant taxonomy is the one that best describes the text. Avaliable taxonomies are in a list and given in a random order.\n",
    "------\n",
    "EXAMPLE:\n",
    "text:\n",
    "I did not find which insurance the reminder is for in the attachment you sent me (Reminder for non-payment of insurance premium no.: A-2023-0045509 Policyholder: 982068).\n",
    "avaliable taxonomies:\n",
    "[\"Informacije o opominu\", \"Blokiran račun, urejanje terjatev\", \"Kaj je digitalna poslovalnica i.triglav?\", \"Do kdaj lahko sklenem zavarovanje odpovedi turističnega zavarovanja?\", \"i.Triglav nivo zaupanja tier\", \"Ali lahko sklenem nezgodno zavarovanje mladih med letom?\", \"Ali je račun poravnan / plačan?\", \"Informacije o opominu\"]\n",
    "------\n",
    "OUTPUT:\n",
    "Informacije o opominu\n",
    "------\n",
    "REAL_PROMPT:\n",
    "text:\n",
    "{email_question_fact}\n",
    "avaliable taxonomies:\n",
    "{AI_found_taxonomies}\n",
    "------\n",
    "OUTPUT:\n",
    "\"\"\" \n",
    "prompt_output = gpt4_call(judge_prompt_oneShot).content"
   ]
  },
  {
   "cell_type": "code",
   "execution_count": 63,
   "metadata": {},
   "outputs": [
    {
     "name": "stdout",
     "output_type": "stream",
     "text": [
      "Investicijsko zavarovanje fleks za odrasle\n"
     ]
    }
   ],
   "source": [
    "print(prompt_output)"
   ]
  },
  {
   "cell_type": "markdown",
   "metadata": {},
   "source": []
  },
  {
   "cell_type": "code",
   "execution_count": null,
   "metadata": {},
   "outputs": [],
   "source": []
  },
  {
   "cell_type": "code",
   "execution_count": null,
   "metadata": {},
   "outputs": [],
   "source": [
    "found_taxonomies =  f\"\"\"[\"Ali je račun poravnan / plačan?\", \"Ali lahko sklenem nezgodno zavarovanje mladih med letom?\", \"Blokiran račun, urejanje terjatev\", \"Do kdaj lahko sklenem zavarovanje odpovedi turističnega zavarovanja?\",\"Investicijsko zavarovanje fleks za odrasle\", \"i.Triglav nivo zaupanja tier\", \"Informacije o opominu\", \"Kaj je digitalna poslovalnica i.triglav?\", \"Informacije o opominu\"]\"\"\"\n",
    "\n",
    "email_question_fact =  f\"\"\"Elizabeta Uršič je vprašala, kje najde obrazec za dvig predujma.\n",
    "keywords -> [\"dvig predujma, obrazec, investicijsko zavarovanje, fleks odrasli, št. police 8229870\"]\"\"\"\n",
    "\n",
    "prompt_danijel_old = \"\"\"You are an insurance smart agent in the CRM departmen and works in Zavarovalnica Triglav Slovenia (insurance company).\n",
    "For client's SUMMARY written on Slovenian language do label classification based on next 10 labels available as JSON list (keys for one label are: \"id\", \"cpxq\", \"tiid\", \"value\", \"rank\").\n",
    "A very important field to match is: \"cpxq\". Return only one best label match as JSON. Best match needs to return only next keys: \"cpxq\" (as string), \"tiid\" (as integer), \"value\" (as float), \"rank\" (as integer) and new key \"confidence\" (as integer between 0 and 100) how sure you are in this label classification/prediction.\n",
    "Exclude keys: \"id\".\n",
    "Labels for Summary: [{'id': 'triglav_c3:499', 'cpxq': 'Zakaj aplikacija Drajv ne beleži pravo število prevoženih kilometrov?\\nprijava napake v aplikaciji v Drajv\\nKLJUČNE BESEDE: kilometri, km, število prevoženih kilometrov, posodobitev', 'tiid': '500', 'value': '0.0757800936699', 'rank': 1}, {'id': 'triglav_c3:498', 'cpxq': 'Zakaj aplikacija Drajv prikazuje napačno oceno vožnje?\\nprijava napake v aplikaciji v Drajv\\nKLJUČNE BESEDE: omejitev hitrosti, prometni znaki', 'tiid': '499', 'value': '0.114150226116', 'rank': 2}, {'id': 'triglav_c3:492', 'cpxq': 'Zakaj ne morem začeti snemati vožnje med možnjo?\\nUporaba in delovanje aplikacije v Drajv\\nPostopek snemanja vožnje in namestitev telefona\\nKLJUČNE BESEDE: vključitev aplikacije, snemanje vožnje, drajv', 'tiid': '493', 'value': '0.115358710289', 'rank': 3}, {'id': 'triglav_c3:476', 'cpxq': 'Zakaj aplikacija drajv ne deluje pravilno?\\nTehnične težave v Drajv\\nKLJUČNE BESEDE: GPS, mobilni podatki, ne deluje, posodobitev, aplikacija', 'tiid': '477', 'value': '0.119953930378', 'rank': 4}, {'id': 'triglav_c3:475', 'cpxq': 'Zakaj se aplikacija ugaša med vožnjo?\\ntehnične težave v Drajv\\nKLJUČNE BESEDE: vožnja, ugasne aplikacija, Drajv', 'tiid': '476', 'value': '0.124796569347', 'rank': 5}, {'id': 'triglav_c3:501', 'cpxq': 'Kako prijavim merjenje napačnih sil oz. premik telefona?\\nprijava napake v aplikaciji v Drajv\\nKLJUČNE BESEDE: sile, vožnja, aplikacija, Drajv', 'tiid': '502', 'value': '0.126950263977', 'rank': 6}, {'id': 'triglav_c3:500', 'cpxq': 'Zakaj ne morem prijaviti napake?\\nprijava napake v aplikaciji v Drajv\\nKLJUČNE BESEDE: prijava, napaka, Drajv', 'tiid': '501', 'value': '0.131350398064', 'rank': 7}, {'id': 'triglav_c3:493', 'cpxq': 'Kakšen je postopek snemanja vožnje?\\nUporaba in delovanje aplikacije v Drajv\\nPostopek snemanja vožnje in namestitev telefona\\nKLJUČNE BESEDE: snemanje vožnje, zaključek, vožnja, stop, drajv', 'tiid': '494', 'value': '0.138219952583', 'rank': 8}, {'id': 'triglav_c3:491', 'cpxq': 'Ali je dovoljeno premikanje telefona med vožnjo?\\nUporaba in delovanje aplikacije v Drajv\\nPostopek snemanja vožnje in namestitev telefona\\nKLJUČNE BESEDE: premik, telefon, ocena, vožnja, drajv', 'tiid': '492', 'value': '0.138740837574', 'rank': 9}, {'id': 'triglav_c3:478', 'cpxq': 'Kako deluje aplikacija Drajv?\\nUporaba in delovanje aplikacije v Drajv\\nSplošne značilnosti aplikacije\\nKLJUČNE BESEDE: aplikacija, snemanje, vožnja, omejitev hitrosti, sile, toleranca', 'tiid': '479', 'value': '0.139850795269', 'rank': 10}]\n",
    "\"\"\" \n",
    "prompt_output = gpt4_call(prompt_danijel_old).content"
   ]
  },
  {
   "cell_type": "code",
   "execution_count": 26,
   "metadata": {},
   "outputs": [],
   "source": [
    "test_prompt_good_acualy_bad = \"\"\"You are an insurance intelligence agent in the CRM departmen and work at Zavarovalnica Triglav Slovenia (insurance company).\n",
    "For client's PROBLEM written on Slovenian, do label classification based only on the following 10 labels available as JSON list (keys for one label are: \"id\", \"cpxq\", \"tiid\", \"value\", \"rank\").\n",
    "The most important field to match is: \"cpxq\". Return only one best label match as JSON.\n",
    "The best match needs to return only the following keys: \"cpxq\" (as string), \"tiid\" (as integer), \"value\" (as float), \"rank\" (as integer) and new key \"confidence\" (as integer between 0 and 100), that tells, how sure you are in this label classification/prediction.\n",
    "Exclude keys: \"id\". As a last important step: check if your match exists in Labels for Problem.\n",
    "\n",
    "Labels for Problem:\n",
    "[{'id': 'triglav_c3:367', 'cpxq': 'Zakaj sem prejel položnico, če zavarovanja nisem podaljšal?\\nAvtomatska obnova zavarovanja v Zavarovalne police\\nKLJUČNE BESEDE: avtomatska obnova, zavarovanje dom, zavarovanje hišnih ljubljenčkov, zavarovanje psi, turistično zavarovanje, permanentno zavarovanje', 'tiid': '368', 'value': '0.131021380424', 'rank': 1}, {'id': 'triglav_c3:183', 'cpxq': 'Zakaj sem prejel/a dokumente za obnovo zavarovanja?\\nNezgodna zavarovanja v Zavarovalne police\\nNezgodno zavarovanje Pazi name\\nKLJUČNE BESEDE: dokumenti, obnova zavarovanja, obračun, račun, UPN, nezgodno zavarovanje mladih, permanentna', 'tiid': '184', 'value': '0.147427856922', 'rank': 2}, {'id': 'triglav_c3:155', 'cpxq': 'Kaj lahko dodatno zavarujem?\\nNezgodna zavarovanja v Zavarovalne police\\nNezgodno zavarovanje otrok in mladine\\nKLJUČNE BESEDE: nezgodno zavarovanje, otroci, mladina, kritje, dodatno kritje, doplačilo', 'tiid': '156', 'value': '0.148824572563', 'rank': 3}, {'id': 'triglav_c3:46', 'cpxq': 'Avtomobil imam na lizing. Tudi zavarovanje imam urejeno preko lizing podjetja. Ali to zavarovanje lahko vključim v svoj Triglav komplet?\\nTriglav komplet v Terjatve / plačila\\nKLJUČNE BESEDE: ', 'tiid': '47', 'value': '0.151032686234', 'rank': 4}, {'id': 'triglav_c3:275', 'cpxq': 'Ali lahko sklenem zavarovanje tudi kadarkoli med letom?\\nNezgodna zavarovanja v Zavarovalne police\\nNezgodno zavarovanje otrok in mladine\\nKLJUČNE BESEDE: sklepanje, nezgodno zavarovanje otrok in mladine, akcijska ponudba', 'tiid': '276', 'value': '0.152361571789', 'rank': 5}, {'id': 'triglav_c3:100', 'cpxq': 'Za polico, ki jo sklepam 2022, se gleda razlika med 2021 in 2020? Vendar v tem primeru, ko sklepam to polico, vozilo še ni opravilo tehničnega pregleda in posledično v eMRLVju ni letošnjega stanja?\\nZavarovanja vozil v Zavarovalne police\\nZavarovanje avtomobilske odgovornosti (obvezno avtomobilsko zavarovanje)\\nKLJUČNE BESEDE: ', 'tiid': '101', 'value': '0.152637004852', 'rank': 6}, {'id': 'triglav_c3:190', 'cpxq': 'Zakaj ne morem skleniti nezgodnega zavarovanja mladih na spletu?\\nNezgodna zavarovanja v Zavarovalne police\\nNezgodno zavarovanje Pazi name\\nKLJUČNE BESEDE: sklenitev preko spleta, online, permanentno zavarovanje, avtomatska obnova, nezgodno zavarovanje mladih', 'tiid': '191', 'value': '0.15369451046', 'rank': 7}, {'id': 'triglav_c3:407', 'cpxq': 'Ali me je kontaktiral vaš zastopnik?\\nInformacije glede obiska agenta/zastopnika v Splošne informacije \\nKLJUČNE BESEDE: obisk agenta, zastopnika, obisk svetovalca, triglav svetovanje, tris', 'tiid': '408', 'value': '0.155272960663', 'rank': 8}, {'id': 'triglav_c3:112', 'cpxq': 'Ukinja se doplačila za nadomestna vozila – v primeru avto vleke, ki opravlja storitev avto vleke, rabi ali ne to storitev?\\nZavarovanja vozil v Zavarovalne police\\nZavarovanje avtomobilske odgovornosti (obvezno avtomobilsko zavarovanje)\\nKLJUČNE BESEDE: ', 'tiid': '113', 'value': '0.156291544437', 'rank': 9}, {'id': 'triglav_c3:47', 'cpxq': 'Preko spleta smo sklenili letno zavarovanje potovanj v tujino, ki prične veljati šele čez teden dni. Ali zavarovanje lahko vključim v Triglav komplet?\\nTriglav komplet v Terjatve / plačila\\nKLJUČNE BESEDE: ', 'tiid': '48', 'value': '0.156547427177', 'rank': 10}]\n",
    "\n",
    "PROBLEM: Klicali so me glede dodatnih storitev, vendar sem pred pol leta zamenjal zavarovalnico za dopolnilno zavarovanje na Generalli in nisem njihova stranka.\"\"\"\n",
    "\n",
    "\n",
    "test_prompt_bad = \"\"\"You are an insurance intelligence agent in the CRM departmen and work at Zavarovalnica Triglav Slovenia (insurance company). For client's PROBLEM written on Slovenian, do label classification based only on the following 10 labels available as JSON list (keys for one label are: \"id\", \"cpxq\", \"tiid\", \"value\", \"rank\"). The most important field to match is: \"cpxq\". Return only one best label match as JSON. The best match needs to return only the following keys: \"cpxq\" (as string), \"tiid\" (as integer), \"value\" (as float), \"rank\" (as integer) and new key \"confidence\" (as integer between 0 and 100), that tells, how sure you are in this label classification/prediction. Exclude keys: \"id\". As a last important step: check if your match exists in Labels for Problem. Labels for Problem: [{'id': 'triglav_c3:367', 'cpxq': 'Zakaj sem prejel položnico, če zavarovanja nisem podaljšal?\\nAvtomatska obnova zavarovanja v Zavarovalne police\\nKLJUČNE BESEDE: avtomatska obnova, zavarovanje dom, zavarovanje hišnih ljubljenčkov, zavarovanje psi, turistično zavarovanje, permanentno zavarovanje', 'tiid': '368', 'value': '0.131021380424', 'rank': 1}, {'id': 'triglav_c3:183', 'cpxq': 'Zakaj sem prejel/a dokumente za obnovo zavarovanja?\\nNezgodna zavarovanja v Zavarovalne police\\nNezgodno zavarovanje Pazi name\\nKLJUČNE BESEDE: dokumenti, obnova zavarovanja, obračun, račun, UPN, nezgodno zavarovanje mladih, permanentna', 'tiid': '184', 'value': '0.147427856922', 'rank': 2}, {'id': 'triglav_c3:155', 'cpxq': 'Kaj lahko dodatno zavarujem?\\nNezgodna zavarovanja v Zavarovalne police\\nNezgodno zavarovanje otrok in mladine\\nKLJUČNE BESEDE: nezgodno zavarovanje, otroci, mladina, kritje, dodatno kritje, doplačilo', 'tiid': '156', 'value': '0.148824572563', 'rank': 3}, {'id': 'triglav_c3:46', 'cpxq': 'Avtomobil imam na lizing. Tudi zavarovanje imam urejeno preko lizing podjetja. Ali to zavarovanje lahko vključim v svoj Triglav komplet?\\nTriglav komplet v Terjatve / plačila\\nKLJUČNE BESEDE: ', 'tiid': '47', 'value': '0.151032686234', 'rank': 4}, {'id': 'triglav_c3:275', 'cpxq': 'Ali lahko sklenem zavarovanje tudi kadarkoli med letom?\\nNezgodna zavarovanja v Zavarovalne police\\nNezgodno zavarovanje otrok in mladine\\nKLJUČNE BESEDE: sklepanje, nezgodno zavarovanje otrok in mladine, akcijska ponudba', 'tiid': '276', 'value': '0.152361571789', 'rank': 5}, {'id': 'triglav_c3:100', 'cpxq': 'Za polico, ki jo sklepam 2022, se gleda razlika med 2021 in 2020? Vendar v tem primeru, ko sklepam to polico, vozilo še ni opravilo tehničnega pregleda in posledično v eMRLVju ni letošnjega stanja?\\nZavarovanja vozil v Zavarovalne police\\nZavarovanje avtomobilske odgovornosti (obvezno avtomobilsko zavarovanje)\\nKLJUČNE BESEDE: ', 'tiid': '101', 'value': '0.152637004852', 'rank': 6}, {'id': 'triglav_c3:190', 'cpxq': 'Zakaj ne morem skleniti nezgodnega zavarovanja mladih na spletu?\\nNezgodna zavarovanja v Zavarovalne police\\nNezgodno zavarovanje Pazi name\\nKLJUČNE BESEDE: sklenitev preko spleta, online, permanentno zavarovanje, avtomatska obnova, nezgodno zavarovanje mladih', 'tiid': '191', 'value': '0.15369451046', 'rank': 7}, {'id': 'triglav_c3:407', 'cpxq': 'Ali me je kontaktiral vaš zastopnik?\\nInformacije glede obiska agenta/zastopnika v Splošne informacije \\nKLJUČNE BESEDE: obisk agenta, zastopnika, obisk svetovalca, triglav svetovanje, tris', 'tiid': '408', 'value': '0.155272960663', 'rank': 8}, {'id': 'triglav_c3:112', 'cpxq': 'Ukinja se doplačila za nadomestna vozila – v primeru avto vleke, ki opravlja storitev avto vleke, rabi ali ne to storitev?\\nZavarovanja vozil v Zavarovalne police\\nZavarovanje avtomobilske odgovornosti (obvezno avtomobilsko zavarovanje)\\nKLJUČNE BESEDE: ', 'tiid': '113', 'value': '0.156291544437', 'rank': 9}, {'id': 'triglav_c3:47', 'cpxq': 'Preko spleta smo sklenili letno zavarovanje potovanj v tujino, ki prične veljati šele čez teden dni. Ali zavarovanje lahko vključim v Triglav komplet?\\nTriglav komplet v Terjatve / plačila\\nKLJUČNE BESEDE: ', 'tiid': '48', 'value': '0.156547427177', 'rank': 10}] PROBLEM: Klicali so me glede dodatnih storitev, vendar sem pred pol leta zamenjal zavarovalnico za dopolnilno zavarovanje na Generalli in nisem njihova stranka.\"\"\"\n",
    "\n",
    "\n",
    "labels_for_problem = \"\"\"[{'id': 'triglav_c3:367', 'cpxq': 'Informacije glede obiska agenta/zastopnika.\\nAvtomatska obnova zavarovanja v Zavarovalne police\\nKLJUČNE BESEDE: avtomatska obnova, zavarovanje dom, zavarovanje hišnih ljubljenčkov, zavarovanje psi, turistično zavarovanje, permanentno zavarovanje', 'tiid': '368', 'value': '0.131021380424', 'rank': 1}, {'id': 'triglav_c3:183', 'cpxq': 'Zakaj sem prejel/a dokumente za obnovo zavarovanja?\\nNezgodna zavarovanja v Zavarovalne police\\nNezgodno zavarovanje Pazi name\\nKLJUČNE BESEDE: dokumenti, obnova zavarovanja, obračun, račun, UPN, nezgodno zavarovanje mladih, permanentna', 'tiid': '184', 'value': '0.147427856922', 'rank': 2}, {'id': 'triglav_c3:155', 'cpxq': 'Kaj lahko dodatno zavarujem?\\nNezgodna zavarovanja v Zavarovalne police\\nNezgodno zavarovanje otrok in mladine\\nKLJUČNE BESEDE: nezgodno zavarovanje, otroci, mladina, kritje, dodatno kritje, doplačilo', 'tiid': '156', 'value': '0.148824572563', 'rank': 3}, {'id': 'triglav_c3:46', 'cpxq': 'Avtomobil imam na lizing. Tudi zavarovanje imam urejeno preko lizing podjetja. Ali to zavarovanje lahko vključim v svoj Triglav komplet?\\nTriglav komplet v Terjatve / plačila\\nKLJUČNE BESEDE: ', 'tiid': '47', 'value': '0.151032686234', 'rank': 4}, {'id': 'triglav_c3:275', 'cpxq': 'Ali lahko sklenem zavarovanje tudi kadarkoli med letom?\\nNezgodna zavarovanja v Zavarovalne police\\nNezgodno zavarovanje otrok in mladine\\nKLJUČNE BESEDE: sklepanje, nezgodno zavarovanje otrok in mladine, akcijska ponudba', 'tiid': '276', 'value': '0.152361571789', 'rank': 5}, {'id': 'triglav_c3:100', 'cpxq': 'Za polico, ki jo sklepam 2022, se gleda razlika med 2021 in 2020? Vendar v tem primeru, ko sklepam to polico, vozilo še ni opravilo tehničnega pregleda in posledično v eMRLVju ni letošnjega stanja?\\nZavarovanja vozil v Zavarovalne police\\nZavarovanje avtomobilske odgovornosti (obvezno avtomobilsko zavarovanje)\\nKLJUČNE BESEDE: ', 'tiid': '101', 'value': '0.152637004852', 'rank': 6}, {'id': 'triglav_c3:190', 'cpxq': 'Zakaj ne morem skleniti nezgodnega zavarovanja mladih na spletu?\\nNezgodna zavarovanja v Zavarovalne police\\nNezgodno zavarovanje Pazi name\\nKLJUČNE BESEDE: sklenitev preko spleta, online, permanentno zavarovanje, avtomatska obnova, nezgodno zavarovanje mladih', 'tiid': '191', 'value': '0.15369451046', 'rank': 7}, {'id': 'triglav_c3:407', 'cpxq': 'Ali me je kontaktiral vaš zastopnik?\\nInformacije glede obiska agenta/zastopnika v Splošne informacije \\nKLJUČNE BESEDE: obisk agenta, zastopnika, obisk svetovalca, triglav svetovanje, tris', 'tiid': '408', 'value': '0.155272960663', 'rank': 8}, {'id': 'triglav_c3:112', 'cpxq': 'Ukinja se doplačila za nadomestna vozila – v primeru avto vleke, ki opravlja storitev avto vleke, rabi ali ne to storitev?\\nZavarovanja vozil v Zavarovalne police\\nZavarovanje avtomobilske odgovornosti (obvezno avtomobilsko zavarovanje)\\nKLJUČNE BESEDE: ', 'tiid': '113', 'value': '0.156291544437', 'rank': 9}, {'id': 'triglav_c3:47', 'cpxq': 'Preko spleta smo sklenili letno zavarovanje potovanj v tujino, ki prične veljati šele čez teden dni. Ali zavarovanje lahko vključim v Triglav komplet?\\nTriglav komplet v Terjatve / plačila\\nKLJUČNE BESEDE: ', 'tiid': '48', 'value': '0.156547427177', 'rank': 10}]\"\"\"\n",
    "\n",
    "problem = \"\"\"Klicali so me glede dodatnih storitev, vendar sem pred pol leta zamenjal zavarovalnico za dopolnilno zavarovanje na Generalli in nisem njihova stranka.\"\"\"\n",
    "\n",
    "test_prompt_rewriten = f\"\"\"You are an insurance intelligence agent in the CRM department and work at a Slovenian insurance company called Zavarovalnica Triglav.\n",
    "Consider the following problem (extracted from clients' emails using GPT) and available labels (taxonomies).\n",
    "From the available taxonomies find the one that best describes the problem.\n",
    "Available taxonomies are in a JSON list and given in a random order. The most important field you want to match is \"cpxq\".\n",
    "Give the output back the same as the JSON in avaliable lables. If the avaliable lables are not in the output, return an JSON that sais \"None of the lables match the problem\".\n",
    "------\n",
    "problem:\n",
    "{problem}\n",
    "avaliable lables:\n",
    "{labels_for_problem}\n",
    "------\n",
    "OUTPUT:\"\"\""
   ]
  },
  {
   "cell_type": "code",
   "execution_count": 27,
   "metadata": {},
   "outputs": [
    {
     "name": "stdout",
     "output_type": "stream",
     "text": [
      "You are an insurance intelligence agent in the CRM department and work at a Slovenian insurance company called Zavarovalnica Triglav.\n",
      "Consider the following problem (extracted from clients' emails using GPT) and available labels (taxonomies).\n",
      "From the available taxonomies find the one that best describes the problem.\n",
      "Available taxonomies are in a JSON list and given in a random order. The most important field you want to match is \"cpxq\".\n",
      "Give the output back the same as the JSON in avaliable lables. If the avaliable lables are not in the output, return an JSON that sais \"None of the lables match the problem\".\n",
      "------\n",
      "problem:\n",
      "Klicali so me glede dodatnih storitev, vendar sem pred pol leta zamenjal zavarovalnico za dopolnilno zavarovanje na Generalli in nisem njihova stranka.\n",
      "avaliable lables:\n",
      "[{'id': 'triglav_c3:367', 'cpxq': 'Informacije glede obiska agenta/zastopnika.\n",
      "Avtomatska obnova zavarovanja v Zavarovalne police\n",
      "KLJUČNE BESEDE: avtomatska obnova, zavarovanje dom, zavarovanje hišnih ljubljenčkov, zavarovanje psi, turistično zavarovanje, permanentno zavarovanje', 'tiid': '368', 'value': '0.131021380424', 'rank': 1}, {'id': 'triglav_c3:183', 'cpxq': 'Zakaj sem prejel/a dokumente za obnovo zavarovanja?\n",
      "Nezgodna zavarovanja v Zavarovalne police\n",
      "Nezgodno zavarovanje Pazi name\n",
      "KLJUČNE BESEDE: dokumenti, obnova zavarovanja, obračun, račun, UPN, nezgodno zavarovanje mladih, permanentna', 'tiid': '184', 'value': '0.147427856922', 'rank': 2}, {'id': 'triglav_c3:155', 'cpxq': 'Kaj lahko dodatno zavarujem?\n",
      "Nezgodna zavarovanja v Zavarovalne police\n",
      "Nezgodno zavarovanje otrok in mladine\n",
      "KLJUČNE BESEDE: nezgodno zavarovanje, otroci, mladina, kritje, dodatno kritje, doplačilo', 'tiid': '156', 'value': '0.148824572563', 'rank': 3}, {'id': 'triglav_c3:46', 'cpxq': 'Avtomobil imam na lizing. Tudi zavarovanje imam urejeno preko lizing podjetja. Ali to zavarovanje lahko vključim v svoj Triglav komplet?\n",
      "Triglav komplet v Terjatve / plačila\n",
      "KLJUČNE BESEDE: ', 'tiid': '47', 'value': '0.151032686234', 'rank': 4}, {'id': 'triglav_c3:275', 'cpxq': 'Ali lahko sklenem zavarovanje tudi kadarkoli med letom?\n",
      "Nezgodna zavarovanja v Zavarovalne police\n",
      "Nezgodno zavarovanje otrok in mladine\n",
      "KLJUČNE BESEDE: sklepanje, nezgodno zavarovanje otrok in mladine, akcijska ponudba', 'tiid': '276', 'value': '0.152361571789', 'rank': 5}, {'id': 'triglav_c3:100', 'cpxq': 'Za polico, ki jo sklepam 2022, se gleda razlika med 2021 in 2020? Vendar v tem primeru, ko sklepam to polico, vozilo še ni opravilo tehničnega pregleda in posledično v eMRLVju ni letošnjega stanja?\n",
      "Zavarovanja vozil v Zavarovalne police\n",
      "Zavarovanje avtomobilske odgovornosti (obvezno avtomobilsko zavarovanje)\n",
      "KLJUČNE BESEDE: ', 'tiid': '101', 'value': '0.152637004852', 'rank': 6}, {'id': 'triglav_c3:190', 'cpxq': 'Zakaj ne morem skleniti nezgodnega zavarovanja mladih na spletu?\n",
      "Nezgodna zavarovanja v Zavarovalne police\n",
      "Nezgodno zavarovanje Pazi name\n",
      "KLJUČNE BESEDE: sklenitev preko spleta, online, permanentno zavarovanje, avtomatska obnova, nezgodno zavarovanje mladih', 'tiid': '191', 'value': '0.15369451046', 'rank': 7}, {'id': 'triglav_c3:407', 'cpxq': 'Ali me je kontaktiral vaš zastopnik?\n",
      "Informacije glede obiska agenta/zastopnika v Splošne informacije \n",
      "KLJUČNE BESEDE: obisk agenta, zastopnika, obisk svetovalca, triglav svetovanje, tris', 'tiid': '408', 'value': '0.155272960663', 'rank': 8}, {'id': 'triglav_c3:112', 'cpxq': 'Ukinja se doplačila za nadomestna vozila – v primeru avto vleke, ki opravlja storitev avto vleke, rabi ali ne to storitev?\n",
      "Zavarovanja vozil v Zavarovalne police\n",
      "Zavarovanje avtomobilske odgovornosti (obvezno avtomobilsko zavarovanje)\n",
      "KLJUČNE BESEDE: ', 'tiid': '113', 'value': '0.156291544437', 'rank': 9}, {'id': 'triglav_c3:47', 'cpxq': 'Preko spleta smo sklenili letno zavarovanje potovanj v tujino, ki prične veljati šele čez teden dni. Ali zavarovanje lahko vključim v Triglav komplet?\n",
      "Triglav komplet v Terjatve / plačila\n",
      "KLJUČNE BESEDE: ', 'tiid': '48', 'value': '0.156547427177', 'rank': 10}]\n",
      "------\n",
      "OUTPUT:\n"
     ]
    }
   ],
   "source": [
    "print(test_prompt_rewriten)"
   ]
  },
  {
   "cell_type": "code",
   "execution_count": 82,
   "metadata": {},
   "outputs": [],
   "source": [
    "prompt_output = gpt4_call(test_prompt_good_acualy_bad).content"
   ]
  },
  {
   "cell_type": "code",
   "execution_count": 71,
   "metadata": {},
   "outputs": [
    {
     "name": "stdout",
     "output_type": "stream",
     "text": [
      "{\"cpxq\": \"Kaj lahko dodatno zavarujem?\", \"tiid\": 156, \"value\": 0.148824572563, \"rank\": 3, \"confidence\": 85}\n",
      "Explanation: The problem statement mentions that the client received a call regarding additional services, but they switched their insurance company for supplementary insurance to Generali half a year ago. The best match for this problem is the label with \"cpxq\": \"Kaj lahko dodatno zavarujem?\" as it talks about additional insurance coverage and is related to insurance policies, which is the relevant context for this problem. The confidence of 85 means that the match is fairly certain.\n"
     ]
    }
   ],
   "source": [
    "print(prompt_output)"
   ]
  },
  {
   "cell_type": "code",
   "execution_count": 28,
   "metadata": {},
   "outputs": [
    {
     "name": "stdout",
     "output_type": "stream",
     "text": [
      "-----------------------GPT4---------------------------\n",
      "{\"id\": \"triglav_c3:407\", \"cpxq\": \"Ali me je kontaktiral vaš zastopnik?\\nInformacije glede obiska agenta/zastopnika v Splošne informacije \\nKLJUČNE BESEDE: obisk agenta, zastopnika, obisk svetovalca, triglav svetovanje, tris\", \"tiid\": \"408\", \"value\": \"0.155272960663\", \"rank\": 8}\n",
      "-----------------------GPT4---------------------------\n",
      "{\"id\": \"triglav_c3:407\", \"cpxq\": \"Ali me je kontaktiral vaš zastopnik?\\nInformacije glede obiska agenta/zastopnika v Splošne informacije \\nKLJUČNE BESEDE: obisk agenta, zastopnika, obisk svetovalca, triglav svetovanje, tris\", \"tiid\": \"408\", \"value\": \"0.155272960663\", \"rank\": 8}\n",
      "-----------------------GPT4---------------------------\n",
      "{\"id\": \"triglav_c3:407\", \"cpxq\": \"Ali me je kontaktiral vaš zastopnik?\\nInformacije glede obiska agenta/zastopnika v Splošne informacije \\nKLJUČNE BESEDE: obisk agenta, zastopnika, obisk svetovalca, triglav svetovanje, tris\", \"tiid\": \"408\", \"value\": \"0.155272960663\", \"rank\": 8}\n",
      "-----------------------GPT4---------------------------\n",
      "{\n",
      "  \"id\": \"triglav_c3:407\",\n",
      "  \"cpxq\": \"Ali me je kontaktiral vaš zastopnik?\\nInformacije glede obiska agenta/zastopnika v Splošne informacije\\nKLJUČNE BESEDE: obisk agenta, zastopnika, obisk svetovalca, triglav svetovanje, tris\",\n",
      "  \"tiid\": \"408\",\n",
      "  \"value\": \"0.155272960663\",\n",
      "  \"rank\": 8\n",
      "}\n",
      "-----------------------GPT4---------------------------\n",
      "None of the labels match the problem\n",
      "-----------------------GPT4---------------------------\n",
      "{\"id\": \"triglav_c3:407\", \"cpxq\": \"Ali me je kontaktiral vaš zastopnik?\\nInformacije glede obiska agenta/zastopnika v Splošne informacije \\nKLJUČNE BESEDE: obisk agenta, zastopnika, obisk svetovalca, triglav svetovanje, tris\", \"tiid\": \"408\", \"value\": \"0.155272960663\", \"rank\": 8}\n"
     ]
    }
   ],
   "source": [
    "for i in range(6):\n",
    "\n",
    "    print(\"-----------------------GPT4---------------------------\")\n",
    "    prompt_output = gpt4_call(test_prompt_rewriten).content\n",
    "    print(prompt_output)"
   ]
  },
  {
   "cell_type": "code",
   "execution_count": 18,
   "metadata": {},
   "outputs": [
    {
     "name": "stdout",
     "output_type": "stream",
     "text": [
      "-----------------------GPT3---------------------------\n",
      "None of the lables match the problem.\n",
      "-----------------------GPT3---------------------------\n",
      "None of the lables match the problem.\n",
      "-----------------------GPT3---------------------------\n",
      "None of the labels match the problem.\n",
      "-----------------------GPT3---------------------------\n",
      "None of the labels match the problem.\n",
      "-----------------------GPT3---------------------------\n",
      "None of the lables match the problem.\n",
      "-----------------------GPT3---------------------------\n",
      "None of the lables match the problem.\n"
     ]
    }
   ],
   "source": [
    "for i in range(6):\n",
    "\n",
    "    print(\"-----------------------GPT3---------------------------\")\n",
    "    prompt_output = gpt3_call(test_prompt_rewriten).content\n",
    "    print(prompt_output)"
   ]
  },
  {
   "cell_type": "code",
   "execution_count": null,
   "metadata": {},
   "outputs": [],
   "source": [
    "keyword_prompt = f\"\"\"Consider the following email, keywords genereted from email and a JSON of actual avaliable keywords.\n",
    "From the avaliable content, find the most relevant keywords from the JSON. The most relevant kewords are the ones that best describes the email and match the generated keywords best. Avaliable keywords are in a JSON format and given in a random order.\n",
    "------\n",
    "Email:\n",
    "{email}\n",
    "Generated keywords:\n",
    "{gen_keywords}\n",
    "Avaliable keywords:\n",
    "{avaliable_keywords}\n",
    "------\n",
    "OUTPUT:\n",
    "\"\"\""
   ]
  }
 ],
 "metadata": {
  "kernelspec": {
   "display_name": "Python 3",
   "language": "python",
   "name": "python3"
  },
  "language_info": {
   "codemirror_mode": {
    "name": "ipython",
    "version": 3
   },
   "file_extension": ".py",
   "mimetype": "text/x-python",
   "name": "python",
   "nbconvert_exporter": "python",
   "pygments_lexer": "ipython3",
   "version": "3.9.2"
  },
  "orig_nbformat": 4
 },
 "nbformat": 4,
 "nbformat_minor": 2
}
