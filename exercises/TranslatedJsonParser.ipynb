{
 "cells": [
  {
   "cell_type": "code",
   "execution_count": 3,
   "metadata": {},
   "outputs": [
    {
     "name": "stdout",
     "output_type": "stream",
     "text": [
      "Data has been successfully written to TranslatedCSV.csv\n"
     ]
    }
   ],
   "source": [
    "import json\n",
    "import csv\n",
    "\n",
    "# Load JSON data from file\n",
    "with open('[DND[TaxonomyGPTranslated-All-new.txt', 'r') as file:\n",
    "    data = json.load(file)\n",
    "\n",
    "# Define the CSV headers\n",
    "headers = [\"id\", \"level1\", \"level2\", \"level3\", \"level3a\", \"question\", \"keywords\"]\n",
    "\n",
    "# Open a CSV file for writing\n",
    "with open('TranslatedCSV.csv', 'w', newline='') as file:\n",
    "    writer = csv.DictWriter(file, fieldnames=headers, delimiter=';')\n",
    "\n",
    "    # Write the headers to the CSV file\n",
    "    writer.writeheader()\n",
    "\n",
    "    # Loop through the JSON data\n",
    "    for entry in data:\n",
    "        # Check if keywords is a list, if not initialize as an empty string\n",
    "        keywords = entry.get('keywords')\n",
    "        if keywords and isinstance(keywords, list):\n",
    "            # Convert the list of keywords to a string\n",
    "            entry['keywords'] = ', '.join(keywords)\n",
    "        else:\n",
    "            entry['keywords'] = ''\n",
    "\n",
    "        # Write the entry to the CSV file\n",
    "        writer.writerow(entry)\n",
    "\n",
    "print('Data has been successfully written to TranslatedCSV.csv')\n"
   ]
  },
  {
   "cell_type": "code",
   "execution_count": 4,
   "metadata": {},
   "outputs": [
    {
     "name": "stdout",
     "output_type": "stream",
     "text": [
      "Data has been successfully written to TranslatedData.xlsx\n"
     ]
    }
   ],
   "source": [
    "import json\n",
    "import pandas as pd\n",
    "\n",
    "# Load JSON data from file\n",
    "with open('[DND[TaxonomyGPTranslated-All-new.txt', 'r') as file:\n",
    "    data = json.load(file)\n",
    "\n",
    "# Loop through the JSON data\n",
    "for entry in data:\n",
    "    # Check if keywords is a list, if not initialize as an empty string\n",
    "    keywords = entry.get('keywords')\n",
    "    if keywords and isinstance(keywords, list):\n",
    "        # Convert the list of keywords to a string\n",
    "        entry['keywords'] = ', '.join(keywords)\n",
    "    else:\n",
    "        entry['keywords'] = ''\n",
    "\n",
    "# Convert the data to a pandas DataFrame\n",
    "df = pd.DataFrame(data)\n",
    "\n",
    "# Write the DataFrame to an Excel file\n",
    "df.to_excel('TranslatedData.xlsx', index=False)\n",
    "\n",
    "print('Data has been successfully written to TranslatedData.xlsx')\n"
   ]
  },
  {
   "cell_type": "code",
   "execution_count": null,
   "metadata": {},
   "outputs": [],
   "source": []
  }
 ],
 "metadata": {
  "kernelspec": {
   "display_name": "Python 3",
   "language": "python",
   "name": "python3"
  },
  "language_info": {
   "codemirror_mode": {
    "name": "ipython",
    "version": 3
   },
   "file_extension": ".py",
   "mimetype": "text/x-python",
   "name": "python",
   "nbconvert_exporter": "python",
   "pygments_lexer": "ipython3",
   "version": "3.9.2"
  },
  "orig_nbformat": 4
 },
 "nbformat": 4,
 "nbformat_minor": 2
}
